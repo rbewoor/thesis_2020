{
 "cells": [
  {
   "cell_type": "markdown",
   "metadata": {
    "id": "H7LoMj4GA4n_"
   },
   "source": [
    "# Notebook found in this link: https://minimaxir.com/2019/09/howto-gpt2/\n",
    "# How To Make Custom AI-Generated Text With GPT-2\n",
    "\n",
    "#  Train a GPT-2 Text-Generating Model w/ GPU For Free \n",
    "\n",
    "by [Max Woolf](http://minimaxir.com)\n",
    "\n",
    "*Last updated: November 10th, 2019*\n",
    "\n",
    "Retrain an advanced text generating neural network on any text dataset **for free on a GPU using Collaboratory** using `gpt-2-simple`!\n",
    "\n",
    "For more about `gpt-2-simple`, you can visit [this GitHub repository](https://github.com/minimaxir/gpt-2-simple). You can also read my [blog post](https://minimaxir.com/2019/09/howto-gpt2/) for more information how to use this notebook!\n"
   ]
  },
  {
   "cell_type": "code",
   "execution_count": 1,
   "metadata": {
    "colab": {
     "base_uri": "https://localhost:8080/",
     "height": 163
    },
    "id": "KBkpRgBCBS2_",
    "outputId": "76f39bb7-c8ae-4605-92a2-0f5694744de4"
   },
   "outputs": [
    {
     "name": "stdout",
     "output_type": "stream",
     "text": [
      "TensorFlow 1.x selected.\n",
      "WARNING:tensorflow:\n",
      "The TensorFlow contrib module will not be included in TensorFlow 2.0.\n",
      "For more information, please see:\n",
      "  * https://github.com/tensorflow/community/blob/master/rfcs/20180907-contrib-sunset.md\n",
      "  * https://github.com/tensorflow/addons\n",
      "  * https://github.com/tensorflow/io (for I/O related ops)\n",
      "If you depend on functionality not listed there, please file an issue.\n",
      "\n"
     ]
    }
   ],
   "source": [
    "%tensorflow_version 1.x\n",
    "!pip install -q gpt-2-simple\n",
    "import gpt_2_simple as gpt2\n",
    "from datetime import datetime"
   ]
  },
  {
   "cell_type": "code",
   "execution_count": 2,
   "metadata": {
    "colab": {
     "base_uri": "https://localhost:8080/",
     "height": 33
    },
    "id": "2FE3Xl0du_1E",
    "outputId": "43783163-f6a2-41f6-d4e6-63ed8b7de1ba"
   },
   "outputs": [
    {
     "name": "stdout",
     "output_type": "stream",
     "text": [
      "Mounted at /content/drive\n"
     ]
    }
   ],
   "source": [
    "import os\n",
    "import pickle\n",
    "import shutil\n",
    "from google.colab import drive\n",
    "drive.flush_and_unmount()\n",
    "drive.mount('/content/drive')"
   ]
  },
  {
   "cell_type": "code",
   "execution_count": 3,
   "metadata": {
    "id": "djC1PB3Yu_4F"
   },
   "outputs": [],
   "source": [
    "WORK_DIR = r'/content/drive/My Drive/ThesisStoryGen/Data/StoryGen/GPT2_1/'\n",
    "DATA_IN_DIR = r'/content/drive/My Drive/ThesisStoryGen/Data/StoryGen/CBT/'"
   ]
  },
  {
   "cell_type": "code",
   "execution_count": 4,
   "metadata": {
    "colab": {
     "base_uri": "https://localhost:8080/",
     "height": 33
    },
    "id": "aKp-R9WZxLaP",
    "outputId": "8fc1dd7d-0741-4690-94c8-ccb4b1e70ec0"
   },
   "outputs": [
    {
     "name": "stdout",
     "output_type": "stream",
     "text": [
      "/content\n"
     ]
    }
   ],
   "source": [
    "!pwd"
   ]
  },
  {
   "cell_type": "code",
   "execution_count": 5,
   "metadata": {
    "colab": {
     "base_uri": "https://localhost:8080/",
     "height": 163
    },
    "id": "RFq5JYANo-Qf",
    "outputId": "51e85187-b9ed-42a1-c69c-d2d4ad1a1263"
   },
   "outputs": [
    {
     "name": "stdout",
     "output_type": "stream",
     "text": [
      "cbtest_CN_test_2500ex_OUT.txt\tcbt_train_OUT.txt\n",
      "cbtest_CN_valid_2000ex_OUT.txt\tcbt_valid_OUT.txt\n",
      "cbtest_NE_test_2500ex_OUT.txt\tcheckpoint\n",
      "cbtest_NE_valid_2000ex_OUT.txt\tcheckpoint_run2.tar\n",
      "cbtest_P_test_2500ex_OUT.txt\tdrive\n",
      "cbtest_P_valid_2000ex_OUT.txt\tmodels\n",
      "cbtest_V_test_2500ex_OUT.txt\tsample_data\n",
      "cbtest_V_valid_2000ex_OUT.txt\tsamples\n",
      "cbt_test_OUT.txt\n"
     ]
    }
   ],
   "source": [
    "!ls"
   ]
  },
  {
   "cell_type": "code",
   "execution_count": 6,
   "metadata": {
    "colab": {
     "base_uri": "https://localhost:8080/",
     "height": 261
    },
    "id": "fOwV6abHkE2Z",
    "outputId": "d5cc396b-2bc1-4346-d208-16097e528e46"
   },
   "outputs": [
    {
     "data": {
      "text/plain": [
       "['cbtest_CN_test_2500ex_OUT.txt',\n",
       " 'cbtest_CN_train_OUT.txt',\n",
       " 'cbtest_CN_valid_2000ex_OUT.txt',\n",
       " 'cbtest_NE_test_2500ex_OUT.txt',\n",
       " 'cbtest_NE_train_OUT.txt',\n",
       " 'cbtest_NE_valid_2000ex_OUT.txt',\n",
       " 'cbtest_P_test_2500ex_OUT.txt',\n",
       " 'cbtest_P_train_OUT.txt',\n",
       " 'cbtest_P_valid_2000ex_OUT.txt',\n",
       " 'cbtest_V_test_2500ex_OUT.txt',\n",
       " 'cbtest_V_train_OUT.txt',\n",
       " 'cbtest_V_valid_2000ex_OUT.txt',\n",
       " 'cbt_test_OUT.txt',\n",
       " 'cbt_train_OUT.txt',\n",
       " 'cbt_valid_OUT.txt']"
      ]
     },
     "execution_count": 6,
     "metadata": {
      "tags": []
     },
     "output_type": "execute_result"
    }
   ],
   "source": [
    "os.listdir(DATA_IN_DIR)"
   ]
  },
  {
   "cell_type": "code",
   "execution_count": null,
   "metadata": {
    "id": "71xZM4QchrYN"
   },
   "outputs": [],
   "source": []
  },
  {
   "cell_type": "markdown",
   "metadata": {
    "id": "k0Uf-V58hqQ5"
   },
   "source": [
    "## GPU\n",
    "\n",
    "Colaboratory uses either a Nvidia T4 GPU or an Nvidia K80 GPU. The T4 is slightly faster than the old K80 for training GPT-2, and has more memory allowing you to train the larger GPT-2 models and generate more text.\n",
    "\n",
    "You can verify which GPU is active by running the cell below."
   ]
  },
  {
   "cell_type": "code",
   "execution_count": 7,
   "metadata": {
    "colab": {
     "base_uri": "https://localhost:8080/",
     "height": 342
    },
    "id": "bm3yilulxZX8",
    "outputId": "5f8b396c-6ca2-46dd-a8f7-db93d7b5f856"
   },
   "outputs": [
    {
     "name": "stdout",
     "output_type": "stream",
     "text": [
      "Mon Oct 26 12:47:16 2020       \n",
      "+-----------------------------------------------------------------------------+\n",
      "| NVIDIA-SMI 455.23.05    Driver Version: 418.67       CUDA Version: 10.1     |\n",
      "|-------------------------------+----------------------+----------------------+\n",
      "| GPU  Name        Persistence-M| Bus-Id        Disp.A | Volatile Uncorr. ECC |\n",
      "| Fan  Temp  Perf  Pwr:Usage/Cap|         Memory-Usage | GPU-Util  Compute M. |\n",
      "|                               |                      |               MIG M. |\n",
      "|===============================+======================+======================|\n",
      "|   0  Tesla T4            Off  | 00000000:00:04.0 Off |                    0 |\n",
      "| N/A   73C    P8    12W /  70W |      0MiB / 15079MiB |      0%      Default |\n",
      "|                               |                      |                 ERR! |\n",
      "+-------------------------------+----------------------+----------------------+\n",
      "                                                                               \n",
      "+-----------------------------------------------------------------------------+\n",
      "| Processes:                                                                  |\n",
      "|  GPU   GI   CI        PID   Type   Process name                  GPU Memory |\n",
      "|        ID   ID                                                   Usage      |\n",
      "|=============================================================================|\n",
      "|  No running processes found                                                 |\n",
      "+-----------------------------------------------------------------------------+\n"
     ]
    }
   ],
   "source": [
    "!nvidia-smi"
   ]
  },
  {
   "cell_type": "code",
   "execution_count": null,
   "metadata": {
    "id": "pvVsqBgUxZbV"
   },
   "outputs": [],
   "source": []
  },
  {
   "cell_type": "markdown",
   "metadata": {
    "id": "0wXB05bPDYxS"
   },
   "source": [
    "## Downloading GPT-2 - FRESH\n",
    "\n",
    "If you're retraining a model on new text, you need to download the GPT-2 model first. \n",
    "\n",
    "There are three released sizes of GPT-2:\n",
    "\n",
    "* `124M` (default): the \"small\" model, 500MB on disk.\n",
    "* `355M`: the \"medium\" model, 1.5GB on disk.\n",
    "* `774M`: the \"large\" model, cannot currently be finetuned with Colaboratory but can be used to generate text from the pretrained model (see later in Notebook)\n",
    "* `1558M`: the \"extra large\", true model. Will not work if a K80 GPU is attached to the notebook. (like `774M`, it cannot be finetuned).\n",
    "\n",
    "Larger models have more knowledge, but take longer to finetune and longer to generate text. You can specify which base model to use by changing `model_name` in the cells below.\n",
    "\n",
    "The next cell downloads it from Google Cloud Storage and saves it in the Colaboratory VM at `/models/<model_name>`.\n",
    "\n",
    "This model isn't permanently saved in the Colaboratory VM; you'll have to redownload it if you want to retrain it at a later time."
   ]
  },
  {
   "cell_type": "code",
   "execution_count": 7,
   "metadata": {
    "colab": {
     "base_uri": "https://localhost:8080/",
     "height": 131
    },
    "id": "P8wSlgXoDPCR",
    "outputId": "963506a2-e02b-41f8-9ec9-00f75d888da0"
   },
   "outputs": [
    {
     "name": "stderr",
     "output_type": "stream",
     "text": [
      "Fetching checkpoint: 1.05Mit [00:00, 457Mit/s]                                                      \n",
      "Fetching encoder.json: 1.05Mit [00:00, 112Mit/s]                                                    \n",
      "Fetching hparams.json: 1.05Mit [00:00, 561Mit/s]                                                    \n",
      "Fetching model.ckpt.data-00000-of-00001: 1.42Git [00:08, 163Mit/s]                                  \n",
      "Fetching model.ckpt.index: 1.05Mit [00:00, 368Mit/s]                                                \n",
      "Fetching model.ckpt.meta: 1.05Mit [00:00, 101Mit/s]                                                 \n",
      "Fetching vocab.bpe: 1.05Mit [00:00, 161Mit/s]                                                       \n"
     ]
    }
   ],
   "source": [
    "gpt2.download_gpt2(model_name=\"355M\")"
   ]
  },
  {
   "cell_type": "code",
   "execution_count": null,
   "metadata": {
    "id": "MDgwnV9IZN5x"
   },
   "outputs": [],
   "source": []
  },
  {
   "cell_type": "markdown",
   "metadata": {
    "id": "F5TaZUWfszOO"
   },
   "source": [
    "## Re-Load a Trained Model Checkpoint\n",
    "\n",
    "Running the next cell will copy the `.rar` checkpoint file from your Google Drive into the Colaboratory VM."
   ]
  },
  {
   "cell_type": "code",
   "execution_count": null,
   "metadata": {
    "id": "X1TIc_GJstJb"
   },
   "outputs": [],
   "source": [
    "gpt2.copy_checkpoint_from_gdrive(run_name='run2')"
   ]
  },
  {
   "cell_type": "code",
   "execution_count": null,
   "metadata": {
    "colab": {
     "base_uri": "https://localhost:8080/",
     "height": 33
    },
    "id": "0wXt5cUSxEoh",
    "outputId": "2464775d-9959-4da3-af54-761a16748c05"
   },
   "outputs": [
    {
     "name": "stdout",
     "output_type": "stream",
     "text": [
      "run1\n"
     ]
    }
   ],
   "source": [
    "!ls ./checkpoint/"
   ]
  },
  {
   "cell_type": "code",
   "execution_count": null,
   "metadata": {
    "colab": {
     "base_uri": "https://localhost:8080/",
     "height": 98
    },
    "id": "Wi7bcLdYxEsA",
    "outputId": "2176d6b3-fb34-4449-ca20-9da9305b6e4e"
   },
   "outputs": [
    {
     "name": "stdout",
     "output_type": "stream",
     "text": [
      "checkpoint\t\t\t\t     hparams.json\n",
      "counter\t\t\t\t\t     model-10000.data-00000-of-00001\n",
      "encoder.json\t\t\t\t     model-10000.index\n",
      "events.out.tfevents.1603544264.838e6a004e1d  model-10000.meta\n",
      "events.out.tfevents.1603545553.838e6a004e1d  vocab.bpe\n"
     ]
    }
   ],
   "source": [
    "!ls ./checkpoint/run2/"
   ]
  },
  {
   "cell_type": "markdown",
   "metadata": {
    "id": "0eO2L5T9xpw1"
   },
   "source": [
    "Delete the checkpoint rar file from VM"
   ]
  },
  {
   "cell_type": "code",
   "execution_count": null,
   "metadata": {
    "colab": {
     "base_uri": "https://localhost:8080/",
     "height": 33
    },
    "id": "VZlrbnjfxhs_",
    "outputId": "06e065c1-fb27-49b7-b1b6-16c26b89c91c"
   },
   "outputs": [
    {
     "name": "stdout",
     "output_type": "stream",
     "text": [
      "checkpoint  checkpoint_run1.tar  drive\tsample_data\n"
     ]
    }
   ],
   "source": [
    "!ls"
   ]
  },
  {
   "cell_type": "code",
   "execution_count": null,
   "metadata": {
    "id": "Ijc6AFGuxkei"
   },
   "outputs": [],
   "source": [
    "!rm ./checkpoint_run1.tar"
   ]
  },
  {
   "cell_type": "code",
   "execution_count": null,
   "metadata": {
    "colab": {
     "base_uri": "https://localhost:8080/",
     "height": 33
    },
    "id": "0wVvxlTFxkhe",
    "outputId": "fa0f75ce-0a9c-40eb-b8fb-b019c60ecc8f"
   },
   "outputs": [
    {
     "name": "stdout",
     "output_type": "stream",
     "text": [
      "checkpoint  drive  sample_data\n"
     ]
    }
   ],
   "source": [
    "!ls"
   ]
  },
  {
   "cell_type": "code",
   "execution_count": null,
   "metadata": {
    "id": "bNCOmgJdxHo7"
   },
   "outputs": [],
   "source": []
  },
  {
   "cell_type": "markdown",
   "metadata": {
    "id": "Sw14ELVJs8EU"
   },
   "source": [
    "The next cell will allow you to load the retrained model checkpoint + metadata necessary to generate text.\n",
    "\n",
    "**IMPORTANT NOTE:** If you want to rerun this cell, **restart the VM first** (Runtime -> Restart Runtime). You will need to rerun imports but not recopy files."
   ]
  },
  {
   "cell_type": "code",
   "execution_count": null,
   "metadata": {
    "colab": {
     "base_uri": "https://localhost:8080/",
     "height": 50
    },
    "id": "rdW8WnePstMf",
    "outputId": "5a89d02e-131a-46d7-8f56-b80c32cf12b4"
   },
   "outputs": [
    {
     "name": "stdout",
     "output_type": "stream",
     "text": [
      "Loading checkpoint checkpoint/run1/model-10000\n",
      "INFO:tensorflow:Restoring parameters from checkpoint/run1/model-10000\n"
     ]
    }
   ],
   "source": [
    "#sess = gpt2.start_tf_sess()\n",
    "#gpt2.load_gpt2(sess, run_name='run1')"
   ]
  },
  {
   "cell_type": "code",
   "execution_count": null,
   "metadata": {
    "id": "s8lhA-fqvGuX"
   },
   "outputs": [],
   "source": []
  },
  {
   "cell_type": "markdown",
   "metadata": {
    "id": "rLoNF0_TZPSn"
   },
   "source": [
    "## Setup input file"
   ]
  },
  {
   "cell_type": "code",
   "execution_count": 8,
   "metadata": {
    "colab": {
     "base_uri": "https://localhost:8080/",
     "height": 33
    },
    "id": "6OFnPCLADfll",
    "outputId": "41b87b03-6f41-42e4-8e5b-33bfaa8e5224"
   },
   "outputs": [
    {
     "name": "stdout",
     "output_type": "stream",
     "text": [
      "True\n"
     ]
    }
   ],
   "source": [
    "#FILE_FOR_TRAINING = DATA_IN_DIR + r\"cbt_valid_OUT.txt\"  ## File 1 , 1.2mb\n",
    "#FILE_FOR_TRAINING = DATA_IN_DIR + r\"cbt_test_OUT.txt\"  ## File 2 , 1.5mb\n",
    "#FILE_FOR_TRAINING = DATA_IN_DIR + r\"cbtest_V_valid_2000ex_OUT.txt\"  ## File 3 , 4.3mb\n",
    "#FILE_FOR_TRAINING = DATA_IN_DIR + r\"cbtest_V_test_2500ex_OUT.txt\"  ## File 4 , 5.4mb\n",
    "#FILE_FOR_TRAINING = DATA_IN_DIR + r\"cbtest_P_valid_2000ex_OUT.txt\"  ## File 5 , 4.5mb\n",
    "#FILE_FOR_TRAINING = DATA_IN_DIR + r\"cbtest_P_test_2500ex_OUT.txt\"  ## File 6 , 5.7mb\n",
    "#FILE_FOR_TRAINING = DATA_IN_DIR + r\"cbtest_NE_valid_2000ex_OUT.txt\"  ## File 7 , 4.1mb\n",
    "#FILE_FOR_TRAINING = DATA_IN_DIR + r\"cbtest_NE_test_2500ex_OUT.txt\"  ## File 8 , 5.3mb\n",
    "#FILE_FOR_TRAINING = DATA_IN_DIR + r\"cbtest_CN_valid_2000ex_OUT.txt\"  ## File 9 , 4.4mb\n",
    "#FILE_FOR_TRAINING = DATA_IN_DIR + r\"cbtest_CN_test_2500ex_OUT.txt\"  ## File 10 , 5.8mb\n",
    "FILE_FOR_TRAINING = DATA_IN_DIR + r\"cbt_train_OUT.txt\"  ## File 11 , 25.2mb\n",
    "\n",
    "print(os.path.exists(FILE_FOR_TRAINING))"
   ]
  },
  {
   "cell_type": "code",
   "execution_count": 9,
   "metadata": {
    "colab": {
     "base_uri": "https://localhost:8080/",
     "height": 115
    },
    "id": "olHI2Riipgg9",
    "outputId": "7b9fc1ed-5739-41dc-b22c-9c475619f4f6"
   },
   "outputs": [
    {
     "name": "stdout",
     "output_type": "stream",
     "text": [
      "cbtest_CN_test_2500ex_OUT.txt\tcbtest_V_test_2500ex_OUT.txt   drive\n",
      "cbtest_CN_valid_2000ex_OUT.txt\tcbtest_V_valid_2000ex_OUT.txt  models\n",
      "cbtest_NE_test_2500ex_OUT.txt\tcbt_test_OUT.txt\t       sample_data\n",
      "cbtest_NE_valid_2000ex_OUT.txt\tcbt_valid_OUT.txt\t       samples\n",
      "cbtest_P_test_2500ex_OUT.txt\tcheckpoint\n",
      "cbtest_P_valid_2000ex_OUT.txt\tcheckpoint_run2.tar\n"
     ]
    }
   ],
   "source": [
    "!ls"
   ]
  },
  {
   "cell_type": "markdown",
   "metadata": {
    "id": "LAw_Kt4Ioi8q"
   },
   "source": [
    "Author recommends: If your text file is larger than 10MB, it is recommended to upload that file to Google Drive first, then copy that file from Google Drive to the Colaboratory VM."
   ]
  },
  {
   "cell_type": "code",
   "execution_count": 10,
   "metadata": {
    "colab": {
     "base_uri": "https://localhost:8080/",
     "height": 33
    },
    "id": "YFGkGp08ofwS",
    "outputId": "39db872d-1aef-429f-e85e-5c6c6a0311c9"
   },
   "outputs": [
    {
     "name": "stdout",
     "output_type": "stream",
     "text": [
      "Copied /content/drive/My Drive/ThesisStoryGen/Data/StoryGen/CBT/cbt_train_OUT.txt\n"
     ]
    }
   ],
   "source": [
    "try:\n",
    "  shutil.copyfile(FILE_FOR_TRAINING, r'./' + os.path.basename(FILE_FOR_TRAINING))\n",
    "  print(f\"Copied {FILE_FOR_TRAINING}\")\n",
    "except Exception as e:\n",
    "  print(f\"ERROR: Message = {e}\")"
   ]
  },
  {
   "cell_type": "code",
   "execution_count": 11,
   "metadata": {
    "colab": {
     "base_uri": "https://localhost:8080/",
     "height": 163
    },
    "id": "DThLbjetofzd",
    "outputId": "c2158896-d83c-4abd-e39f-85560046f3d5"
   },
   "outputs": [
    {
     "name": "stdout",
     "output_type": "stream",
     "text": [
      "cbtest_CN_test_2500ex_OUT.txt\tcbt_train_OUT.txt\n",
      "cbtest_CN_valid_2000ex_OUT.txt\tcbt_valid_OUT.txt\n",
      "cbtest_NE_test_2500ex_OUT.txt\tcheckpoint\n",
      "cbtest_NE_valid_2000ex_OUT.txt\tcheckpoint_run2.tar\n",
      "cbtest_P_test_2500ex_OUT.txt\tdrive\n",
      "cbtest_P_valid_2000ex_OUT.txt\tmodels\n",
      "cbtest_V_test_2500ex_OUT.txt\tsample_data\n",
      "cbtest_V_valid_2000ex_OUT.txt\tsamples\n",
      "cbt_test_OUT.txt\n"
     ]
    }
   ],
   "source": [
    "!ls"
   ]
  },
  {
   "cell_type": "code",
   "execution_count": null,
   "metadata": {
    "id": "wY56AIQ9qi3q"
   },
   "outputs": [],
   "source": []
  },
  {
   "cell_type": "markdown",
   "metadata": {
    "id": "yxrCfRNCZEG1"
   },
   "source": [
    "## Finetune GPT-2 - SUBSEQUENT TRAINING RUNS\n",
    "\n",
    "The next cell will start the actual finetuning of GPT-2. It creates a persistent TensorFlow session which stores the training config, then runs the training for the specified number of `steps`. (to have the finetuning run indefinitely, set `steps = -1`)\n",
    "\n",
    "The model checkpoints will be saved in `/checkpoint/run1` by default. The checkpoints are saved every 500 steps (can be changed) and when the cell is stopped.\n",
    "\n",
    "The training might time out after 4ish hours; make sure you end training and save the results so you don't lose them!\n",
    "\n",
    "**IMPORTANT NOTE:** If you want to rerun this cell, **restart the VM first** (Runtime -> Restart Runtime). You will need to rerun imports but not recopy files.\n",
    "\n",
    "Other optional-but-helpful parameters for `gpt2.finetune`:\n",
    "\n",
    "\n",
    "*  **`restore_from`**: Set to `fresh` to start training from the base GPT-2, or set to `latest` to restart training from an existing checkpoint.\n",
    "* **`sample_every`**: Number of steps to print example output\n",
    "* **`print_every`**: Number of steps to print training progress.\n",
    "* **`learning_rate`**:  Learning rate for the training. (default `1e-4`, can lower to `1e-5` if you have <1MB input data)\n",
    "*  **`run_name`**: subfolder within `checkpoint` to save the model. This is useful if you want to work with multiple models (will also need to specify  `run_name` when loading the model)\n",
    "* **`overwrite`**: Set to `True` if you want to continue finetuning an existing model (w/ `restore_from='latest'`) without creating duplicate copies. "
   ]
  },
  {
   "cell_type": "code",
   "execution_count": 9,
   "metadata": {
    "colab": {
     "base_uri": "https://localhost:8080/",
     "height": 35
    },
    "id": "hgKnxHiEZDFR",
    "outputId": "a8810c36-10d6-4075-d30e-d493dc665e3e"
   },
   "outputs": [
    {
     "data": {
      "application/vnd.google.colaboratory.intrinsic+json": {
       "type": "string"
      },
      "text/plain": [
       "'cbt_train_OUT.txt'"
      ]
     },
     "execution_count": 9,
     "metadata": {
      "tags": []
     },
     "output_type": "execute_result"
    }
   ],
   "source": [
    "file_name = os.path.basename(FILE_FOR_TRAINING)\n",
    "file_name"
   ]
  },
  {
   "cell_type": "code",
   "execution_count": 10,
   "metadata": {
    "id": "qqRUS0gvfWW1"
   },
   "outputs": [],
   "source": [
    "sess = gpt2.start_tf_sess()"
   ]
  },
  {
   "cell_type": "code",
   "execution_count": null,
   "metadata": {
    "id": "MlRc5u7afYHP"
   },
   "outputs": [],
   "source": []
  },
  {
   "cell_type": "markdown",
   "metadata": {
    "id": "yBWm4BNfosxy"
   },
   "source": [
    "## RUN 2 - FILE 2 - r\"cbt_test_OUT.txt\"  - File 2 , 1.5mb"
   ]
  },
  {
   "cell_type": "code",
   "execution_count": 14,
   "metadata": {
    "colab": {
     "base_uri": "https://localhost:8080/",
     "height": 1000
    },
    "id": "YZ8jGtwcZDIJ",
    "outputId": "4b4a5bde-42d4-40cd-ef75-a64b935a7de0"
   },
   "outputs": [
    {
     "name": "stdout",
     "output_type": "stream",
     "text": [
      "WARNING:tensorflow:From /usr/local/lib/python3.6/dist-packages/gpt_2_simple/src/sample.py:17: where (from tensorflow.python.ops.array_ops) is deprecated and will be removed in a future version.\n",
      "Instructions for updating:\n",
      "Use tf.where in 2.0, which has the same broadcast rule as np.where\n",
      "WARNING:tensorflow:From /usr/local/lib/python3.6/dist-packages/gpt_2_simple/src/memory_saving_gradients.py:62: get_backward_walk_ops (from tensorflow.contrib.graph_editor.select) is deprecated and will be removed after 2019-06-06.\n",
      "Instructions for updating:\n",
      "Please use tensorflow.python.ops.op_selector.get_backward_walk_ops.\n",
      "Loading checkpoint checkpoint/run2/model-1500\n",
      "INFO:tensorflow:Restoring parameters from checkpoint/run2/model-1500\n"
     ]
    },
    {
     "name": "stderr",
     "output_type": "stream",
     "text": [
      "\r",
      "  0%|          | 0/1 [00:00<?, ?it/s]"
     ]
    },
    {
     "name": "stdout",
     "output_type": "stream",
     "text": [
      "Loading dataset...\n"
     ]
    },
    {
     "name": "stderr",
     "output_type": "stream",
     "text": [
      "100%|██████████| 1/1 [00:01<00:00,  1.95s/it]\n"
     ]
    },
    {
     "name": "stdout",
     "output_type": "stream",
     "text": [
      "dataset has 373907 tokens\n",
      "Training...\n",
      "Saving checkpoint/run2/model-1500\n",
      "Saving checkpoint/run2/model-1500\n",
      "[1550 | 127.61] loss=2.25 avg=2.25\n",
      "[1600 | 209.89] loss=2.51 avg=2.38\n",
      "[1650 | 292.38] loss=2.92 avg=2.56\n",
      "[1700 | 374.78] loss=2.95 avg=2.66\n",
      "[1750 | 457.38] loss=2.80 avg=2.69\n",
      "[1800 | 540.06] loss=2.25 avg=2.61\n",
      "[1850 | 622.65] loss=1.98 avg=2.52\n",
      "[1900 | 705.15] loss=1.09 avg=2.33\n",
      "[1950 | 787.62] loss=3.28 avg=2.44\n",
      "[2000 | 870.30] loss=1.30 avg=2.32\n",
      "[2050 | 952.77] loss=1.02 avg=2.20\n",
      "[2100 | 1035.39] loss=1.48 avg=2.14\n",
      "[2150 | 1117.91] loss=2.30 avg=2.15\n",
      "[2200 | 1200.56] loss=1.55 avg=2.10\n",
      "[2250 | 1283.26] loss=2.42 avg=2.13\n",
      "[2300 | 1365.81] loss=1.79 avg=2.10\n",
      "[2350 | 1448.41] loss=1.10 avg=2.04\n",
      "[2400 | 1530.95] loss=1.89 avg=2.03\n",
      "[2450 | 1613.60] loss=1.30 avg=1.99\n",
      "[2500 | 1696.25] loss=1.09 avg=1.94\n",
      "[2550 | 1778.85] loss=0.88 avg=1.88\n",
      "[2600 | 1861.46] loss=0.97 avg=1.84\n",
      "[2650 | 1944.07] loss=0.93 avg=1.79\n",
      "[2700 | 2026.60] loss=0.37 avg=1.73\n",
      "[2750 | 2109.16] loss=0.41 avg=1.67\n",
      "[2800 | 2191.62] loss=0.81 avg=1.63\n",
      "======== SAMPLE 1 ========\n",
      ", and he had a very handsome figure, and he had a goatee, round about the neck, and the word GOAT means good, ugly, dirty, out-of-place.\n",
      "He was also so short that he had to stoop very low, and he had to stoop very low -- you know that it means nothing but ---- and he had to walk at a prodigious pace, running backwards over things, or jumping two or three feet in the air, just to keep from falling.\n",
      "When he thought he was well off, he would lie down and get lost in thought ; but, otherwise, he ran as hard as he could go, and ran.\n",
      "He could run up walls, with no fall, and he was so quick with his feet that he almost jumped out of the window, and ran round and round, and he kept jumping up and down, with an involuntary tap going out from him, like a pigeon, as he bumped and bumped.\n",
      "Harry could not help noticing how quickly this was done, but he did not feel brave for fear of being run over by a gander.\n",
      "Presently he began to feel very thirsty, and he wondered very much whether he would have to drink now, or not.\n",
      "Drink!\n",
      "he repeated after himself, as if dancing through a puddle.\n",
      "`` Drink to me for the first time, -LSB- I say this with an awful lot of hope for better luck yet!\n",
      "I am not thirsty any longer, -RSB- but I wish for water . ''\n",
      "-LSB- For, you know, it is very difficult to say `` drink '' when you are not thirsty . -RSB-\n",
      "`` Drink, I tell you, '' answered Harry miserably.\n",
      "`` That is the worst thing you can do.\n",
      "Run away with you, or I shall get you some damn good meal, and then you should not follow me.\n",
      "It is neither justice nor prudence to ask . ''\n",
      "`` No, '' interrupted Dan.\n",
      "`` I will drink, anyway, if you will only let me drink, '' said Harry, frowning and throwing a hand into the puddle.\n",
      "`` Well, if you wo n't take me back, you must not expect anything better . ''\n",
      "`` Take me with you, '' said Dan gloomily.\n",
      "`` It sounds as good a plan as anything I have ever concocted in my whole life.\n",
      "You stand five feet on the floor, and step two is to throw you from the window.\n",
      "Do try it on if you are brave enough.\n",
      "I dare say you can make an anchor by the end of it.\n",
      "Oh, I give your hand the rope, it is as strong as my head.\n",
      "I will tie it to the line on the house, and you can come and get me some water, if you want . ''\n",
      "`` That is not the way, '' interrupted Harry, with an idle look at Dan.\n",
      "`` They have had a swim.\n",
      "We have no chance yet . ''\n",
      "`` What do you mean by 's ' nothing ? ''\n",
      "demanded Dan gloomily.\n",
      "`` What do you mean by *nothing ? ''\n",
      "demanded Harry coolly.\n",
      "`` I mean by that, `` replied Dan, `` that you would not have any chance until you BOVE MISSIONARILY in the line . ''\n",
      "`` That is not what I mean, '' said Harry, `` and I have heard those with eyes to come up for it from time to time.\n",
      "I am very sorry for that old boy, but if you will come out with me, you will have to sit behind me, because I have nothing to carry.\n",
      "But you must come in with an empty stomach, and step two I will show you . ''\n",
      "The three fellows went with him into the sea, and made for the cliffs by the sea.\n",
      "There they sat and drank all day, whereas the one who had been out in the main in the warm water, and who had not drank another drop, wailed pitifully in her.\n",
      "They tied her to the ship with a number of shoals of drift, and when night came came in and they all went to sleep, a little one from the other and a fair one from old Harry, who was getting very tired of seeing the eyes of orphans and very hungry fellows lying on the cold sand in the porthole of the ship.\n",
      "So they did, even old Harry, who had never before seen such a pool as the one beneath the two swimming fellows.\n",
      "`` This is the pool for my little sister, '' said Old Harry, with a shiver, `` although she cannot swim like I do, if she has the smallest bit of swim.\n",
      "If I had it all, she could be nearly as good as the first time round.\n",
      "But that will not be enough, for she is a lowly child!\n",
      "Well, I will tell you what will make\n",
      "\n",
      "[2850 | 2298.21] loss=1.09 avg=1.61\n",
      "[2900 | 2381.19] loss=0.68 avg=1.57\n",
      "[2950 | 2464.40] loss=0.13 avg=1.51\n",
      "[3000 | 2547.38] loss=1.44 avg=1.51\n",
      "Saving checkpoint/run2/model-3000\n",
      "WARNING:tensorflow:From /tensorflow-1.15.2/python3.6/tensorflow_core/python/training/saver.py:963: remove_checkpoint (from tensorflow.python.training.checkpoint_management) is deprecated and will be removed in a future version.\n",
      "Instructions for updating:\n",
      "Use standard file APIs to delete files with this prefix.\n"
     ]
    }
   ],
   "source": [
    "#FILE_FOR_TRAINING = DATA_IN_DIR + r\"cbt_test_OUT.txt\"  ## File 2 , 1.5mb\n",
    "\n",
    "gpt2.finetune(sess,\n",
    "              dataset=file_name,\n",
    "              model_name='355M',\n",
    "              steps=1500,\n",
    "              restore_from='latest', # fresh to start from baseline GTP-2 , else latest to restarting training from existing checkpoint\n",
    "              overwrite=True,\n",
    "              run_name='run2',\n",
    "              print_every=50,\n",
    "              sample_every=1400,\n",
    "              save_every=1500\n",
    "              )"
   ]
  },
  {
   "cell_type": "code",
   "execution_count": null,
   "metadata": {
    "id": "vQgvXF-rZDLQ"
   },
   "outputs": [],
   "source": []
  },
  {
   "cell_type": "markdown",
   "metadata": {
    "id": "yVMchx6-oRJO"
   },
   "source": [
    "## RUN 2 - FILE 3 - r\"cbtest_V_valid_2000ex_OUT.txt\"  - File 3 , 4.3mb"
   ]
  },
  {
   "cell_type": "code",
   "execution_count": 14,
   "metadata": {
    "colab": {
     "base_uri": "https://localhost:8080/",
     "height": 1000
    },
    "id": "RPJWANDQfcM_",
    "outputId": "5bee1f44-3fd6-4dce-fdfe-e0ce3d99ae25"
   },
   "outputs": [
    {
     "name": "stdout",
     "output_type": "stream",
     "text": [
      "WARNING:tensorflow:From /usr/local/lib/python3.6/dist-packages/gpt_2_simple/src/sample.py:17: where (from tensorflow.python.ops.array_ops) is deprecated and will be removed in a future version.\n",
      "Instructions for updating:\n",
      "Use tf.where in 2.0, which has the same broadcast rule as np.where\n",
      "WARNING:tensorflow:From /usr/local/lib/python3.6/dist-packages/gpt_2_simple/src/memory_saving_gradients.py:62: get_backward_walk_ops (from tensorflow.contrib.graph_editor.select) is deprecated and will be removed after 2019-06-06.\n",
      "Instructions for updating:\n",
      "Please use tensorflow.python.ops.op_selector.get_backward_walk_ops.\n",
      "Loading checkpoint checkpoint/run2/model-3000\n",
      "INFO:tensorflow:Restoring parameters from checkpoint/run2/model-3000\n"
     ]
    },
    {
     "name": "stderr",
     "output_type": "stream",
     "text": [
      "\r",
      "  0%|          | 0/1 [00:00<?, ?it/s]"
     ]
    },
    {
     "name": "stdout",
     "output_type": "stream",
     "text": [
      "Loading dataset...\n"
     ]
    },
    {
     "name": "stderr",
     "output_type": "stream",
     "text": [
      "100%|██████████| 1/1 [00:04<00:00,  4.62s/it]\n"
     ]
    },
    {
     "name": "stdout",
     "output_type": "stream",
     "text": [
      "dataset has 1081880 tokens\n",
      "Training...\n",
      "Saving checkpoint/run2/model-3000\n",
      "Saving checkpoint/run2/model-3000\n",
      "[3050 | 127.32] loss=1.31 avg=1.31\n",
      "[3100 | 209.89] loss=1.30 avg=1.31\n",
      "[3150 | 292.69] loss=1.01 avg=1.21\n",
      "[3200 | 375.57] loss=1.11 avg=1.18\n",
      "[3250 | 458.33] loss=0.61 avg=1.07\n",
      "[3300 | 541.16] loss=1.01 avg=1.06\n",
      "[3350 | 623.82] loss=0.35 avg=0.95\n",
      "[3400 | 706.60] loss=0.21 avg=0.86\n",
      "[3450 | 789.32] loss=0.25 avg=0.79\n",
      "[3500 | 872.14] loss=0.87 avg=0.80\n",
      "[3550 | 954.86] loss=0.50 avg=0.77\n",
      "[3600 | 1037.74] loss=0.33 avg=0.73\n",
      "[3650 | 1120.51] loss=0.51 avg=0.71\n",
      "[3700 | 1203.39] loss=0.68 avg=0.71\n",
      "[3750 | 1286.19] loss=0.52 avg=0.70\n",
      "[3800 | 1368.84] loss=0.74 avg=0.70\n",
      "[3850 | 1451.72] loss=0.47 avg=0.68\n",
      "[3900 | 1534.41] loss=0.19 avg=0.65\n",
      "[3950 | 1617.22] loss=0.22 avg=0.63\n",
      "[4000 | 1699.94] loss=0.29 avg=0.61\n",
      "[4050 | 1782.77] loss=0.25 avg=0.59\n",
      "[4100 | 1865.57] loss=0.26 avg=0.57\n",
      "[4150 | 1948.19] loss=0.39 avg=0.57\n",
      "[4200 | 2030.92] loss=0.27 avg=0.55\n",
      "======== SAMPLE 1 ========\n",
      " I said ? ''\n",
      "The King started for the stables, but the negro swaggered off into the woods, laughing.\n",
      "` This must be the way of it !'\n",
      "murmured he, glancing behind me.\n",
      "So I rambled past him into the stables, where I heard the moveless girl repeating to her mother : ` What DID I tell you?\n",
      "How did you XXXXX her ?\tsee\t\t's|belonged|cried|felt|hearing|heard|knew|leave|seeing|seen|took\n",
      "`` Let us think of it then -- they will think you have no taste, '' said Dan sarcastically.\n",
      "`` Not very funny, '' answered the Story Girl, `` but I like it.\n",
      "I can make names for things I like.\n",
      "Just think of what a beautiful title it would be -- I could feel it in my heart . ''\n",
      "`` You have no taste, my dear, '' said Felicity, coming up, `` and that is why people insult you and call you worthless ; but if you write a treatise on song it will be of no use whatever . ''\n",
      "`` It would be my title, '' I said, thinking of the Rose Book, which everyone knows I wrote.\n",
      "`` Why, it would be your title, too, '' asked Felicity, coming up, `` and that is why I chose it . ''\n",
      "`` Why not tell me what it was, instead, ? ''\n",
      "said Dan, coming up after me with a great deal of ceremony.\n",
      "`` I felt it in my heart that you should be mad as I am the twain of them all.\n",
      "Why, why, it seemed as if you were XXXXX mad as me . '' '\tcalled\t\tadvised|asked|called|cried|know|ordered|said|suppose|write\n",
      "In my grave lies only a goat.\n",
      "So take heart . '''\n",
      "Then Dschemil turned to his family and said : ` Is this true?\n",
      "and has Dschemila not stolen my goats ?'\n",
      "` Have they found their flocks, or is it a joke on her part ?'\n",
      "` No doubt a joke, ' replied they, ` but what she has done with them I am quite sure ; and if she will mind I will pluck them up and bring them home to her mother .'\n",
      "` That is just what I would like to know, ' said Dschemil, ` and here is the woman 's shawl torn about my head .'\n",
      "` That is exactly what it was, ' replied her mother, who was weeping with them ; but she let them go and they were immediately seized by the demon 's power.\n",
      "` Here is the woman 's shawl, ' continued Dschemil,, clasping the shawl, ` and on it are two hymn books, one of which is much older than the other, and these I will sell to you for seven hundred sequins.\n",
      "If you have pity on me you can tell my sister everything about me, and she will some day.\n",
      "For now her mother shall stay with me, and when I have recovered, you will find her in a desert place, weeping .'\n",
      "` That I will not, ' said the two brothers, who were determined to go on with the service, and were quite determined not to XXXXX at the spectacle .\tsucceed\t\tbrave|cremon|emphatically|following|kill|loved|placed|removed|remarked|take\n",
      "He must have fallen on the road, or she would have seen him for the first time just as the sun was setting behind the pines .'\n",
      "I wonder if she will wear the blue silk dress, ' said the Story Girl ; but she doubted it, for she could not see the point in it.\n",
      "Somehow she saw the tie of the green silk dipped in its redness, and now, clad in such a dress, no one could tell where she stood.\n",
      "` Are not you afraid the mirror will reflect too ?'\n",
      "asked Dschemil.\n",
      "` No, I am not afraid -- at least, not then, ' answered the Story Girl, waving her hand cheerfully.\n",
      "` It is so lovely to think of all that has happened in the last few days, and to be a part of it all.\n",
      "I am so glad you have found happiness, and I am glad I have found you, ' she said, ` because now let us go back to the palace, and tell the queen what a fine bride she will have for her wife .'\n",
      "` Oh, yes, I know what she shall say, ' replied Dschemil ; ` and she shall go at once to her room and tell him the bridegroom is in her arms.\n",
      "Then, softly\n",
      "\n",
      "[4250 | 2137.85] loss=0.30 avg=0.54\n",
      "[4300 | 2220.94] loss=0.19 avg=0.53\n",
      "[4350 | 2304.15] loss=0.37 avg=0.52\n",
      "[4400 | 2387.15] loss=0.24 avg=0.51\n",
      "[4450 | 2470.22] loss=0.22 avg=0.50\n",
      "[4500 | 2553.36] loss=0.22 avg=0.48\n",
      "Saving checkpoint/run2/model-4500\n",
      "WARNING:tensorflow:From /tensorflow-1.15.2/python3.6/tensorflow_core/python/training/saver.py:963: remove_checkpoint (from tensorflow.python.training.checkpoint_management) is deprecated and will be removed in a future version.\n",
      "Instructions for updating:\n",
      "Use standard file APIs to delete files with this prefix.\n"
     ]
    }
   ],
   "source": [
    "#FILE_FOR_TRAINING = DATA_IN_DIR + r\"cbtest_V_valid_2000ex_OUT.txt\"  ## File 3 , 4.3mb\n",
    "\n",
    "gpt2.finetune(sess,\n",
    "              dataset=file_name,\n",
    "              model_name='355M',\n",
    "              steps=1500,\n",
    "              restore_from='latest', # fresh to start from baseline GTP-2 , else latest to restarting training from existing checkpoint\n",
    "              overwrite=True,\n",
    "              run_name='run2',\n",
    "              print_every=50,\n",
    "              sample_every=1400,\n",
    "              save_every=1500\n",
    "              )"
   ]
  },
  {
   "cell_type": "code",
   "execution_count": null,
   "metadata": {
    "id": "n262mXrffcQX"
   },
   "outputs": [],
   "source": []
  },
  {
   "cell_type": "markdown",
   "metadata": {
    "id": "5ZYiZ4Nmo_Mf"
   },
   "source": [
    "## RUN 2 - FILE 4 - r\"cbtest_V_test_2500ex_OUT.txt\"  - File 4 , 5.4mb"
   ]
  },
  {
   "cell_type": "code",
   "execution_count": 14,
   "metadata": {
    "colab": {
     "base_uri": "https://localhost:8080/",
     "height": 1000
    },
    "id": "3ZdA-C87o8qx",
    "outputId": "16ac7866-d272-40f4-d331-7df4b897afae"
   },
   "outputs": [
    {
     "name": "stdout",
     "output_type": "stream",
     "text": [
      "WARNING:tensorflow:From /usr/local/lib/python3.6/dist-packages/gpt_2_simple/src/sample.py:17: where (from tensorflow.python.ops.array_ops) is deprecated and will be removed in a future version.\n",
      "Instructions for updating:\n",
      "Use tf.where in 2.0, which has the same broadcast rule as np.where\n",
      "WARNING:tensorflow:From /usr/local/lib/python3.6/dist-packages/gpt_2_simple/src/memory_saving_gradients.py:62: get_backward_walk_ops (from tensorflow.contrib.graph_editor.select) is deprecated and will be removed after 2019-06-06.\n",
      "Instructions for updating:\n",
      "Please use tensorflow.python.ops.op_selector.get_backward_walk_ops.\n",
      "Loading checkpoint checkpoint/run2/model-4500\n",
      "INFO:tensorflow:Restoring parameters from checkpoint/run2/model-4500\n"
     ]
    },
    {
     "name": "stderr",
     "output_type": "stream",
     "text": [
      "\r",
      "  0%|          | 0/1 [00:00<?, ?it/s]"
     ]
    },
    {
     "name": "stdout",
     "output_type": "stream",
     "text": [
      "Loading dataset...\n"
     ]
    },
    {
     "name": "stderr",
     "output_type": "stream",
     "text": [
      "100%|██████████| 1/1 [00:06<00:00,  6.25s/it]\n"
     ]
    },
    {
     "name": "stdout",
     "output_type": "stream",
     "text": [
      "dataset has 1376928 tokens\n",
      "Training...\n",
      "Saving checkpoint/run2/model-4500\n",
      "Saving checkpoint/run2/model-4500\n",
      "[4550 | 127.29] loss=1.54 avg=1.54\n",
      "[4600 | 209.78] loss=1.17 avg=1.36\n",
      "[4650 | 292.43] loss=0.44 avg=1.05\n",
      "[4700 | 375.02] loss=0.86 avg=1.00\n",
      "[4750 | 457.78] loss=0.50 avg=0.90\n",
      "[4800 | 540.48] loss=0.53 avg=0.83\n",
      "[4850 | 623.12] loss=0.71 avg=0.82\n",
      "[4900 | 705.86] loss=0.90 avg=0.83\n",
      "[4950 | 788.48] loss=0.52 avg=0.79\n",
      "[5000 | 871.29] loss=0.76 avg=0.79\n",
      "[5050 | 954.00] loss=0.56 avg=0.77\n",
      "[5100 | 1036.65] loss=0.40 avg=0.73\n",
      "[5150 | 1119.29] loss=0.62 avg=0.72\n",
      "[5200 | 1201.91] loss=0.49 avg=0.71\n",
      "[5250 | 1284.67] loss=0.39 avg=0.68\n",
      "[5300 | 1367.36] loss=0.83 avg=0.69\n",
      "[5350 | 1450.12] loss=0.33 avg=0.67\n",
      "[5400 | 1532.82] loss=0.34 avg=0.65\n",
      "[5450 | 1615.49] loss=0.63 avg=0.65\n",
      "[5500 | 1698.16] loss=0.24 avg=0.63\n",
      "[5550 | 1780.87] loss=0.51 avg=0.62\n",
      "[5600 | 1863.60] loss=0.73 avg=0.63\n",
      "======== SAMPLE 1 ========\n",
      " had the most difficult matter quite easily managed.\n",
      "` Well, I hope that, ' said he, ` we have all got so far that we wo n't need a negro to stir our feathers any more, and that the meal will go on better than ever .'\n",
      "And so he drank his fill.\n",
      "When he had finished the potion, he looked at his ring, and perceived that there was a large number of ducats.\n",
      "` That is quite enough for now, ' thought poor Saphir, ` and I will sit down and do my bit, too .'\n",
      "So he was sitting in the most comfortable of recliners, and everybody there seemed to enjoy playing chess pieces, or tending sheep to and fro.\n",
      "About half a hour after they had all sat down, the horse approached, and the fair-haired lad sat down just as Saphir was.\n",
      "The lad took the potion every hour, and every day had a beautiful meal ready for him.\n",
      "It was delicious!\n",
      "And at night, when the lad was a little tired, he laid himself down in the middle of the room, and fell sound asleep.\n",
      "When day dawned, the lad again rose up, and drove the horse into the field.\n",
      "The following morning the lad said to his wife : ` Now we should really be getting somewhere ; for yesterday we were farmers, and now we were not even farmers myself, but merely keepers of the house .'\n",
      "And his wife, having made up his mind to do so, XXXXX him a pretty little dress .\tsaid\t\tcame|come|fetch|gone|holding|know|reached|said|sit\n",
      "The King said, ` You are old, I know ; but will you come to my ball this evening?\n",
      "I am going to give you a bushel of money, and I will see you there .'\n",
      "And speaking of the money, he inquired who it was that she possessed.\n",
      "` Well, I am, ' said Poor Pat 's mother, ' a poor Englishman on the run ; but where is the money that you always grudge yourself to give up?\n",
      "I will see to it that the house is filled, and if you are poor I will have something to eat .'\n",
      "So poor Pat went scolding up and down stairs till he was caught by a big Croak and locked it into a big barrel.\n",
      "In the barrel was a little dark-eyed kitten which had a queer look, and it begged for something to eat.\n",
      "Poor Pat shook it all about, and thought it was a very wicked kitten.\n",
      "But when it begged for a nickel, Pat gave it to it.\n",
      "Then the little kitty got into a little porch chamber and begged for a bushel of money.\n",
      "` Where is my reward ?'\n",
      "said Poor Pat.\n",
      "` My reward will be a horse, ' answered the horse, ` and I will gallop off and bring you home .'\n",
      "So the little kitty got home and lived happily with the Prince.\n",
      "He had a horse to ride to the ball, a girth to tie round his neck, a couple of bushels of money to spend on himself, and a great many lovers ; indeed, many a many lovers.\n",
      "Poor Pat lived to his ripe old age, but his lovers loved him still, and they made him very happy.\n",
      "THE HAZEL-NUT CHEESE FACT A Sussex fisherman lived to a very old age, although he did not so much as eat properly to live on.\n",
      "He had a daughter, who was nearly eighteen years old when she was taken ill with a vicious illness, and very much feared he would not live through his years.\n",
      "To placate her the father gave her a very attractive purse with a face as white as jasper, and an old and beautiful shepherd 's crook on which a bird had sang to her all those years.\n",
      "The Darling children loved the purse and all the jewels in it, and there was so much delicious green in it that the old mother could no longer keep it from her daughter.\n",
      "Therefore she XXXXX the purse and her memories of it ; and when the purse was found close to the ground at the foot of the poplar, she made a big cardboard cut-out of it just as the real thing was.\n",
      "When the three were all together, they drew up a table in which they had all gathered, and this they fastened round her neck, so that her mouth could not get out of it .\tmade\t\tcome|knew|loved|lived|opened|ran|rest|saw|scorned\n",
      "In a moment the cat on the roadside was joined to the other cats in the yard, and they all sprang round her, and played up and down the garden, nosing and snorting.\n",
      "Very soon the moon came up, and the old witch took her away to burn to death.\n",
      "The\n",
      "\n",
      "[5650 | 1971.79] loss=0.40 avg=0.62\n",
      "[5700 | 2054.88] loss=0.36 avg=0.60\n",
      "[5750 | 2138.25] loss=0.24 avg=0.59\n",
      "[5800 | 2221.37] loss=0.89 avg=0.60\n",
      "[5850 | 2304.62] loss=0.28 avg=0.59\n",
      "[5900 | 2387.72] loss=0.14 avg=0.57\n",
      "[5950 | 2470.91] loss=0.22 avg=0.55\n",
      "[6000 | 2554.14] loss=0.33 avg=0.55\n",
      "Saving checkpoint/run2/model-6000\n",
      "WARNING:tensorflow:From /tensorflow-1.15.2/python3.6/tensorflow_core/python/training/saver.py:963: remove_checkpoint (from tensorflow.python.training.checkpoint_management) is deprecated and will be removed in a future version.\n",
      "Instructions for updating:\n",
      "Use standard file APIs to delete files with this prefix.\n"
     ]
    }
   ],
   "source": [
    "#FILE_FOR_TRAINING = DATA_IN_DIR + r\"cbtest_V_test_2500ex_OUT.txt\"  ## File 4 , 5.4mb\n",
    "\n",
    "gpt2.finetune(sess,\n",
    "              dataset=file_name,\n",
    "              model_name='355M',\n",
    "              steps=1500,\n",
    "              restore_from='latest', # fresh to start from baseline GTP-2 , else latest to restarting training from existing checkpoint\n",
    "              overwrite=True,\n",
    "              run_name='run2',\n",
    "              print_every=50,\n",
    "              sample_every=1400,\n",
    "              save_every=1500\n",
    "              )"
   ]
  },
  {
   "cell_type": "code",
   "execution_count": null,
   "metadata": {
    "id": "-vWt6UGbo8t8"
   },
   "outputs": [],
   "source": []
  },
  {
   "cell_type": "markdown",
   "metadata": {
    "id": "tWCjmP72pUgJ"
   },
   "source": [
    "## RUN 2 - FILE 5 - r\"cbtest_P_valid_2000ex_OUT.txt\"  - File 5 , 4.5mb"
   ]
  },
  {
   "cell_type": "code",
   "execution_count": 14,
   "metadata": {
    "colab": {
     "base_uri": "https://localhost:8080/",
     "height": 1000
    },
    "id": "FZfZEK22ZDN4",
    "outputId": "2fc26feb-e4c2-43d6-fe02-2d66f90629b6"
   },
   "outputs": [
    {
     "name": "stdout",
     "output_type": "stream",
     "text": [
      "WARNING:tensorflow:From /usr/local/lib/python3.6/dist-packages/gpt_2_simple/src/sample.py:17: where (from tensorflow.python.ops.array_ops) is deprecated and will be removed in a future version.\n",
      "Instructions for updating:\n",
      "Use tf.where in 2.0, which has the same broadcast rule as np.where\n",
      "WARNING:tensorflow:From /usr/local/lib/python3.6/dist-packages/gpt_2_simple/src/memory_saving_gradients.py:62: get_backward_walk_ops (from tensorflow.contrib.graph_editor.select) is deprecated and will be removed after 2019-06-06.\n",
      "Instructions for updating:\n",
      "Please use tensorflow.python.ops.op_selector.get_backward_walk_ops.\n",
      "Loading checkpoint checkpoint/run2/model-6000\n",
      "INFO:tensorflow:Restoring parameters from checkpoint/run2/model-6000\n"
     ]
    },
    {
     "name": "stderr",
     "output_type": "stream",
     "text": [
      "\r",
      "  0%|          | 0/1 [00:00<?, ?it/s]"
     ]
    },
    {
     "name": "stdout",
     "output_type": "stream",
     "text": [
      "Loading dataset...\n"
     ]
    },
    {
     "name": "stderr",
     "output_type": "stream",
     "text": [
      "100%|██████████| 1/1 [00:05<00:00,  5.13s/it]\n"
     ]
    },
    {
     "name": "stdout",
     "output_type": "stream",
     "text": [
      "dataset has 1121806 tokens\n",
      "Training...\n",
      "Saving checkpoint/run2/model-6000\n",
      "Saving checkpoint/run2/model-6000\n",
      "[6050 | 124.86] loss=0.55 avg=0.55\n",
      "[6100 | 207.37] loss=0.45 avg=0.50\n",
      "[6150 | 290.05] loss=0.78 avg=0.59\n",
      "[6200 | 372.61] loss=0.37 avg=0.54\n",
      "[6250 | 455.21] loss=0.18 avg=0.47\n",
      "[6300 | 537.83] loss=0.30 avg=0.44\n",
      "[6350 | 620.57] loss=0.70 avg=0.48\n",
      "[6400 | 703.10] loss=0.33 avg=0.46\n",
      "[6450 | 785.61] loss=0.14 avg=0.42\n",
      "[6500 | 868.22] loss=0.24 avg=0.40\n",
      "[6550 | 950.90] loss=0.35 avg=0.40\n",
      "[6600 | 1033.38] loss=0.15 avg=0.38\n",
      "[6650 | 1115.90] loss=0.13 avg=0.35\n",
      "[6700 | 1198.61] loss=0.24 avg=0.35\n",
      "[6750 | 1280.99] loss=0.13 avg=0.33\n",
      "[6800 | 1363.46] loss=0.11 avg=0.32\n",
      "[6850 | 1446.10] loss=0.19 avg=0.31\n",
      "[6900 | 1528.75] loss=0.18 avg=0.30\n",
      "[6950 | 1611.48] loss=0.15 avg=0.29\n",
      "[7000 | 1694.13] loss=0.17 avg=0.28\n",
      "======== SAMPLE 1 ========\n",
      " swinto, it must be in the care of some fairy, who will reward us with the most precious things.\n",
      "I am very thankful to the lady who took me in, for she knows me quite well, and has not called for me twice from court -- once before and twice since .'\n",
      "A few days later I found myself at the court of the Fairy Queen, who, thanks to the genius that was within her, had been enchanted with the beauty of the son she had lost.\n",
      "When, after twelve long years, the fairy discovered that the son she had loved was of such poor health that she could not pay the father the three florins she had promised, she laughed at him and referred XXXXX him to the courts of justice .\tto\t\tIn|Since|OF|as|at|because|by|if|in|that\n",
      "For several years Milo paid his dues at the pub with frankness and mild surprise, though this surprise was quite lost on the elder.\n",
      "Milo went to see the last great king, who had long since died, and was enchanted with the sight of the kindly bearded visage, and told the story of his adventures in the new world.\n",
      "The king of the country asked for the same; and in vain did the young man send for the fairy to summon her attendant spirits.\n",
      "At last the fairy gave him a beautiful crystal doll, who, when she had played with him in the pool, had become transformed into the ebony monkey commonly seen in royal chapels.\n",
      "The enchanted youth played his parts as well as ever, and became in the act of carrying the doll to the play-ground.\n",
      "When he had finished it the fairy said : ` Now, the king is in your hands, and must give honourable consideration to your services.\n",
      "But what is a better proof of the success of love than that you should yield to the wishes of the stranger ?'\n",
      "The trumpeter hailed the fairies joyfully, and proclaimed that they deserved the crown ; but on his departure the fairy told him that if he did not return within two weeks she would Beatrix van Beeste, who was in mortal danger of losing her life.\n",
      "This threat was too much for poor Milo, and he grieved for its consequences in a way which the poor princess did not feel at all : he submitted to be married, but only on the condition that he should have one thing in particular reserved for his bride-mother.\n",
      "It was said that she would have a son by her -- a ho!\n",
      "-- and the son was said to be quite a virgin.\n",
      "` Oh, my son, could you not find me a wife more lovely and better looking than the damsel on the bridge ?'\n",
      "said the bride.\n",
      "` Indeed, princess, there is a daughter of my own called Zelida, who is a possession XXXXX us . '\tof\t\tFor|as|at|for|in|on|to|through|with|without\n",
      "There is only one here, and it is so good!\n",
      "I could die holding this -- and the others are not so bad .'\n",
      "` Take me to the man, ' cried Darby, ` and let us have a big loaf of bread.\n",
      "Will you give me a loaf, Darby ?'\n",
      "` Certainly, ' said she, ` if you will help me to wind the mare up.\n",
      "Woe to anyone who tries to poison us with wine, or bread dipped in the blood of it!\n",
      "If you come here a second time, I will kill you !'\n",
      "Then the hares were tied round the roan mare, and Darby tied the tail tight so as to choke it, and told it to the two robbers.\n",
      "In the meantime the cock had flown to the king, who was kneeling by the gate, and said : ` Send at once and tell the queen that her son is dead, and hath flown away.\n",
      "If she does not appear in the evening, I will call on the gardener and the banker .'\n",
      "The robbers were taken in by the robbers, and brought their families with them.\n",
      "The poor old mother did not know what to do, and in despair sat down on the steps and cry bitterly.\n",
      "As she sat thus, her son entered the room.\n",
      "` What is the matter ?'\n",
      "shouted the king.\n",
      "` How dare you attack the place of the dearest things in the world?\n",
      "You have only yourself to blame for your whole race being ruined, and I am only a wanderer who has lost my way.\n",
      "But if you will grant me a single request, you will restore my child to me, and in that case we will both be saved .'\n",
      "Then the king and the queen wept, but they saw there was no escape.\n",
      "So they sent for the two Wise Men, and they answered : ` We are the sons of the Almighty God, who has formed\n",
      "\n",
      "[7050 | 1801.61] loss=0.10 avg=0.27\n",
      "[7100 | 1884.49] loss=0.13 avg=0.27\n",
      "[7150 | 1967.48] loss=0.11 avg=0.26\n",
      "[7200 | 2050.35] loss=0.19 avg=0.26\n",
      "[7250 | 2133.19] loss=0.12 avg=0.25\n",
      "[7300 | 2216.06] loss=0.09 avg=0.24\n",
      "[7350 | 2299.00] loss=0.21 avg=0.24\n",
      "[7400 | 2382.05] loss=0.16 avg=0.24\n",
      "[7450 | 2465.16] loss=0.11 avg=0.23\n",
      "[7500 | 2547.94] loss=0.17 avg=0.23\n",
      "Saving checkpoint/run2/model-7500\n",
      "WARNING:tensorflow:From /tensorflow-1.15.2/python3.6/tensorflow_core/python/training/saver.py:963: remove_checkpoint (from tensorflow.python.training.checkpoint_management) is deprecated and will be removed in a future version.\n",
      "Instructions for updating:\n",
      "Use standard file APIs to delete files with this prefix.\n"
     ]
    }
   ],
   "source": [
    "#FILE_FOR_TRAINING = DATA_IN_DIR + r\"cbtest_P_valid_2000ex_OUT.txt\"  ## File 5 , 4.5mb\n",
    "\n",
    "gpt2.finetune(sess,\n",
    "              dataset=file_name,\n",
    "              model_name='355M',\n",
    "              steps=1500,\n",
    "              restore_from='latest', # fresh to start from baseline GTP-2 , else latest to restarting training from existing checkpoint\n",
    "              overwrite=True,\n",
    "              run_name='run2',\n",
    "              print_every=50,\n",
    "              sample_every=1400,\n",
    "              save_every=1500\n",
    "              )"
   ]
  },
  {
   "cell_type": "code",
   "execution_count": null,
   "metadata": {
    "id": "OfkigQF_pRmi"
   },
   "outputs": [],
   "source": []
  },
  {
   "cell_type": "markdown",
   "metadata": {
    "id": "j6ZN9FBxpWCj"
   },
   "source": [
    "## RUN 2 - FILE 6 - r\"cbtest_P_test_2500ex_OUT.txt\"  - File 6 , 5.7mb"
   ]
  },
  {
   "cell_type": "code",
   "execution_count": 14,
   "metadata": {
    "colab": {
     "base_uri": "https://localhost:8080/",
     "height": 1000
    },
    "id": "PAUX_q6PpRpf",
    "outputId": "74ef1b77-cc43-42e1-aba2-a9a77bc81fd0"
   },
   "outputs": [
    {
     "name": "stdout",
     "output_type": "stream",
     "text": [
      "WARNING:tensorflow:From /usr/local/lib/python3.6/dist-packages/gpt_2_simple/src/sample.py:17: where (from tensorflow.python.ops.array_ops) is deprecated and will be removed in a future version.\n",
      "Instructions for updating:\n",
      "Use tf.where in 2.0, which has the same broadcast rule as np.where\n",
      "WARNING:tensorflow:From /usr/local/lib/python3.6/dist-packages/gpt_2_simple/src/memory_saving_gradients.py:62: get_backward_walk_ops (from tensorflow.contrib.graph_editor.select) is deprecated and will be removed after 2019-06-06.\n",
      "Instructions for updating:\n",
      "Please use tensorflow.python.ops.op_selector.get_backward_walk_ops.\n",
      "Loading checkpoint checkpoint/run2/model-7500\n",
      "INFO:tensorflow:Restoring parameters from checkpoint/run2/model-7500\n"
     ]
    },
    {
     "name": "stderr",
     "output_type": "stream",
     "text": [
      "\r",
      "  0%|          | 0/1 [00:00<?, ?it/s]"
     ]
    },
    {
     "name": "stdout",
     "output_type": "stream",
     "text": [
      "Loading dataset...\n"
     ]
    },
    {
     "name": "stderr",
     "output_type": "stream",
     "text": [
      "100%|██████████| 1/1 [00:06<00:00,  6.31s/it]\n"
     ]
    },
    {
     "name": "stdout",
     "output_type": "stream",
     "text": [
      "dataset has 1424360 tokens\n",
      "Training...\n",
      "Saving checkpoint/run2/model-7500\n",
      "Saving checkpoint/run2/model-7500\n",
      "[7550 | 125.45] loss=0.61 avg=0.61\n",
      "[7600 | 208.00] loss=0.29 avg=0.45\n",
      "[7650 | 290.59] loss=0.37 avg=0.42\n",
      "[7700 | 373.17] loss=0.32 avg=0.39\n",
      "[7750 | 455.87] loss=0.15 avg=0.34\n",
      "[7800 | 538.45] loss=0.48 avg=0.37\n",
      "[7850 | 621.10] loss=0.22 avg=0.35\n",
      "[7900 | 703.55] loss=0.25 avg=0.33\n",
      "[7950 | 786.26] loss=0.12 avg=0.31\n",
      "[8000 | 868.89] loss=0.31 avg=0.31\n",
      "[8050 | 951.61] loss=0.43 avg=0.32\n",
      "[8100 | 1034.15] loss=0.24 avg=0.31\n",
      "[8150 | 1116.71] loss=0.33 avg=0.32\n",
      "[8200 | 1199.38] loss=0.20 avg=0.31\n",
      "[8250 | 1281.98] loss=0.15 avg=0.30\n",
      "[8300 | 1364.68] loss=0.85 avg=0.33\n",
      "[8350 | 1447.31] loss=0.35 avg=0.33\n",
      "[8400 | 1530.04] loss=0.30 avg=0.33\n",
      "======== SAMPLE 1 ========\n",
      " own that great and terrible question.\n",
      "`` Why, '' she said, a little flustered, `` I have never heard it mentioned in a romance before . ''\n",
      "`` If anyone ever wrote a romance, '' said Uncle Abimelech, `` it must be me.\n",
      "Why, it is almost a mystery and a romance -- something that has not happened in a hundred years and suddenly becomes possible.\n",
      "I will tell you what it is : once upon a time there was a princess in her kingdom.\n",
      "She was beautiful and courteous, and the people loved her.\n",
      "Then ... '' `` You are thinking XXXXX something, uncle, '' said Emily .\tof\t\tas|at|for|if|like|of|over|than|through|to\n",
      "`` You all leave the store with two shillings, '' said Mr. Shelmardine briskly.\n",
      "`` Leave the store in one piece, oh brat!\n",
      "As fast as you can!\n",
      "I will have you executed -- in ten minutes ''\n",
      "The locket came loose from her fastening and fell out of his coat without his noticing it.\n",
      "`` Stop talking nonsense, '' he said.\n",
      "`` Those are my children.\n",
      "I took them away from their mother and placed them at your feet.\n",
      "Tell them that I love them dearly and wish you good luck in everything . ''\n",
      "With this he bade me follow him and leave the store.\n",
      "I shall never forget the store.\n",
      "It was a wonderful place and a boy knew a place for every dollar.\n",
      "I was poor then and had occasion to shop there, but I could never live there.\n",
      "There was a hole in the ground and our young Alexander Burton went there and lived there for two years.\n",
      "I shall never forget that wonderful time.\n",
      "I went there for the old, scarce ragged shelter which lay in a little porch room.\n",
      "It was a tiny room but it was grand, with a bed and wardrobe in a neat little room down the ground.\n",
      "I was very glad that we would have the shelter for Christmas Eve.\n",
      "That was when Aunt Winnifred and Grandmother Winnifred came.\n",
      "`` May I be fluffed up today, Polly ? ''\n",
      "They had made a little club, and Mrs. Ralston 's back was to it.\n",
      "`` I shall never forget that I love you XXXXX late at night, '' she said .\tas\t\tas|at|for|if|from|if|of|to|upon\n",
      "`` You will not forget what you are.\n",
      "But I am not going to rush things any more.\n",
      "There is no real time to lose . ''\n",
      "`` I will admit it then, '' said Frances frankly, `` I am tired . ''\n",
      "`` Yours most cordially, AGNES CLARK LESLEY.\n",
      "This letter was sent the previous night and has not been seen by Mr. & Mrs. James for some days.\n",
      "Please excuse my taking so long to send it.\n",
      "I promise never to forget . ''\n",
      "`` I shall be glad of it, '' said Mrs. Baxter drily.\n",
      "`` And for that matter I would like to send you an envelope addressed, sir -- one that has the subject written on it -- and it is yours for the taking.\n",
      "I enclose a note from my own mailbox -- `` a note from my own mailbox, '' returned Frances facetiously -- `` but I know it is there -- oh, sir -- what is in that envelope ? ''\n",
      "`` Something about mys and Mrs. Blake 's going away, '' said Mr. Baxter indignantly.\n",
      "`` When Mrs. Baxter came this way last night I was surprised to see only the surprised face.\n",
      "I suppose she thought my mail had got lost with it . ''\n",
      "`` It does not matter, '' said Frances plainly.\n",
      "`` Yours truly, A GRATEFUL FORFORM LESLEY.\n",
      "I suppose it is too bad XXXXX do this .\tthat\t\tabout|at|from|in|like|of|since|that|to|upon|with\n",
      "`` I am a little surprised at Mr. Cropper, '' she remarked wistfully.\n",
      "`` He seems to like singing in the rain.\n",
      "Just think of what he could have done if he had waited . ''\n",
      "Mr. Cropper 's voice cracked.\n",
      "`` He could have gone right down and asked the teacher what the trouble was, and she would have told him that he would never have been able to learn that thank goodness he was in the kismet . ''\n",
      "Davenport put his hand over his mouth to hide a smile.\n",
      "`` It is a sorry business.\n",
      "I heard a story about Johnny Chuck.\n",
      "He was once leading a flock of sheep in a very vocal and very showy way.\n",
      "He used to do this every day in the pasture.\n",
      "His flock was considered quite lazy and\n",
      "\n",
      "[8450 | 1637.39] loss=0.30 avg=0.33\n",
      "[8500 | 1720.47] loss=0.23 avg=0.32\n",
      "[8550 | 1803.69] loss=0.26 avg=0.32\n",
      "[8600 | 1886.84] loss=0.71 avg=0.34\n",
      "[8650 | 1969.95] loss=0.28 avg=0.34\n",
      "[8700 | 2053.10] loss=0.15 avg=0.33\n",
      "[8750 | 2136.24] loss=0.28 avg=0.33\n",
      "[8800 | 2219.49] loss=0.20 avg=0.32\n",
      "[8850 | 2302.64] loss=0.13 avg=0.31\n",
      "[8900 | 2385.71] loss=0.12 avg=0.31\n",
      "[8950 | 2468.87] loss=0.30 avg=0.31\n",
      "[9000 | 2552.03] loss=0.19 avg=0.30\n",
      "Saving checkpoint/run2/model-9000\n",
      "WARNING:tensorflow:From /tensorflow-1.15.2/python3.6/tensorflow_core/python/training/saver.py:963: remove_checkpoint (from tensorflow.python.training.checkpoint_management) is deprecated and will be removed in a future version.\n",
      "Instructions for updating:\n",
      "Use standard file APIs to delete files with this prefix.\n"
     ]
    }
   ],
   "source": [
    "#FILE_FOR_TRAINING = DATA_IN_DIR + r\"cbtest_P_test_2500ex_OUT.txt\"  ## File 6 , 5.7mb\n",
    "\n",
    "gpt2.finetune(sess,\n",
    "              dataset=file_name,\n",
    "              model_name='355M',\n",
    "              steps=1500,\n",
    "              restore_from='latest', # fresh to start from baseline GTP-2 , else latest to restarting training from existing checkpoint\n",
    "              overwrite=True,\n",
    "              run_name='run2',\n",
    "              print_every=50,\n",
    "              sample_every=1400,\n",
    "              save_every=1500\n",
    "              )"
   ]
  },
  {
   "cell_type": "code",
   "execution_count": null,
   "metadata": {
    "id": "N_0WFa9CpRsp"
   },
   "outputs": [],
   "source": []
  },
  {
   "cell_type": "markdown",
   "metadata": {
    "id": "nNzZ_KsWGEZX"
   },
   "source": [
    "## RUN 2 - FILE 7 - r\"cbtest_NE_valid_2000ex_OUT.txt\"  - File 7 , 4.1mb"
   ]
  },
  {
   "cell_type": "code",
   "execution_count": 14,
   "metadata": {
    "colab": {
     "base_uri": "https://localhost:8080/",
     "height": 1000
    },
    "id": "rxBvyh3MF3Dy",
    "outputId": "bf690fb9-2a0a-4328-8de7-579c4583ca0e"
   },
   "outputs": [
    {
     "name": "stdout",
     "output_type": "stream",
     "text": [
      "WARNING:tensorflow:From /usr/local/lib/python3.6/dist-packages/gpt_2_simple/src/sample.py:17: where (from tensorflow.python.ops.array_ops) is deprecated and will be removed in a future version.\n",
      "Instructions for updating:\n",
      "Use tf.where in 2.0, which has the same broadcast rule as np.where\n",
      "WARNING:tensorflow:From /usr/local/lib/python3.6/dist-packages/gpt_2_simple/src/memory_saving_gradients.py:62: get_backward_walk_ops (from tensorflow.contrib.graph_editor.select) is deprecated and will be removed after 2019-06-06.\n",
      "Instructions for updating:\n",
      "Please use tensorflow.python.ops.op_selector.get_backward_walk_ops.\n",
      "Loading checkpoint checkpoint/run2/model-9000\n",
      "INFO:tensorflow:Restoring parameters from checkpoint/run2/model-9000\n"
     ]
    },
    {
     "name": "stderr",
     "output_type": "stream",
     "text": [
      "\r",
      "  0%|          | 0/1 [00:00<?, ?it/s]"
     ]
    },
    {
     "name": "stdout",
     "output_type": "stream",
     "text": [
      "Loading dataset...\n"
     ]
    },
    {
     "name": "stderr",
     "output_type": "stream",
     "text": [
      "100%|██████████| 1/1 [00:04<00:00,  4.77s/it]\n"
     ]
    },
    {
     "name": "stdout",
     "output_type": "stream",
     "text": [
      "dataset has 1050855 tokens\n",
      "Training...\n",
      "Saving checkpoint/run2/model-9000\n",
      "Saving checkpoint/run2/model-9000\n",
      "[9050 | 127.27] loss=0.43 avg=0.43\n",
      "[9100 | 209.89] loss=0.31 avg=0.37\n",
      "[9150 | 292.65] loss=0.30 avg=0.35\n",
      "[9200 | 375.49] loss=0.39 avg=0.36\n",
      "[9250 | 458.31] loss=0.26 avg=0.34\n",
      "[9300 | 541.13] loss=0.27 avg=0.33\n",
      "[9350 | 623.93] loss=0.43 avg=0.34\n",
      "[9400 | 706.74] loss=0.14 avg=0.32\n",
      "[9450 | 789.56] loss=0.27 avg=0.31\n",
      "[9500 | 872.31] loss=0.31 avg=0.31\n",
      "[9550 | 955.02] loss=0.21 avg=0.30\n",
      "[9600 | 1037.70] loss=0.26 avg=0.30\n",
      "[9650 | 1120.43] loss=0.22 avg=0.29\n",
      "[9700 | 1203.18] loss=0.19 avg=0.28\n",
      "[9750 | 1285.85] loss=0.26 avg=0.28\n",
      "[9800 | 1368.56] loss=0.10 avg=0.27\n",
      "======== SAMPLE 1 ========\n",
      " of the old women he had so snubbed.\n",
      "`` And did you take my bones in exchange for your black child ? ''\n",
      "`` I did, '' said XXXXX .\tScarlet\t\tCreamers|Dee|Ellis|Frewocks|Marr|Scarlet|XII|morning|right\n",
      "But when they arrived at the Horn, the dance was already underway, and before the prince had lost sight of his prize, the snake was turned into a negro.\n",
      "What, however, the prince did at last learn was that after two nights spent in a cage, the negro was put by order in the presence of the prince, and was conducted to the tent of his master.\n",
      "In it he was placed on the floor, and his feet were tied behind him, so that he could not move from the spot.\n",
      "` Without ceremony, ' said the prince, ` do you tie him to this chest and put his portrait on it ?'\n",
      "` Yes, of course, ' replied the negro ; ` this is what I choose .'\n",
      "` And are you going to put his picture on it, too, for I am fond of gentlemen, and would like to show my gratitude .'\n",
      "` It is the easiest thing in the world, ' replied the prince ; ` once you have your name on it, you can tell everyone that you is changed, and it is easy to match wits with it .'\n",
      "` All right, ' replied the negro, and they entered the service of Dschemil.\n",
      "It soon became clear to Dschemil that he was not at all alone, and he drew his sword again.\n",
      "` But what is my reward for my faithlessness, if I deserve it ?'\n",
      "` If you do not, I will kill you .'\n",
      "` Very good, ' cried he.\n",
      "So he went back to his people and told them of their wrongs.\n",
      "-LSB- Illustration : DSCHEMIL FINDS HIS PRIDE -RSB- When they heard what the king had ordered, they were very indignant, and scolded him soundly for making such a mistake.\n",
      "` What is there to be afraid of, my dear subjects, ' they said, ` we are all brothers!\n",
      "No one shall be killed, but you shall have experienced what we have just done to you.\n",
      "And we will never, never forgive you.\n",
      "You all have your deserts to go to, and if you do, you will be sorry for it .'\n",
      "` We all must, ' sobbed Dschemil, ` for there is nothing fiercer than my dagger .'\n",
      "And that was the end of the story, ' I am afraid.\n",
      "I should like to hear her sentence you to death.\n",
      "Give your thanks to the dervish, who saved me .'\n",
      "` My son, ' sobbed Dschemil, ` do you not think that XXXXX should have been executed ?\tkilling\t\tDschemil|Dhk|first|fiercer|left|nineteen|night|questions|tendency\n",
      "You had break their spirits, too, if they had known, and so jest was left for when they broke the windows and went.\n",
      "` Inside there was beauty, ' repeated the ogre, ` as long as one looked on .'\n",
      "` What signal did he give us, ?'\n",
      "` Cast your eyes down !'\n",
      "answered they.\n",
      "` Yes, ' continued the ogre, ` he warned us that if you came near our hickory tree, you would be sorry for it.\n",
      "But you dared not.\n",
      "You were all so frightened at that unexpected question.\n",
      "Well, humour you, '' said he, laughing, ` what do you think of the question?\n",
      "Do you mind the time we bought God 's picture ?'\n",
      "` Who told me that ?'\n",
      "snapped Happy Jack.\n",
      "` If you had asked me, I would have said I had not seen it, '' replied Tommy Tit.\n",
      "`` I believe you are just as easy to fool as Shadow, '' rejoined Happy Jack.\n",
      "CHAPTER XII HAPPY JACK TURNS BURGLAR As trees from little acorns, so Great sums from little pennies grow.\n",
      "Happy Jack.\n",
      "Happy Jack Squirrel stood in front of the old stump into which he had seen Striped Chipmunk go with the pockets in his cheeks full of acorns, and out of which he had come with the pockets of his cheeks quite empty.\n",
      "`` Have a look, '' said he, `` at those two little baby Chucks!\n",
      "They look so puffed up with pride that they hardly know anything is more than a pack of red 's to them.\n",
      "I wonder what they mean by saying that.\n",
      "I believe it is a plain foolish joke, but if they do not mean it I do not believe they know\n",
      "\n",
      "[9850 | 1476.73] loss=0.12 avg=0.26\n",
      "[9900 | 1559.79] loss=0.13 avg=0.25\n",
      "[9950 | 1642.99] loss=0.31 avg=0.25\n",
      "[10000 | 1726.20] loss=0.12 avg=0.25\n",
      "[10050 | 1809.27] loss=0.26 avg=0.25\n",
      "[10100 | 1892.46] loss=0.15 avg=0.24\n",
      "[10150 | 1975.52] loss=0.24 avg=0.24\n",
      "[10200 | 2058.63] loss=0.13 avg=0.24\n",
      "[10250 | 2141.85] loss=0.21 avg=0.24\n",
      "[10300 | 2224.95] loss=0.18 avg=0.23\n",
      "[10350 | 2308.12] loss=0.22 avg=0.23\n",
      "[10400 | 2391.34] loss=0.20 avg=0.23\n",
      "[10450 | 2474.49] loss=0.12 avg=0.23\n",
      "[10500 | 2557.63] loss=0.15 avg=0.23\n",
      "Saving checkpoint/run2/model-10500\n",
      "WARNING:tensorflow:From /tensorflow-1.15.2/python3.6/tensorflow_core/python/training/saver.py:963: remove_checkpoint (from tensorflow.python.training.checkpoint_management) is deprecated and will be removed in a future version.\n",
      "Instructions for updating:\n",
      "Use standard file APIs to delete files with this prefix.\n"
     ]
    }
   ],
   "source": [
    "#FILE_FOR_TRAINING = DATA_IN_DIR + r\"cbtest_NE_valid_2000ex_OUT.txt\"  ## File 7 , 4.1mb\n",
    "\n",
    "gpt2.finetune(sess,\n",
    "              dataset=file_name,\n",
    "              model_name='355M',\n",
    "              steps=1500,\n",
    "              restore_from='latest', # fresh to start from baseline GTP-2 , else latest to restarting training from existing checkpoint\n",
    "              overwrite=True,\n",
    "              run_name='run2',\n",
    "              print_every=50,\n",
    "              sample_every=1400,\n",
    "              save_every=1500\n",
    "              )"
   ]
  },
  {
   "cell_type": "code",
   "execution_count": null,
   "metadata": {
    "id": "uLxL5ynUF3G1"
   },
   "outputs": [],
   "source": []
  },
  {
   "cell_type": "markdown",
   "metadata": {
    "id": "dAiiLIQIGT3s"
   },
   "source": [
    "## RUN 2 - FILE 8 - r\"cbtest_NE_test_2500ex_OUT.txt\"  - File 8 , 5.3mb"
   ]
  },
  {
   "cell_type": "code",
   "execution_count": 14,
   "metadata": {
    "colab": {
     "base_uri": "https://localhost:8080/",
     "height": 1000
    },
    "id": "ZqXNNAWqF3KU",
    "outputId": "2d6c8890-51c7-4354-e6b0-954b0cd3d51c"
   },
   "outputs": [
    {
     "name": "stdout",
     "output_type": "stream",
     "text": [
      "WARNING:tensorflow:From /usr/local/lib/python3.6/dist-packages/gpt_2_simple/src/sample.py:17: where (from tensorflow.python.ops.array_ops) is deprecated and will be removed in a future version.\n",
      "Instructions for updating:\n",
      "Use tf.where in 2.0, which has the same broadcast rule as np.where\n",
      "WARNING:tensorflow:From /usr/local/lib/python3.6/dist-packages/gpt_2_simple/src/memory_saving_gradients.py:62: get_backward_walk_ops (from tensorflow.contrib.graph_editor.select) is deprecated and will be removed after 2019-06-06.\n",
      "Instructions for updating:\n",
      "Please use tensorflow.python.ops.op_selector.get_backward_walk_ops.\n",
      "Loading checkpoint checkpoint/run2/model-10500\n",
      "INFO:tensorflow:Restoring parameters from checkpoint/run2/model-10500\n"
     ]
    },
    {
     "name": "stderr",
     "output_type": "stream",
     "text": [
      "\r",
      "  0%|          | 0/1 [00:00<?, ?it/s]"
     ]
    },
    {
     "name": "stdout",
     "output_type": "stream",
     "text": [
      "Loading dataset...\n"
     ]
    },
    {
     "name": "stderr",
     "output_type": "stream",
     "text": [
      "100%|██████████| 1/1 [00:06<00:00,  6.31s/it]\n"
     ]
    },
    {
     "name": "stdout",
     "output_type": "stream",
     "text": [
      "dataset has 1360345 tokens\n",
      "Training...\n",
      "Saving checkpoint/run2/model-10500\n",
      "Saving checkpoint/run2/model-10500\n",
      "[10550 | 125.17] loss=0.20 avg=0.20\n",
      "[10600 | 207.73] loss=0.42 avg=0.31\n",
      "[10650 | 290.35] loss=0.70 avg=0.44\n",
      "[10700 | 373.15] loss=0.25 avg=0.40\n",
      "[10750 | 456.00] loss=0.33 avg=0.38\n",
      "[10800 | 538.80] loss=0.46 avg=0.40\n",
      "[10850 | 621.63] loss=0.24 avg=0.37\n",
      "[10900 | 704.32] loss=0.30 avg=0.36\n",
      "[10950 | 787.09] loss=0.27 avg=0.35\n",
      "[11000 | 869.87] loss=0.14 avg=0.33\n",
      "[11050 | 952.70] loss=0.56 avg=0.35\n",
      "[11100 | 1035.45] loss=0.33 avg=0.35\n",
      "[11150 | 1118.24] loss=0.28 avg=0.35\n",
      "[11200 | 1200.97] loss=0.17 avg=0.33\n",
      "======== SAMPLE 1 ========\n",
      " boy-girl, as they say of the Virgin Mary . ''\n",
      "`` That is hardly fair to put Dee here, '' said Peter.\n",
      "`` Ef the Chipmunk says those women have no business to meddle in church matters at all . ''\n",
      "`` Who is Ef the Chipmunk ? ''\n",
      "demanded Old Mr. Toad, as if he had been walking uncertainly along a street.\n",
      "`` Who is Ef the XXXXX ?\tChipmunk\t\tAkela|Peter|Toad|XVI|Toads|house|man-woman|street|shovel|word|word\n",
      "A couple of the small boys were jumping about and singing a song of joy.\n",
      "I felt it, too, when one of the girls shrieked out, `` Take that, old fellow!\n",
      "You have had a subscription ! ''\n",
      "`` Yes, '' replied Jimmy, `` but I was at the dance, too, and had a cart-horse and cart-wheel, and they wasted a lot of wind out there . ''\n",
      "`` One did not, '' said one of the boys.\n",
      "`` They just wanted to see a boys night off.\n",
      "They did not know what to do with themselves.\n",
      "Not even to frighten themselves.\n",
      "They mooned as the girls did.\n",
      "Jimmy went off for a long-tusked fly rod, and the other two ran on down the Crooked Little Path with their tongues hanging out their cheeks.\n",
      "I never heard such a disappointment in my life, '' said Peter, as he shook his head dubiously.\n",
      "`` I knew there were wolves in the wood, but I did not know they were so bad that they would come down with so much disease, and yet here they were . ''\n",
      "`` They must have been acting as if they were afraid to speak to you, '' said Jimmy.\n",
      "`` They were not, of course.\n",
      "That is how they knew I was coming, but it was so strange.\n",
      "I thought I would get a fever when I breathed in the grass . ''\n",
      "`` That is enough about fever, '' said Peter promptly.\n",
      "`` How is eating curdle to make you feel any better ? ''\n",
      "Jimmy replied with a sneeze, and XXXXX looked at Old Mr. Toad as if he suspected he were seriously ill .\tJimmy\t\tJimmy|Peter|Mr.|Toad|course|fingers|idea|lungs|night|sunflowers\n",
      "`` I want to tell it to somebody who will take good care of it . ''\n",
      "`` Certainly, '' replied Mrs. Baxter, `` but we must first have something to eat.\n",
      "That soup will keep itself all mended, and it will sound wonderful the rest of the day . ''\n",
      "Mrs. Baxter had no white-collar fashion to match the trim, young lady with the suit, and she wisely chose those suitable for children and young fry.\n",
      "Fancy stuffing a square plate with cherries into her lap.\n",
      "Mrs. Baxter took my walk and back again, leaving me kneeling by the gate in the moonlight.\n",
      "I placed the missing puzzle piece down on the veranda and watched my white-collar fashion all trifle with its diamond squares.\n",
      "On the road from Dalveigh to Dalveigh I ran into the great castle at the window.\n",
      "But it was not the castle itself I passed but a gravel-pit, with a muddy dune close to it, where some strange, drunken men were singing a psalm.\n",
      "There I drank, and the strange people begged me what I wanted.\n",
      "At last I understood what they were saying.\n",
      "The castle was built of coral, and there was a little hill leading up to it.\n",
      "People had says that the hill gave a little hypnotic effect, and that when you drank you could feel the sand in your hair and the sand in your clothes.\n",
      "But then, as Armand Amiel says, the sand possessed a strange power of making oneself invisible, and one day I had to go very close to it in order to reach the moon!\n",
      "A strange feeling was building in my throat and my heart began to beat.\n",
      "The sand seemed to have a magnetic power and I could feel the sand 's edge as I leaned forward and looked down at the window.\n",
      "I noticed that it had a sort of rim on each side, and I could see the ceiling of the room vibrating as if it were glass.\n",
      "I could hear the soft footsteps of the moon following me as I fled down the ladder.\n",
      "`` Armand, '' said the moon, `` what is that?\n",
      "I do not see you as often as I used to.\n",
      "Please, now, let me know where you are going . ''\n",
      "`` I shall be going to XXXXX, '' he answered softly .\tMount Everest\t\tArm|Dalveigh|Fancy|Mount|Cameron|\n",
      "\n",
      "[11250 | 1308.48] loss=0.44 avg=0.34\n",
      "[11300 | 1391.69] loss=0.23 avg=0.33\n",
      "[11350 | 1474.83] loss=0.20 avg=0.32\n",
      "[11400 | 1557.90] loss=0.19 avg=0.31\n",
      "[11450 | 1640.83] loss=0.28 avg=0.31\n",
      "[11500 | 1723.84] loss=0.22 avg=0.31\n",
      "[11550 | 1806.85] loss=0.23 avg=0.30\n",
      "[11600 | 1889.86] loss=0.17 avg=0.30\n",
      "[11650 | 1972.87] loss=0.31 avg=0.30\n",
      "[11700 | 2055.88] loss=0.13 avg=0.29\n",
      "WARNING:tensorflow:From /usr/local/lib/python3.6/dist-packages/gpt_2_simple/src/sample.py:17: where (from tensorflow.python.ops.array_ops) is deprecated and will be removed in a future version.\n",
      "Instructions for updating:\n",
      "Use tf.where in 2.0, which has the same broadcast rule as np.where\n",
      "WARNING:tensorflow:From /usr/local/lib/python3.6/dist-packages/gpt_2_simple/src/memory_saving_gradients.py:62: get_backward_walk_ops (from tensorflow.contrib.graph_editor.select) is deprecated and will be removed after 2019-06-06.\n",
      "Instructions for updating:\n",
      "Please use tensorflow.python.ops.op_selector.get_backward_walk_ops.\n",
      "Loading checkpoint checkpoint/run2/model-10500\n",
      "INFO:tensorflow:Restoring parameters from checkpoint/run2/model-10500\n"
     ]
    },
    {
     "name": "stderr",
     "output_type": "stream",
     "text": [
      "\r",
      "  0%|          | 0/1 [00:00<?, ?it/s]"
     ]
    },
    {
     "name": "stdout",
     "output_type": "stream",
     "text": [
      "Loading dataset...\n"
     ]
    },
    {
     "name": "stderr",
     "output_type": "stream",
     "text": [
      "100%|██████████| 1/1 [00:06<00:00,  6.31s/it]\n"
     ]
    },
    {
     "name": "stdout",
     "output_type": "stream",
     "text": [
      "dataset has 1360345 tokens\n",
      "Training...\n",
      "Saving checkpoint/run2/model-10500\n",
      "Saving checkpoint/run2/model-10500\n",
      "[10550 | 125.17] loss=0.20 avg=0.20\n",
      "[10600 | 207.73] loss=0.42 avg=0.31\n",
      "[10650 | 290.35] loss=0.70 avg=0.44\n",
      "[10700 | 373.15] loss=0.25 avg=0.40\n",
      "[10750 | 456.00] loss=0.33 avg=0.38\n",
      "[10800 | 538.80] loss=0.46 avg=0.40\n",
      "[10850 | 621.63] loss=0.24 avg=0.37\n",
      "[10900 | 704.32] loss=0.30 avg=0.36\n",
      "[10950 | 787.09] loss=0.27 avg=0.35\n",
      "[11000 | 869.87] loss=0.14 avg=0.33\n",
      "[11050 | 952.70] loss=0.56 avg=0.35\n",
      "[11100 | 1035.45] loss=0.33 avg=0.35\n",
      "[11150 | 1118.24] loss=0.28 avg=0.35\n",
      "[11200 | 1200.97] loss=0.17 avg=0.33\n",
      "======== SAMPLE 1 ========\n",
      " boy-girl, as they say of the Virgin Mary . ''\n",
      "`` That is hardly fair to put Dee here, '' said Peter.\n",
      "`` Ef the Chipmunk says those women have no business to meddle in church matters at all . ''\n",
      "`` Who is Ef the Chipmunk ? ''\n",
      "demanded Old Mr. Toad, as if he had been walking uncertainly along a street.\n",
      "`` Who is Ef the XXXXX ?\tChipmunk\t\tAkela|Peter|Toad|XVI|Toads|house|man-woman|street|shovel|word|word\n",
      "A couple of the small boys were jumping about and singing a song of joy.\n",
      "I felt it, too, when one of the girls shrieked out, `` Take that, old fellow!\n",
      "You have had a subscription ! ''\n",
      "`` Yes, '' replied Jimmy, `` but I was at the dance, too, and had a cart-horse and cart-wheel, and they wasted a lot of wind out there . ''\n",
      "`` One did not, '' said one of the boys.\n",
      "`` They just wanted to see a boys night off.\n",
      "They did not know what to do with themselves.\n",
      "Not even to frighten themselves.\n",
      "They mooned as the girls did.\n",
      "Jimmy went off for a long-tusked fly rod, and the other two ran on down the Crooked Little Path with their tongues hanging out their cheeks.\n",
      "I never heard such a disappointment in my life, '' said Peter, as he shook his head dubiously.\n",
      "`` I knew there were wolves in the wood, but I did not know they were so bad that they would come down with so much disease, and yet here they were . ''\n",
      "`` They must have been acting as if they were afraid to speak to you, '' said Jimmy.\n",
      "`` They were not, of course.\n",
      "That is how they knew I was coming, but it was so strange.\n",
      "I thought I would get a fever when I breathed in the grass . ''\n",
      "`` That is enough about fever, '' said Peter promptly.\n",
      "`` How is eating curdle to make you feel any better ? ''\n",
      "Jimmy replied with a sneeze, and XXXXX looked at Old Mr. Toad as if he suspected he were seriously ill .\tJimmy\t\tJimmy|Peter|Mr.|Toad|course|fingers|idea|lungs|night|sunflowers\n",
      "`` I want to tell it to somebody who will take good care of it . ''\n",
      "`` Certainly, '' replied Mrs. Baxter, `` but we must first have something to eat.\n",
      "That soup will keep itself all mended, and it will sound wonderful the rest of the day . ''\n",
      "Mrs. Baxter had no white-collar fashion to match the trim, young lady with the suit, and she wisely chose those suitable for children and young fry.\n",
      "Fancy stuffing a square plate with cherries into her lap.\n",
      "Mrs. Baxter took my walk and back again, leaving me kneeling by the gate in the moonlight.\n",
      "I placed the missing puzzle piece down on the veranda and watched my white-collar fashion all trifle with its diamond squares.\n",
      "On the road from Dalveigh to Dalveigh I ran into the great castle at the window.\n",
      "But it was not the castle itself I passed but a gravel-pit, with a muddy dune close to it, where some strange, drunken men were singing a psalm.\n",
      "There I drank, and the strange people begged me what I wanted.\n",
      "At last I understood what they were saying.\n",
      "The castle was built of coral, and there was a little hill leading up to it.\n",
      "People had says that the hill gave a little hypnotic effect, and that when you drank you could feel the sand in your hair and the sand in your clothes.\n",
      "But then, as Armand Amiel says, the sand possessed a strange power of making oneself invisible, and one day I had to go very close to it in order to reach the moon!\n",
      "A strange feeling was building in my throat and my heart began to beat.\n",
      "The sand seemed to have a magnetic power and I could feel the sand 's edge as I leaned forward and looked down at the window.\n",
      "I noticed that it had a sort of rim on each side, and I could see the ceiling of the room vibrating as if it were glass.\n",
      "I could hear the soft footsteps of the moon following me as I fled down the ladder.\n",
      "`` Armand, '' said the moon, `` what is that?\n",
      "I do not see you as often as I used to.\n",
      "Please, now, let me know where you are going . ''\n",
      "`` I shall be going to XXXXX, '' he answered softly .\tMount Everest\t\tArm|Dalveigh|Fancy|Mount|Cameron|\n",
      "\n",
      "[11250 | 1308.48] loss=0.44 avg=0.34\n",
      "[11300 | 1391.69] loss=0.23 avg=0.33\n",
      "[11350 | 1474.83] loss=0.20 avg=0.32\n",
      "[11400 | 1557.90] loss=0.19 avg=0.31\n",
      "[11450 | 1640.83] loss=0.28 avg=0.31\n",
      "[11500 | 1723.84] loss=0.22 avg=0.31\n",
      "[11550 | 1806.85] loss=0.23 avg=0.30\n",
      "[11600 | 1889.86] loss=0.17 avg=0.30\n",
      "[11650 | 1972.87] loss=0.31 avg=0.30\n",
      "[11700 | 2055.88] loss=0.13 avg=0.29\n",
      "[11750 | 2138.95] loss=0.22 avg=0.29\n",
      "[11750 | 2138.95] loss=0.22 avg=0.29\n",
      "[11850 | 2304.96] loss=0.08 avg=0.27\n",
      "[11850 | 2304.96] loss=0.08 avg=0.27\n",
      "[11900 | 2388.12] loss=0.08 avg=0.26\n",
      "[11900 | 2388.12] loss=0.08 avg=0.26\n",
      "[11950 | 2471.17] loss=0.34 avg=0.27\n",
      "[11950 | 2471.17] loss=0.34 avg=0.27\n",
      "[12000 | 2554.27] loss=0.11 avg=0.26\n",
      "Saving checkpoint/run2/model-12000\n",
      "[12000 | 2554.27] loss=0.11 avg=0.26\n",
      "Saving checkpoint/run2/model-12000\n",
      "WARNING:tensorflow:From /tensorflow-1.15.2/python3.6/tensorflow_core/python/training/saver.py:963: remove_checkpoint (from tensorflow.python.training.checkpoint_management) is deprecated and will be removed in a future version.\n",
      "Instructions for updating:\n",
      "Use standard file APIs to delete files with this prefix.\n",
      "WARNING:tensorflow:From /tensorflow-1.15.2/python3.6/tensorflow_core/python/training/saver.py:963: remove_checkpoint (from tensorflow.python.training.checkpoint_management) is deprecated and will be removed in a future version.\n",
      "Instructions for updating:\n",
      "Use standard file APIs to delete files with this prefix.\n"
     ]
    }
   ],
   "source": [
    "#FILE_FOR_TRAINING = DATA_IN_DIR + r\"cbtest_NE_test_2500ex_OUT.txt\"  ## File 8 , 5.3mb\n",
    "\n",
    "gpt2.finetune(sess,\n",
    "              dataset=file_name,\n",
    "              model_name='355M',\n",
    "              steps=1500,\n",
    "              restore_from='latest', # fresh to start from baseline GTP-2 , else latest to restarting training from existing checkpoint\n",
    "              overwrite=True,\n",
    "              run_name='run2',\n",
    "              print_every=50,\n",
    "              sample_every=1400,\n",
    "              save_every=1500\n",
    "              )"
   ]
  },
  {
   "cell_type": "code",
   "execution_count": null,
   "metadata": {
    "id": "mo4XGi0gGWFT"
   },
   "outputs": [],
   "source": []
  },
  {
   "cell_type": "markdown",
   "metadata": {
    "id": "jHkZycctGYca"
   },
   "source": [
    "## RUN 2 - FILE 9 - r\"cbtest_CN_valid_2000ex_OUT.txt\"  - File 9 , 4.4mb"
   ]
  },
  {
   "cell_type": "code",
   "execution_count": 14,
   "metadata": {
    "colab": {
     "base_uri": "https://localhost:8080/",
     "height": 1000
    },
    "id": "yw6r9PDeF3OO",
    "outputId": "e1f86e6d-b4be-4d93-fde4-a3e9117dd0d1"
   },
   "outputs": [
    {
     "name": "stdout",
     "output_type": "stream",
     "text": [
      "WARNING:tensorflow:From /usr/local/lib/python3.6/dist-packages/gpt_2_simple/src/sample.py:17: where (from tensorflow.python.ops.array_ops) is deprecated and will be removed in a future version.\n",
      "Instructions for updating:\n",
      "Use tf.where in 2.0, which has the same broadcast rule as np.where\n",
      "WARNING:tensorflow:From /usr/local/lib/python3.6/dist-packages/gpt_2_simple/src/memory_saving_gradients.py:62: get_backward_walk_ops (from tensorflow.contrib.graph_editor.select) is deprecated and will be removed after 2019-06-06.\n",
      "Instructions for updating:\n",
      "Please use tensorflow.python.ops.op_selector.get_backward_walk_ops.\n",
      "Loading checkpoint checkpoint/run2/model-12000\n",
      "INFO:tensorflow:Restoring parameters from checkpoint/run2/model-12000\n"
     ]
    },
    {
     "name": "stderr",
     "output_type": "stream",
     "text": [
      "\r",
      "  0%|          | 0/1 [00:00<?, ?it/s]"
     ]
    },
    {
     "name": "stdout",
     "output_type": "stream",
     "text": [
      "Loading dataset...\n"
     ]
    },
    {
     "name": "stderr",
     "output_type": "stream",
     "text": [
      "100%|██████████| 1/1 [00:04<00:00,  4.73s/it]\n"
     ]
    },
    {
     "name": "stdout",
     "output_type": "stream",
     "text": [
      "dataset has 1114512 tokens\n",
      "Training...\n",
      "Saving checkpoint/run2/model-12000\n",
      "Saving checkpoint/run2/model-12000\n",
      "[12050 | 125.30] loss=0.17 avg=0.17\n",
      "[12100 | 208.11] loss=0.29 avg=0.23\n",
      "[12150 | 290.92] loss=0.44 avg=0.30\n",
      "[12200 | 373.60] loss=0.27 avg=0.29\n",
      "[12250 | 456.18] loss=0.16 avg=0.27\n",
      "[12300 | 538.88] loss=0.30 avg=0.27\n",
      "[12350 | 621.73] loss=0.19 avg=0.26\n",
      "[12400 | 704.38] loss=0.36 avg=0.27\n",
      "[12450 | 787.09] loss=0.22 avg=0.27\n",
      "[12500 | 869.78] loss=0.26 avg=0.27\n",
      "[12550 | 952.46] loss=0.16 avg=0.26\n",
      "[12600 | 1035.06] loss=0.28 avg=0.26\n",
      "======== SAMPLE 1 ========\n",
      " seven bells ringing, `` Knock, knock!\n",
      "Will you come with me?\n",
      "You may sleep in a fir-tree out back, and I will take the sofy.\n",
      "Good-bye, and do not forget me . ''\n",
      "As the last words were sung, a tiny voice inside whispered, `` Perhaps he has some sort of XXXXX in his head . ''\tthing\t\tGood-bye|adventures|bottom|doorway|heart|king|nose|something|thought\n",
      "One of the girls told him that it was the lamb which her uncle had caught, but when he came to look at the wound, he could see that it was only a piece of leather, and that the poor boy had escaped with the leather instead.\n",
      "` You have done him no evil, ' said the Bassa, ` but he has broken one of your hearts.\n",
      "And what shall I do?\n",
      "To make up, I plead your Majesty 's cause, and hope to persuade you to spare his life.\n",
      "If you betray this promise, I will cause such a storm to burst over your palace that the walls will fall in, and you will all be buried in the ruins .'\n",
      "` This is the best promise you can make, ' replied the Bassa, ` and I will think of no means of disobeying it .'\n",
      "Next morning, therefore, he went to the slave whose storehouse was now prepared, and advised the slave to go and fetch another load of wood.\n",
      "And the slave replied : ` Yes, I will do that, ' and did so.\n",
      "Then the prince went to the blacksmith and said : ` You will blow me a little straw, then I will let you draw me onto a certain spot on the ground, and you will have to lay hold of my tail.\n",
      "Take it, and I will let you tie me to the ground, and to no evil shall ever come near us .'\n",
      "And the blacksmith did as he was told ; and when he had tied him firmly to the ground, the prince said : ` Now let us go to the place where we left the youngest sister, and I will give her a casket .'\n",
      "So they went to the specified spot, and laid hold of the straw, and when the blacksmith came to take hold of it, he found himself in the exact same predicament as the first time they had gone there.\n",
      "` Casket or no coffin !'\n",
      "whichever way they turned, the blacksmith was so much distressed that he jumped into the cart, and took hold of the tail of the straw, and managed to free his brother from the earth.\n",
      "Then he proceeded to the casket, which was just about to expire, and there he found the three rings belonging to the daughters of Siroco.\n",
      "As he examined them, the XXXXX in the basket, which was his portion, gained notoriety, and he was obliged to hire a servant, and to turn rogues into courtiers, who told him that the ladies of the house were the most beautiful in the world, and assured him that with a little training he would soon be able to see them .\tlives\t\tcastle|lives|manner|place|palace|sister|something|training|wounds|wife\n",
      "`` If that is the case, I will soon find it . ''\n",
      "Striped Chipmunk scurried along, and now he took pains to always keep in sight.\n",
      "Happy Jack followed, hiding behind the trees.\n",
      "Pretty soon Striped Chipmunk picked up a plump acorn and put it in the pocket of his right cheek.\n",
      "Then he picked up another and put that in the pocket in his left cheek.\n",
      "Then he crowded another into each ; his face was swelled so that you would hardly have guessed that it was Striped Chipmunk if you had chanced to meet him.\n",
      "My, my, he was a funny sight!\n",
      "Happy Jack grinned again as he watched, partly because Striped Chipmunk looked so funny, and partly because he knew that if Striped Chipmunk was going to eat the acorns right away, he would not stuff them into the pockets in his cheeks.\n",
      "But he had done this very thing, and so he must be going to take them to his storehouse.\n",
      "Off scampered Striped Chipmunk, and after him stole Happy Jack, his eyes shining with excitement.\n",
      "Pretty soon he saw an old stump which looked as if it must be hollow.\n",
      "Happy Jack grinned more than ever as he carefully hid himself and watched.\n",
      "Striped Chipmunk scrambled up on the old stump, looked this way and that way, as if to be sure that no one was watching him, then with a flirt of his funny little tail he darted into a little round doorway.\n",
      "He was gone a long time, but by the next morning he was a happily-lucky tramp\n",
      "\n",
      "[12650 | 1142.47] loss=0.35 avg=0.26\n",
      "[12700 | 1225.48] loss=0.33 avg=0.27\n",
      "[12750 | 1308.52] loss=0.26 avg=0.27\n",
      "[12800 | 1391.62] loss=0.16 avg=0.26\n",
      "[12850 | 1474.70] loss=0.22 avg=0.26\n",
      "[12900 | 1557.81] loss=0.26 avg=0.26\n",
      "[12950 | 1640.84] loss=0.09 avg=0.25\n",
      "[13000 | 1723.95] loss=0.14 avg=0.24\n",
      "[13050 | 1807.03] loss=0.11 avg=0.24\n",
      "[13100 | 1890.32] loss=0.29 avg=0.24\n",
      "[13150 | 1973.38] loss=0.25 avg=0.24\n",
      "[13200 | 2056.51] loss=0.20 avg=0.24\n",
      "[13250 | 2139.62] loss=0.14 avg=0.23\n",
      "[13300 | 2222.74] loss=0.23 avg=0.23\n",
      "[13350 | 2305.81] loss=0.06 avg=0.23\n",
      "[13400 | 2388.87] loss=0.19 avg=0.22\n",
      "[13450 | 2472.06] loss=0.21 avg=0.22\n",
      "[13500 | 2555.30] loss=0.14 avg=0.22\n",
      "Saving checkpoint/run2/model-13500\n",
      "WARNING:tensorflow:From /tensorflow-1.15.2/python3.6/tensorflow_core/python/training/saver.py:963: remove_checkpoint (from tensorflow.python.training.checkpoint_management) is deprecated and will be removed in a future version.\n",
      "Instructions for updating:\n",
      "Use standard file APIs to delete files with this prefix.\n"
     ]
    }
   ],
   "source": [
    "#FILE_FOR_TRAINING = DATA_IN_DIR + r\"cbtest_CN_valid_2000ex_OUT.txt\"  ## File 9 , 4.4mb\n",
    "\n",
    "gpt2.finetune(sess,\n",
    "              dataset=file_name,\n",
    "              model_name='355M',\n",
    "              steps=1500,\n",
    "              restore_from='latest', # fresh to start from baseline GTP-2 , else latest to restarting training from existing checkpoint\n",
    "              overwrite=True,\n",
    "              run_name='run2',\n",
    "              print_every=50,\n",
    "              sample_every=1400,\n",
    "              save_every=1500\n",
    "              )"
   ]
  },
  {
   "cell_type": "code",
   "execution_count": null,
   "metadata": {
    "id": "zdc0w3RGGW4z"
   },
   "outputs": [],
   "source": []
  },
  {
   "cell_type": "markdown",
   "metadata": {
    "id": "TQvntJ2IGaGP"
   },
   "source": [
    "## RUN 2 - FILE 10 - r\"cbtest_CN_test_2500ex_OUT.txt\"  - File 10 , 5.8mb"
   ]
  },
  {
   "cell_type": "code",
   "execution_count": 14,
   "metadata": {
    "colab": {
     "base_uri": "https://localhost:8080/",
     "height": 1000
    },
    "id": "FJjq4LJkGOlU",
    "outputId": "ab9fb427-78a9-4f93-e823-605dc3dc1470"
   },
   "outputs": [
    {
     "name": "stdout",
     "output_type": "stream",
     "text": [
      "WARNING:tensorflow:From /usr/local/lib/python3.6/dist-packages/gpt_2_simple/src/sample.py:17: where (from tensorflow.python.ops.array_ops) is deprecated and will be removed in a future version.\n",
      "Instructions for updating:\n",
      "Use tf.where in 2.0, which has the same broadcast rule as np.where\n",
      "WARNING:tensorflow:From /usr/local/lib/python3.6/dist-packages/gpt_2_simple/src/memory_saving_gradients.py:62: get_backward_walk_ops (from tensorflow.contrib.graph_editor.select) is deprecated and will be removed after 2019-06-06.\n",
      "Instructions for updating:\n",
      "Please use tensorflow.python.ops.op_selector.get_backward_walk_ops.\n",
      "Loading checkpoint checkpoint/run2/model-13500\n",
      "INFO:tensorflow:Restoring parameters from checkpoint/run2/model-13500\n"
     ]
    },
    {
     "name": "stderr",
     "output_type": "stream",
     "text": [
      "\r",
      "  0%|          | 0/1 [00:00<?, ?it/s]"
     ]
    },
    {
     "name": "stdout",
     "output_type": "stream",
     "text": [
      "Loading dataset...\n"
     ]
    },
    {
     "name": "stderr",
     "output_type": "stream",
     "text": [
      "100%|██████████| 1/1 [00:06<00:00,  6.33s/it]\n"
     ]
    },
    {
     "name": "stdout",
     "output_type": "stream",
     "text": [
      "dataset has 1438608 tokens\n",
      "Training...\n",
      "Saving checkpoint/run2/model-13500\n",
      "Saving checkpoint/run2/model-13500\n",
      "[13550 | 124.47] loss=0.33 avg=0.33\n",
      "[13600 | 206.99] loss=0.47 avg=0.40\n",
      "[13650 | 289.62] loss=0.26 avg=0.35\n",
      "[13700 | 372.21] loss=0.29 avg=0.34\n",
      "[13750 | 454.83] loss=0.18 avg=0.30\n",
      "[13800 | 537.40] loss=0.21 avg=0.29\n",
      "[13850 | 620.12] loss=0.10 avg=0.26\n",
      "[13900 | 702.56] loss=0.51 avg=0.29\n",
      "[13950 | 784.92] loss=0.25 avg=0.29\n",
      "[14000 | 867.52] loss=0.20 avg=0.28\n",
      "======== SAMPLE 1 ========\n",
      " themselves was a great deal larger than mine.\n",
      "The Moon kept growing larger and larger, till at last it fell out of the sky, and thereupon we both arose and walked out of the cave into the open air.\n",
      "` The Sun was hot, and I could not keep it in the room, so I rose and walked out, and after walking some time I found my way to a fountain.\n",
      "I drank, and felt very strange, and before long I heard the Sun asking for my hand again.\n",
      "I drank another drop, and then I felt that my body was sound and my limbs strong.\n",
      "I returned, lowered the scale, and before long I heard the Sun asking if he had not wife or child.\n",
      "` We had, each other, ' I said, ` many many misfortunes, but always with good cheer ; do not think me so ungrateful for all .'\n",
      "After this I heard the Sun inviting me to go to Court, and so I took my XXXXX and left my body .\tcourse\t\tBody|courtyard|fate|garden|heart|length|message|others|spite|suitors\n",
      "` No, ' replied the Darning-needle .'\n",
      "I will go on the Lion too, and if I am not dead before sunset to-morrow it will bite me in the night .'\n",
      "` Then you shall make me rich !'\n",
      "said the fisherman.\n",
      "` Yes ; I will go on with the boat .'\n",
      "And so saying he drew his bow and arrow and began to recite the second verse of the song : ` Upon a mountain and upon a star : The Lion 's cry, ' and the Bear 's whistle, ' and the Wolf 's roar, ' and the Dragon 's cry, ' and the Black Dragon 's whistle, ' and the Frog 's whistle, ' and the Black Snake 's whistle, ' and the Water-snake 's whistle ; and the last, the Crone 's whistle, so that even he could not pronounce it.\n",
      "However, after he had made so much of it in so short a time, he fell sound asleep, and was caught by the next morning.\n",
      "The next morning the maiden took him by the hand and led him to a crystal spring, in great Northern latitudes, where there were many springs of the clear water, and Lake Constance .'\n",
      "` And I have a wood-snake for you !'\n",
      "said she.\n",
      "` Here comes my husband from the South, ' said the youth.\n",
      "` He is as wise as I thought, and knows more than most men .'\n",
      "` Go and herd him, ' said the wife.\n",
      "` Not yet, my lord!\n",
      "go quickly !'\n",
      "said the XXXXX . '\tmaiden\t\tIllustration|Arrow|arrow|bow|distance|home|maiden|morning|river|stream|trees\n",
      "` I wish you Would stop fooling and come true your pledge, ' said the old hag.\n",
      "` Too lazy !'\n",
      "Then he jumped into the water, and the spring instantly flooded, so that all the inhabitants of the island could not stand in it any longer.\n",
      "When the peasant came to fetch his wages he found that the feast was a great success.\n",
      "All the ducks, geese, and gelders in the whole kingdom fluttered round his boat, and drank as much as they wanted to before the two brothers, who were the only two magicians of the immediate court, could pronounce the words out of their own mouths.\n",
      "As soon as the zither sounded its secret message, the bird rose up in the air, and came towards the man, and said : ` If you have been faithful to me, you shall come to my assistance ; here is a man who can direct your eye without my permission .'\n",
      "The man immediately suspected that he was the author of the message, and took measures to secure the delivery of his harp.\n",
      "His first act was to seek the fairy 's daughter, and to implore her to give him all the assistance of her kingdom in this important matter.\n",
      "Then he entrusted his right hand to the invisible pen, and wrote thus to the Princess 's mother : -- ` Have patience, my child.\n",
      "I shall soon punish all the wicked crafty sods in this land, and restore you your father .'\n",
      "With these words the invisible pen vanished, and returned probably to the chief of the band.\n",
      "The old King was much grieved when he saw his daughter publicly flaunting her arms, and he caused her to be examined by the most notorious magician in the land.\n",
      "In vain did the Princess thank the man for his faithful love, and implored him to trouble her mind by sending her a poem he had already written.\n",
      "So the King rewarded her courage, and commanded her to write as follows : -- ` This is the\n",
      "\n",
      "[14050 | 974.59] loss=0.65 avg=0.31\n",
      "[14100 | 1057.64] loss=0.19 avg=0.30\n",
      "[14150 | 1140.64] loss=0.24 avg=0.30\n",
      "[14200 | 1223.92] loss=0.23 avg=0.29\n",
      "[14250 | 1307.23] loss=0.14 avg=0.28\n",
      "[14300 | 1390.52] loss=0.20 avg=0.28\n",
      "[14350 | 1473.70] loss=0.11 avg=0.27\n",
      "[14400 | 1556.80] loss=0.32 avg=0.27\n",
      "[14450 | 1639.87] loss=0.21 avg=0.27\n",
      "[14500 | 1722.93] loss=0.20 avg=0.26\n",
      "[14550 | 1806.09] loss=0.17 avg=0.26\n",
      "[14600 | 1889.23] loss=0.11 avg=0.25\n",
      "[14650 | 1972.32] loss=0.26 avg=0.25\n",
      "[14700 | 2055.35] loss=0.16 avg=0.25\n",
      "[14750 | 2138.55] loss=0.15 avg=0.24\n",
      "[14800 | 2221.69] loss=0.14 avg=0.24\n",
      "[14850 | 2304.77] loss=0.15 avg=0.23\n",
      "[14900 | 2387.85] loss=0.22 avg=0.23\n",
      "[14950 | 2470.97] loss=0.19 avg=0.23\n",
      "[15000 | 2554.05] loss=0.14 avg=0.23\n",
      "Saving checkpoint/run2/model-15000\n",
      "WARNING:tensorflow:From /tensorflow-1.15.2/python3.6/tensorflow_core/python/training/saver.py:963: remove_checkpoint (from tensorflow.python.training.checkpoint_management) is deprecated and will be removed in a future version.\n",
      "Instructions for updating:\n",
      "Use standard file APIs to delete files with this prefix.\n"
     ]
    }
   ],
   "source": [
    "#FILE_FOR_TRAINING = DATA_IN_DIR + r\"cbtest_CN_test_2500ex_OUT.txt\"  ## File 10 , 5.8mb\n",
    "\n",
    "gpt2.finetune(sess,\n",
    "              dataset=file_name,\n",
    "              model_name='355M',\n",
    "              steps=1500,\n",
    "              restore_from='latest', # fresh to start from baseline GTP-2 , else latest to restarting training from existing checkpoint\n",
    "              overwrite=True,\n",
    "              run_name='run2',\n",
    "              print_every=50,\n",
    "              sample_every=1400,\n",
    "              save_every=1500\n",
    "              )"
   ]
  },
  {
   "cell_type": "code",
   "execution_count": null,
   "metadata": {
    "id": "qD76SpspGOoY"
   },
   "outputs": [],
   "source": []
  },
  {
   "cell_type": "markdown",
   "metadata": {
    "id": "-UMEX6xpGl8M"
   },
   "source": [
    "## RUN 2 - FILE 11 - first time - r\"cbt_train_OUT.txt\"  - File 11 , 25.2mb"
   ]
  },
  {
   "cell_type": "code",
   "execution_count": 14,
   "metadata": {
    "colab": {
     "base_uri": "https://localhost:8080/",
     "height": 1000
    },
    "id": "7RPoGXNkGOrk",
    "outputId": "20bf7d67-8816-4ea0-e548-912e85706399"
   },
   "outputs": [
    {
     "name": "stdout",
     "output_type": "stream",
     "text": [
      "WARNING:tensorflow:From /usr/local/lib/python3.6/dist-packages/gpt_2_simple/src/sample.py:17: where (from tensorflow.python.ops.array_ops) is deprecated and will be removed in a future version.\n",
      "Instructions for updating:\n",
      "Use tf.where in 2.0, which has the same broadcast rule as np.where\n",
      "WARNING:tensorflow:From /usr/local/lib/python3.6/dist-packages/gpt_2_simple/src/memory_saving_gradients.py:62: get_backward_walk_ops (from tensorflow.contrib.graph_editor.select) is deprecated and will be removed after 2019-06-06.\n",
      "Instructions for updating:\n",
      "Please use tensorflow.python.ops.op_selector.get_backward_walk_ops.\n",
      "Loading checkpoint checkpoint/run2/model-15000\n",
      "INFO:tensorflow:Restoring parameters from checkpoint/run2/model-15000\n"
     ]
    },
    {
     "name": "stderr",
     "output_type": "stream",
     "text": [
      "\r",
      "  0%|          | 0/1 [00:00<?, ?it/s]"
     ]
    },
    {
     "name": "stdout",
     "output_type": "stream",
     "text": [
      "Loading dataset...\n"
     ]
    },
    {
     "name": "stderr",
     "output_type": "stream",
     "text": [
      "100%|██████████| 1/1 [00:27<00:00, 27.90s/it]\n"
     ]
    },
    {
     "name": "stdout",
     "output_type": "stream",
     "text": [
      "dataset has 6257758 tokens\n",
      "Training...\n",
      "Saving checkpoint/run2/model-15000\n",
      "Saving checkpoint/run2/model-15000\n",
      "======== SAMPLE 1 ========\n",
      "ves, which I shall call Aunt Esther, '' he said.\n",
      "Cousin Esther smiled broadly.\n",
      "`` New brooms come in here, '' she said.\n",
      "Rikki-tikki jumped as high up in the air as he could go, his head just out of the window, his eyes nearly to his ears.\n",
      "Aunt Esther put her long hair up in bboy, and it was so luscious that people thought it was waxing and blowing.\n",
      "There was a fresh breeze through the green pines and a rosy rose was visible around every bend of the little schooner.\n",
      "It was ten o'clock when Rikki-tikki went down to the village after business, and they waited for him half an night and a half an XXXXX for the two tattered husks in the wood to settle .\tday\t\tAunt|boys|corn|dress|family|girl|head|idea|manner|people\n",
      "Then the Hunter did as the old woman had told him : he cut open the bird, found its heart, swallowed it, and took the cloak home with him.\n",
      "The next morning when he awoke he remembered the promise, and wanted to see if it had come true.\n",
      "But when he lifted up his pillow, there sparkled the gold piece, and the next morning he found another, and so on every time he got up.\n",
      "He collected a heap of gold, but at last he thought to himself, ` What good is all my gold to me if I stay at home?\n",
      "I will travel and look a bit about me in the world .'\n",
      "So he took leave of his parents, Slaves were very rare in these days, and so one day he heard a man saying to another, ` We are glad to see you again, dear.\n",
      "What have you done here?\n",
      "Rikki-tikki has found you .'\n",
      "But the answer was always the same ; ` With what axe?\n",
      "With what axe shall I find the hole through which the sun strikes the ground at night .'\n",
      "` Come to me at once, ' said the other, ` and tell me the hole .'\n",
      "But though the Hunter would lie awake late, slacking tangibly, telling tales of roses and thistles, he could not tell anything because his brain was too tired to hold onto anything.\n",
      "At last the man said, ` We have seen you at court ; you have won our hearts by your beauty, and we desire you to be our brother-in-law, but what shall we owe you ?'\n",
      "` We are obliged to you, ' said the other, ` for we do not know how long we may be your prisoner .'\n",
      "` But are you ?'\n",
      "questioned the Hunter.\n",
      "` Exactly so, ' said the XXXXX . '\their\t\thunter|home|hope|lament|man|meantime|morning|nothing|prisoner|tongibly\n",
      "Then I was sure that he would never forgive me.\n",
      "He has always been very good to me.\n",
      "Now that his time had come, he must say what he would like to be done.\n",
      "I have resolved that if I am a fool to-night, I will stand beside you on your bed, and let you pull my box and trunk until I have loosened the straps.\n",
      "But I am a bit late, and if we succeed the moon will rise in the evening, and we will be able to pull down the great pine tree on to the Beddoes ' deck.\n",
      "By the time the moon rises you will be able to see the whole affair.\n",
      "Only remember that the sea-maiden 's dwelling is far off.\n",
      "All the prettiest maidens that ever lived lived have gone ; the young ones that I have now become a brother to are stationed at the utmost ends of the earth at the dams of the rivers, and I am the youngest of seven brothers, and the youngest of all the seven maidens.\n",
      "When the sun rises above the sea the old white wolf will come to see what has been done.\n",
      "He will not hesitate to fly over to your place and shake you to pieces . ''\n",
      "Then the six maidens who were appointed to watch the land in case of emergency came to the boat.\n",
      "When they saw the white wolf, they were very moved, and came running as quickly as they could.\n",
      "But the old maidens who were appointed to watch the river said that they had never seen anything like it.\n",
      "They were nearly beside themselves with joy, and ran to the dam and let the waters flow so rapidly that the earth seemed to become very hollow.\n",
      "And when the waters had disappeared altogether, they thought themselves at last they must fly away, but when, after careful consideration, they found that no external world existed where the seven years could last, they swore that they would never lay a stone unturned in\n",
      "\n",
      "[15050 | 153.16] loss=3.34 avg=3.34\n",
      "[15100 | 235.55] loss=2.99 avg=3.17\n",
      "[15150 | 318.05] loss=3.53 avg=3.29\n",
      "[15200 | 400.68] loss=2.87 avg=3.18\n",
      "[15250 | 483.21] loss=3.40 avg=3.23\n",
      "[15300 | 565.75] loss=3.45 avg=3.27\n",
      "[15350 | 648.47] loss=3.18 avg=3.25\n",
      "[15400 | 731.02] loss=3.06 avg=3.23\n",
      "[15450 | 813.52] loss=2.78 avg=3.18\n",
      "[15500 | 895.94] loss=3.34 avg=3.19\n",
      "Saving checkpoint/run2/model-15500\n",
      "WARNING:tensorflow:From /tensorflow-1.15.2/python3.6/tensorflow_core/python/training/saver.py:963: remove_checkpoint (from tensorflow.python.training.checkpoint_management) is deprecated and will be removed in a future version.\n",
      "Instructions for updating:\n",
      "Use standard file APIs to delete files with this prefix.\n",
      "[15550 | 988.54] loss=3.16 avg=3.19\n",
      "[15600 | 1071.12] loss=2.76 avg=3.15\n",
      "[15650 | 1153.73] loss=2.68 avg=3.11\n",
      "[15700 | 1236.26] loss=2.47 avg=3.06\n",
      "[15750 | 1318.68] loss=2.81 avg=3.05\n",
      "[15800 | 1401.17] loss=3.22 avg=3.06\n",
      "[15850 | 1483.61] loss=3.25 avg=3.07\n",
      "[15900 | 1566.08] loss=2.89 avg=3.06\n",
      "[15950 | 1648.59] loss=3.31 avg=3.07\n",
      "[16000 | 1731.04] loss=2.39 avg=3.04\n",
      "Saving checkpoint/run2/model-16000\n"
     ]
    }
   ],
   "source": [
    "#FILE_FOR_TRAINING = DATA_IN_DIR + r\"cbt_train_OUT.txt\"  ## File 11 , 25.2mb\n",
    "\n",
    "gpt2.finetune(sess,\n",
    "              dataset=file_name,\n",
    "              model_name='355M',\n",
    "              steps=1000,\n",
    "              restore_from='latest', # fresh to start from baseline GTP-2 , else latest to restarting training from existing checkpoint\n",
    "              overwrite=True,\n",
    "              run_name='run2',\n",
    "              print_every=50,\n",
    "              sample_every=1000,\n",
    "              save_every=500\n",
    "              )"
   ]
  },
  {
   "cell_type": "code",
   "execution_count": null,
   "metadata": {
    "id": "6PnHHIgcGiZm"
   },
   "outputs": [],
   "source": []
  },
  {
   "cell_type": "markdown",
   "metadata": {
    "id": "RJaG6BRFgC2T"
   },
   "source": [
    "## RUN 2 - FILE 11 - second time - r\"cbt_train_OUT.txt\"  - File 11 , 25.2mb"
   ]
  },
  {
   "cell_type": "code",
   "execution_count": 11,
   "metadata": {
    "colab": {
     "base_uri": "https://localhost:8080/",
     "height": 1000
    },
    "id": "Rhd2IIdif07E",
    "outputId": "55d4c30c-e461-4e05-b09b-f344a43b9ff4"
   },
   "outputs": [
    {
     "name": "stdout",
     "output_type": "stream",
     "text": [
      "WARNING:tensorflow:From /usr/local/lib/python3.6/dist-packages/gpt_2_simple/src/sample.py:17: where (from tensorflow.python.ops.array_ops) is deprecated and will be removed in a future version.\n",
      "Instructions for updating:\n",
      "Use tf.where in 2.0, which has the same broadcast rule as np.where\n",
      "WARNING:tensorflow:From /usr/local/lib/python3.6/dist-packages/gpt_2_simple/src/memory_saving_gradients.py:62: get_backward_walk_ops (from tensorflow.contrib.graph_editor.select) is deprecated and will be removed after 2019-06-06.\n",
      "Instructions for updating:\n",
      "Please use tensorflow.python.ops.op_selector.get_backward_walk_ops.\n",
      "Loading checkpoint checkpoint/run2/model-16000\n",
      "INFO:tensorflow:Restoring parameters from checkpoint/run2/model-16000\n"
     ]
    },
    {
     "name": "stderr",
     "output_type": "stream",
     "text": [
      "\r",
      "  0%|          | 0/1 [00:00<?, ?it/s]"
     ]
    },
    {
     "name": "stdout",
     "output_type": "stream",
     "text": [
      "Loading dataset...\n"
     ]
    },
    {
     "name": "stderr",
     "output_type": "stream",
     "text": [
      "100%|██████████| 1/1 [00:27<00:00, 27.25s/it]\n"
     ]
    },
    {
     "name": "stdout",
     "output_type": "stream",
     "text": [
      "dataset has 6257758 tokens\n",
      "Training...\n",
      "Saving checkpoint/run2/model-16000\n",
      "Saving checkpoint/run2/model-16000\n",
      "======== SAMPLE 1 ========\n",
      ". He had an iron pan, and in it hung a basket full of gold and silver.\n",
      "` So it shall be .'\n",
      "The next morning the prince set his foot on board a ship, and was soon as good as well sailing on the water ; but he never thought of land till his return, when, taking advantage of his journey in the meantime, he happened to pick up the golden ball, and bring it back to the country of the great king his father.\n",
      "But he found that he was a long way off, and had a great time to get his wife and a good wife for all, so as to prevent her being separated from him ; and she told him of her sorrow and longing.\n",
      "` I shall have to bear the burden!\n",
      "I shall be a poor lad at home .'\n",
      "And her father told her how he had loved and loved her as well as a lion ; and she said, ` We must work together as men, and each of us will bring in his own way .'\n",
      "So they worked together, and when the king asked the eldest of his three subjects what the princess meant, he said, ` If all goes well, I will bring you back with me .'\n",
      "So the other two went to lay the golden ball, and when he had brought it he made it dance up to his father, and said, ` You are the fairest and most beautiful princess ; so you shall come back with me to the castle .'\n",
      "But when the elder son had thrown some stones into the water and turned the ball over in his hands, he was driven off with a great shriek, and the youngest son was only frightened .'\n",
      "I had always loved you, ' said he, ` but you are dead in all the world .'\n",
      "But the king was so terrified and much vexed before him that all were afraid to see it, and he could do nothing for fear of their looking for his daughter.\n",
      "When the princess was far off, she sat down upon a stone, and said to herself what would be the end of it all for her if the ball was not returned at once.\n",
      "And so she went back to her own family, and asked her mother , ` Come into the palace in safety, with this ball, ' and she waited for the arrival of her father.\n",
      "And when that was announced the king 's son threw down the basket as fast as he could, and put it behind him.\n",
      "So the younger princess came out of the boat, and told him what had been done when he had come back from the country of the Great King his father.\n",
      "` But this is as a long time as mine, ' replied the princess .'\n",
      "I was going by your daughter, the Queen of the Seas ; but you and her mother were driving with the money and jewels of the kingdom, so that each could leave nothing behind for you.\n",
      "Your daughter is not the least of these ; let me go now and bring her a gift .'\n",
      "The princess threw down her basket, and began to tear her hair, as she had a good hair.\n",
      "But with all her pains a brave maiden would have her hair trimmed in this fashion, and she had heard of many men who fell in love with beautiful and beautiful maidens, when they have been so badly treated.\n",
      "` Give me back my golden ball !'\n",
      "and she called out, ` It will be a beautiful prize to you and me !'\n",
      "but the king and his daughter answered, ` Even so are gold and silver, who can make a long journey from far away to where the king is .'\n",
      "` You will have to do all that the Maid of the Sea has done, or I will give it back to you .'\n",
      "But the princess held out her hand, and asked, ` Let me get back gold and silver !'\n",
      "then they threw it into the sea.\n",
      "` You have no need of that ; take leave of me, ' said the king ; ` but if you have come too far I can not take you back with me .'\n",
      "` Yes, my father will give you back my golden ball .'\n",
      "And the princess had to wait till the next day, that would have been the best time, but the royal son had got all his money and jewels and was beginning to set forth his journey ; so she gave in her money, and the journey was very long at least, because the journey-money was very large.\n",
      "At last they came, and the king returned as before, and was received with the golden ball, which was made in the palace of the great King his father, with two white gold and three red gold in it.\n",
      "And when he had laid it among the three maidens he was turned away from there, and was driven off back again to land.\n",
      "` Good luck to you, ' said the princess .'\n",
      "I have come and asked your father to give me this treasure .'\n",
      "So the king\n",
      "\n",
      "[16050 | 150.13] loss=3.11 avg=3.11\n",
      "[16100 | 233.16] loss=3.66 avg=3.39\n",
      "[16150 | 316.05] loss=3.24 avg=3.34\n",
      "[16200 | 398.95] loss=3.41 avg=3.35\n",
      "[16250 | 482.04] loss=2.65 avg=3.21\n",
      "[16300 | 565.10] loss=3.39 avg=3.24\n",
      "[16350 | 648.27] loss=2.46 avg=3.13\n",
      "[16400 | 731.38] loss=2.63 avg=3.06\n",
      "[16450 | 814.52] loss=3.48 avg=3.11\n",
      "[16500 | 897.57] loss=2.31 avg=3.03\n",
      "Saving checkpoint/run2/model-16500\n",
      "WARNING:tensorflow:From /tensorflow-1.15.2/python3.6/tensorflow_core/python/training/saver.py:963: remove_checkpoint (from tensorflow.python.training.checkpoint_management) is deprecated and will be removed in a future version.\n",
      "Instructions for updating:\n",
      "Use standard file APIs to delete files with this prefix.\n",
      "[16550 | 987.62] loss=2.70 avg=3.00\n",
      "[16600 | 1070.67] loss=2.39 avg=2.94\n",
      "[16650 | 1153.50] loss=2.36 avg=2.89\n",
      "[16700 | 1236.47] loss=3.57 avg=2.95\n",
      "[16750 | 1319.52] loss=3.00 avg=2.95\n",
      "[16800 | 1402.64] loss=2.76 avg=2.94\n",
      "[16850 | 1485.78] loss=2.45 avg=2.91\n",
      "[16900 | 1568.87] loss=2.95 avg=2.91\n",
      "[16950 | 1651.97] loss=2.68 avg=2.90\n",
      "[17000 | 1735.04] loss=3.06 avg=2.90\n",
      "Saving checkpoint/run2/model-17000\n"
     ]
    }
   ],
   "source": [
    "#FILE_FOR_TRAINING = DATA_IN_DIR + r\"cbt_train_OUT.txt\"  ## File 11 , 25.2mb\n",
    "\n",
    "gpt2.finetune(sess,\n",
    "              dataset=file_name,\n",
    "              model_name='355M',\n",
    "              steps=1000,\n",
    "              restore_from='latest', # fresh to start from baseline GTP-2 , else latest to restarting training from existing checkpoint\n",
    "              overwrite=True,\n",
    "              run_name='run2',\n",
    "              print_every=50,\n",
    "              sample_every=1000,\n",
    "              save_every=500\n",
    "              )"
   ]
  },
  {
   "cell_type": "code",
   "execution_count": null,
   "metadata": {
    "id": "TJxzi01-f1Bv"
   },
   "outputs": [],
   "source": []
  },
  {
   "cell_type": "markdown",
   "metadata": {
    "id": "qpIG2NNDgLpb"
   },
   "source": [
    "## RUN 2 - FILE 11 - third time - r\"cbt_train_OUT.txt\"  - File 11 , 25.2mb"
   ]
  },
  {
   "cell_type": "code",
   "execution_count": null,
   "metadata": {
    "colab": {
     "base_uri": "https://localhost:8080/",
     "height": 1000
    },
    "id": "H8OhkUkbf1HB",
    "outputId": "dc74f3f8-8d1d-44b5-d77f-199a6fa88013"
   },
   "outputs": [
    {
     "name": "stdout",
     "output_type": "stream",
     "text": [
      "WARNING:tensorflow:From /usr/local/lib/python3.6/dist-packages/gpt_2_simple/src/sample.py:17: where (from tensorflow.python.ops.array_ops) is deprecated and will be removed in a future version.\n",
      "Instructions for updating:\n",
      "Use tf.where in 2.0, which has the same broadcast rule as np.where\n",
      "WARNING:tensorflow:From /usr/local/lib/python3.6/dist-packages/gpt_2_simple/src/memory_saving_gradients.py:62: get_backward_walk_ops (from tensorflow.contrib.graph_editor.select) is deprecated and will be removed after 2019-06-06.\n",
      "Instructions for updating:\n",
      "Please use tensorflow.python.ops.op_selector.get_backward_walk_ops.\n",
      "Loading checkpoint checkpoint/run2/model-17000\n",
      "INFO:tensorflow:Restoring parameters from checkpoint/run2/model-17000\n"
     ]
    },
    {
     "name": "stderr",
     "output_type": "stream",
     "text": [
      "\r",
      "  0%|          | 0/1 [00:00<?, ?it/s]"
     ]
    },
    {
     "name": "stdout",
     "output_type": "stream",
     "text": [
      "Loading dataset...\n"
     ]
    },
    {
     "name": "stderr",
     "output_type": "stream",
     "text": [
      "100%|██████████| 1/1 [00:28<00:00, 28.48s/it]\n"
     ]
    },
    {
     "name": "stdout",
     "output_type": "stream",
     "text": [
      "dataset has 6257758 tokens\n",
      "Training...\n",
      "Saving checkpoint/run2/model-17000\n",
      "Saving checkpoint/run2/model-17000\n",
      "======== SAMPLE 1 ========\n",
      " foolishness about it ! ''\n",
      "She was so anxious that it really did seem as if she would not be able to speak as she spoke.\n",
      "This frightened Alice.\n",
      "How could she hope that it would really do her good?\n",
      "And how could it possibly do justice, as she sat listening with a feeling which would be hard to bear at a moment of deep thought?\n",
      "The answer, however the matter came out, was to try and see if it was possible.\n",
      "It was quite a relief to think that she would in time see and know and care for that child.\n",
      "It seemed to Alice that she had to be very careful not to make a mistake and to try hard not to make too many.\n",
      "She was very glad of it in a moment when she tried to look at her very closely -LRB- as she felt all of her fancy and curiosity betraying itself for a moment -RRB- and looked at her with some anxiety.\n",
      "And how could she possibly be sure that there was nobody here?\n",
      "And why, her very heart was already beating, and she felt quite sure that it was impossible that any one could do anything to her.\n",
      "At last, on a sudden discovery, she began : `` You ought to be really, really a-seemingly, and not so far off as in this.\n",
      "A good care, to be sure . ''\n",
      "And after a little, looking and feeling and speaking a little longer, she started off down the stairs.\n",
      "Her mind was so full of all kinds and hopes and thoughts and worries, and desires, and fears, and thoughts which were not, at all likely to return : she was afraid to begin again, and the next moment she had found her way back to her old haunts.\n",
      "It was not very easy, even for a child like hers, but she was sure of some thing, and she felt very sure of her own position now, where everybody had stopped talking, and she was too much ahead of her to begin.\n",
      "She had gone quickly to an open window, and peeped in.\n",
      "The glass was all at once filled with a new, very white and shining draught, and she could not yet determine whether the draught was water, or vapour, or vapor.\n",
      "But it was so cold that she was ready to burst into a gurgle of horror, and burst into a gurgle of delight, and she found herself quite alone in that new, sparkling spring.\n",
      "`` Who do you see in the midst of all these strange changes?\n",
      "What a wonder!\n",
      "What a wonder ! ''\n",
      "thought Alice as she looked at her glass.\n",
      "And suddenly she heard a splash against the window.\n",
      "She peeped out, and there, sitting herself up, it was no longer the glass, but her pretty little face, with all these white, shining, new features, lying all in it, and in the very chill of the dry air.\n",
      "When she looked at it a minute, it was very different!\n",
      "What do you suppose it was?\n",
      "Why, it was the face of a beautiful, dear little life, and it was the face Alice had always loved so well in her secret heart ever since it was in her first child.\n",
      "And the first breath of life that ever came ! ''\n",
      "She looked to the other side and said nothing, but just nodded her head back to her glass.\n",
      "Then the glass seemed to fill itself full of an incomparable fragrance of life.\n",
      "It seemed to Alice to have opened quite a large aperture -LRB- Alice had quite made up its mind to it -RRB- which Alice could not see at the moment with the glass.\n",
      "But with a sudden effort, she lifted off, and, peering through, she found herself in a small, dim room.\n",
      "There was only one window in it and it was narrow, and she could not see the inside.\n",
      "Only the top and side table had been taken up with snow last winter and her work.\n",
      "But she could see the picture on the table, on the old chair back of the fireplace, in the large picture table beside the fireplace, and the fire and fireplace in the corner of the dining hall.\n",
      "This was as far as she could get, and then she saw that it was not the little room, or a window, or a picture, but herself again.\n",
      "She looked at her very closely and wondered if perhaps her glass, from which in such a moment of confusion she could not see anything, might have slipped in and taken place of she was thinking of the little room, that had, in her very strange way, kept itself at its original position.\n",
      "But she did not try to see it.\n",
      "She just nodded one way and looked at her glass, and it quite vanished in a moment.\n",
      "It was like the glass to vanish, Alice thought to herself, as she looked at it to see if it really had not ? ''\n",
      "I\n",
      "\n",
      "[17050 | 150.80] loss=1.95 avg=1.95\n",
      "[17100 | 233.33] loss=2.20 avg=2.07\n",
      "[17150 | 315.96] loss=3.08 avg=2.41\n",
      "[17200 | 398.56] loss=1.98 avg=2.30\n",
      "[17250 | 481.11] loss=2.11 avg=2.26\n",
      "[17300 | 563.75] loss=2.62 avg=2.32\n",
      "[17350 | 646.38] loss=2.43 avg=2.34\n",
      "[17400 | 728.99] loss=3.09 avg=2.44\n",
      "[17450 | 811.58] loss=2.43 avg=2.44\n",
      "[17500 | 894.17] loss=2.75 avg=2.47\n",
      "Saving checkpoint/run2/model-17500\n",
      "WARNING:tensorflow:From /tensorflow-1.15.2/python3.6/tensorflow_core/python/training/saver.py:963: remove_checkpoint (from tensorflow.python.training.checkpoint_management) is deprecated and will be removed in a future version.\n",
      "Instructions for updating:\n",
      "Use standard file APIs to delete files with this prefix.\n",
      "[17550 | 983.87] loss=3.56 avg=2.57\n",
      "[17600 | 1066.51] loss=3.07 avg=2.62\n",
      "[17650 | 1149.20] loss=3.20 avg=2.66\n",
      "[17700 | 1231.77] loss=2.87 avg=2.68\n"
     ]
    }
   ],
   "source": [
    "#FILE_FOR_TRAINING = DATA_IN_DIR + r\"cbt_train_OUT.txt\"  ## File 11 , 25.2mb\n",
    "\n",
    "gpt2.finetune(sess,\n",
    "              dataset=file_name,\n",
    "              model_name='355M',\n",
    "              steps=1000,\n",
    "              restore_from='latest', # fresh to start from baseline GTP-2 , else latest to restarting training from existing checkpoint\n",
    "              overwrite=True,\n",
    "              run_name='run2',\n",
    "              print_every=50,\n",
    "              sample_every=1000,\n",
    "              save_every=500\n",
    "              )"
   ]
  },
  {
   "cell_type": "code",
   "execution_count": null,
   "metadata": {
    "id": "-xSCAyrhf_no"
   },
   "outputs": [],
   "source": []
  },
  {
   "cell_type": "code",
   "execution_count": null,
   "metadata": {
    "id": "t__YWQaff_qy"
   },
   "outputs": [],
   "source": []
  },
  {
   "cell_type": "markdown",
   "metadata": {
    "id": "LdpZQXknFNY3"
   },
   "source": [
    "## Finetune GPT-2 - FIRST TIME TRAINING RUN\n",
    "\n",
    "The next cell will start the actual finetuning of GPT-2. It creates a persistent TensorFlow session which stores the training config, then runs the training for the specified number of `steps`. (to have the finetuning run indefinitely, set `steps = -1`)\n",
    "\n",
    "The model checkpoints will be saved in `/checkpoint/run1` by default. The checkpoints are saved every 500 steps (can be changed) and when the cell is stopped.\n",
    "\n",
    "The training might time out after 4ish hours; make sure you end training and save the results so you don't lose them!\n",
    "\n",
    "**IMPORTANT NOTE:** If you want to rerun this cell, **restart the VM first** (Runtime -> Restart Runtime). You will need to rerun imports but not recopy files.\n",
    "\n",
    "Other optional-but-helpful parameters for `gpt2.finetune`:\n",
    "\n",
    "\n",
    "*  **`restore_from`**: Set to `fresh` to start training from the base GPT-2, or set to `latest` to restart training from an existing checkpoint.\n",
    "* **`sample_every`**: Number of steps to print example output\n",
    "* **`print_every`**: Number of steps to print training progress.\n",
    "* **`learning_rate`**:  Learning rate for the training. (default `1e-4`, can lower to `1e-5` if you have <1MB input data)\n",
    "*  **`run_name`**: subfolder within `checkpoint` to save the model. This is useful if you want to work with multiple models (will also need to specify  `run_name` when loading the model)\n",
    "* **`overwrite`**: Set to `True` if you want to continue finetuning an existing model (w/ `restore_from='latest'`) without creating duplicate copies. "
   ]
  },
  {
   "cell_type": "code",
   "execution_count": 12,
   "metadata": {
    "colab": {
     "base_uri": "https://localhost:8080/",
     "height": 35
    },
    "id": "Yuso-S2PqGI5",
    "outputId": "2a89d284-442f-4208-c5e6-ec6ffeb2491e"
   },
   "outputs": [
    {
     "data": {
      "application/vnd.google.colaboratory.intrinsic+json": {
       "type": "string"
      },
      "text/plain": [
       "'cbt_valid_OUT.txt'"
      ]
     },
     "execution_count": 12,
     "metadata": {
      "tags": []
     },
     "output_type": "execute_result"
    }
   ],
   "source": [
    "file_name = os.path.basename(FILE_FOR_TRAINING)\n",
    "file_name"
   ]
  },
  {
   "cell_type": "markdown",
   "metadata": {
    "id": "JVnAtJWuogQY"
   },
   "source": [
    "## RUN 2 - FILE 1 - r\"cbt_valid_OUT.txt\" - File 1 , 1.2mb\n"
   ]
  },
  {
   "cell_type": "code",
   "execution_count": 13,
   "metadata": {
    "colab": {
     "base_uri": "https://localhost:8080/",
     "height": 1000
    },
    "id": "aeXshJM-Cuaf",
    "outputId": "a8176349-7f0e-40bb-b772-a18a00e04340"
   },
   "outputs": [
    {
     "name": "stdout",
     "output_type": "stream",
     "text": [
      "WARNING:tensorflow:From /usr/local/lib/python3.6/dist-packages/gpt_2_simple/src/sample.py:17: where (from tensorflow.python.ops.array_ops) is deprecated and will be removed in a future version.\n",
      "Instructions for updating:\n",
      "Use tf.where in 2.0, which has the same broadcast rule as np.where\n",
      "WARNING:tensorflow:From /usr/local/lib/python3.6/dist-packages/gpt_2_simple/src/memory_saving_gradients.py:62: get_backward_walk_ops (from tensorflow.contrib.graph_editor.select) is deprecated and will be removed after 2019-06-06.\n",
      "Instructions for updating:\n",
      "Please use tensorflow.python.ops.op_selector.get_backward_walk_ops.\n",
      "Loading checkpoint models/355M/model.ckpt\n",
      "INFO:tensorflow:Restoring parameters from models/355M/model.ckpt\n"
     ]
    },
    {
     "name": "stderr",
     "output_type": "stream",
     "text": [
      "\r",
      "  0%|          | 0/1 [00:00<?, ?it/s]"
     ]
    },
    {
     "name": "stdout",
     "output_type": "stream",
     "text": [
      "Loading dataset...\n"
     ]
    },
    {
     "name": "stderr",
     "output_type": "stream",
     "text": [
      "100%|██████████| 1/1 [00:01<00:00,  1.55s/it]\n"
     ]
    },
    {
     "name": "stdout",
     "output_type": "stream",
     "text": [
      "dataset has 288319 tokens\n",
      "Training...\n",
      "[50 | 87.98] loss=3.43 avg=3.43\n",
      "[100 | 170.48] loss=2.40 avg=2.91\n",
      "[150 | 253.02] loss=2.65 avg=2.83\n",
      "[200 | 335.54] loss=2.57 avg=2.76\n",
      "[250 | 418.12] loss=2.27 avg=2.66\n",
      "[300 | 500.83] loss=1.26 avg=2.42\n",
      "[350 | 583.52] loss=1.96 avg=2.35\n",
      "[400 | 666.16] loss=1.50 avg=2.24\n",
      "[450 | 748.72] loss=1.20 avg=2.12\n",
      "[500 | 831.37] loss=2.64 avg=2.18\n",
      "[550 | 914.03] loss=2.68 avg=2.22\n",
      "[600 | 996.67] loss=1.80 avg=2.19\n",
      "[650 | 1079.42] loss=0.95 avg=2.09\n",
      "[700 | 1161.99] loss=1.22 avg=2.02\n",
      "[750 | 1244.58] loss=1.68 avg=2.00\n",
      "[800 | 1327.20] loss=1.89 avg=1.99\n",
      "[850 | 1409.87] loss=0.59 avg=1.90\n",
      "[900 | 1492.41] loss=0.55 avg=1.82\n",
      "[950 | 1575.07] loss=1.68 avg=1.81\n",
      "[1000 | 1657.75] loss=0.25 avg=1.72\n",
      "[1050 | 1740.49] loss=0.37 avg=1.65\n",
      "[1100 | 1823.20] loss=0.87 avg=1.61\n",
      "[1150 | 1905.86] loss=0.31 avg=1.55\n",
      "[1200 | 1988.39] loss=0.53 avg=1.50\n",
      "[1250 | 2071.07] loss=0.98 avg=1.48\n",
      "[1300 | 2153.80] loss=0.12 avg=1.42\n",
      "[1350 | 2236.44] loss=0.13 avg=1.37\n",
      "[1400 | 2318.98] loss=0.61 avg=1.34\n",
      "======== SAMPLE 1 ========\n",
      " yourself?\n",
      "If it is she it is mine ! ''\n",
      "And as he spoke he touched her and she felt all his passion and loathing disappear from her heart.\n",
      "Then he put a bullet in her heart, just as God had taken away Zamzam 's and put a bullet in her heart, just as Zamzam 's had turned into powder and gone to the dogs to get her.\n",
      "The white wolf knew that he had not killed the wrong animal, but he had done a terrible thing, and whatever else he may say, he was no coward.\n",
      "So the moment he saw the poor girl looking at him with terror in his eyes, he threw himself at her feet and said : ` Get out of this, or I will kill you !'\n",
      "` What are you afraid of?\n",
      "You are only a coward !'\n",
      "she replied .'\n",
      "I am afraid I will kill you .'\n",
      "` Let her be, or I will kill her !'\n",
      "replied the wolf.\n",
      "When the father had heard the tale, he drew a sword from his belt and brought it to the girl ; but she answered ` Yes, father, I will obey you.\n",
      "Only, if you will hand over the key to me, and give me a horse of gold.\n",
      "So do not make me a White Wolf!\n",
      "You will be sorry for me .'\n",
      "` Very well, ' said the father, ` give me a horse of gold.\n",
      "It is a splendid key, and I would not let anyone get hold of it.\n",
      "And tell me where the key is, and I will go and retrieve it .'\n",
      "So the father set out and found the key in the keyhole of one of the rooms.\n",
      "Wilhelm took the horse, and fled with the princess to a neighbouring castle, where the horse was waiting to receive the key.\n",
      "But when he came to the keyhole it was gone !'\n",
      "` Ah, my son, ' said the horse, ` we have lost the key !'\n",
      "` What has happened?\n",
      "Let me see if I may ask your advice .'\n",
      "` Set to work at once, ' answered the horse, ` and I will soon return .'\n",
      "The key had come for breakfast, and on the table beside it were a pair of boots -- Boots, a blue and gold colour, for the horse 's coat, and Boots, a very dark blue, for the horse 's feet.\n",
      "And the horse began to eat the boots, and drinking he found the key.\n",
      "` Take me to the horse, horse, horse !'\n",
      "said the horse .'\n",
      "I want to speak with you in the horse language, and all will become clear shortly.\n",
      "Now, if you will go with me, you can sleep in the horse 's fur and live on grass, and if you will not, you will have to go on as before .'\n",
      "The horse was ready to saddle, and once more the princess heard the horse 's language.\n",
      "` Give me your horse, ' he said, ` and I will gallop with you.\n",
      "If you wear the purple embroidered dress, you shall ride with me ; but if you wear the white lace, you shall remain on horseback .'\n",
      "Now the horse was far on his way to the castle, when he saw the white dress and the black horse in the courtyard.\n",
      "Now the white horse was a very majestic beast, and the black horse was nothing short of an idiot.\n",
      "So the king sent to question the horse, and when the prince came, the prince was a little stunned, and thought that the horse was speaking a foreign language.\n",
      "` What did the horse say to you ?'\n",
      "asked the horse.\n",
      "` The horse said, `` Ask to speak with me . ''\n",
      "` Why me ?'\n",
      "said the prince.\n",
      "` Ask, and I will give you a horse.\n",
      "What is there to be gained by speaking to me of my horse ?'\n",
      "` Speak to me, and I shall give you a horse.\n",
      "What is there to be gained by speaking to me of my horse ?'\n",
      "` Speak to me, and I shall give you a horse.\n",
      "I will gallop with you no longer !'\n",
      "` Why me ?'\n",
      "asked the horse.\n",
      "` Ask, and I will give you a horse.\n",
      "What is there to be gained by speaking to me of my horse ?'\n",
      "` Speak to me, and I shall give you a horse.\n",
      "If you are not a horse Master Yoshi-Daimaron, you are nothing !'\n",
      "` Then what is there to be gained by speaking to me of my horse ?'\n",
      "` Speak to me, and I shall give you a horse.\n",
      "What is there to be gained by speaking to me of my horse ?'\n",
      "And the horse said, ` Hereafter I will ride with you .'\n",
      "` Why me ?\n",
      "\n",
      "[1450 | 2425.46] loss=1.03 avg=1.32\n",
      "[1500 | 2508.62] loss=0.90 avg=1.31\n",
      "Saving checkpoint/run2/model-1500\n"
     ]
    }
   ],
   "source": [
    "sess = gpt2.start_tf_sess()\n",
    "\n",
    "#FILE_FOR_TRAINING = DATA_IN_DIR + r\"cbt_valid_OUT.txt\"  ## File 1 , 1.2mb\n",
    "\n",
    "gpt2.finetune(sess,\n",
    "              dataset=file_name,\n",
    "              model_name='355M',\n",
    "              steps=1500,\n",
    "              restore_from='fresh', # fresh to start from baseline GTP-2 , else latest to restarting training from existing checkpoint\n",
    "              run_name='run2',\n",
    "              print_every=50,\n",
    "              sample_every=1400,\n",
    "              save_every=1500\n",
    "              )"
   ]
  },
  {
   "cell_type": "code",
   "execution_count": null,
   "metadata": {
    "id": "SUoSaw3eZdJC"
   },
   "outputs": [],
   "source": []
  },
  {
   "cell_type": "code",
   "execution_count": null,
   "metadata": {
    "id": "9WG9FnqJZfsO"
   },
   "outputs": [],
   "source": []
  },
  {
   "cell_type": "markdown",
   "metadata": {
    "id": "hodJdWtKZgSq"
   },
   "source": [
    "## Save checkpoint data to google drive from non-persistent VM"
   ]
  },
  {
   "cell_type": "markdown",
   "metadata": {
    "id": "IXSuTNERaw6K"
   },
   "source": [
    "After the model is trained, you can copy the checkpoint folder to your own Google Drive.\n",
    "\n",
    "If you want to download it to your personal computer, it's strongly recommended you copy it there first, then download from Google Drive. The checkpoint folder is copied as a `.rar` compressed file; you can download it and uncompress it locally."
   ]
  },
  {
   "cell_type": "code",
   "execution_count": 12,
   "metadata": {
    "colab": {
     "base_uri": "https://localhost:8080/",
     "height": 33
    },
    "id": "VHdTL8NDbAh3",
    "outputId": "bf383672-38c5-44bd-b74a-4d958e33d034"
   },
   "outputs": [
    {
     "name": "stdout",
     "output_type": "stream",
     "text": [
      "Saved\n"
     ]
    }
   ],
   "source": [
    "gpt2.copy_checkpoint_to_gdrive(run_name='run2')\n",
    "print(f\"Saved\")"
   ]
  },
  {
   "cell_type": "code",
   "execution_count": null,
   "metadata": {
    "id": "Mc43PVTlZnrl"
   },
   "outputs": [],
   "source": []
  },
  {
   "cell_type": "markdown",
   "metadata": {
    "id": "qQJgV_b4bmzd"
   },
   "source": [
    "You're done! Feel free to go to the **Generate Text From The Trained Model** section to generate text based on your retrained model."
   ]
  },
  {
   "cell_type": "markdown",
   "metadata": {
    "id": "pel-uBULXO2L"
   },
   "source": [
    "## Load a Trained Model Checkpoint\n",
    "\n",
    "Running the next cell will copy the `.rar` checkpoint file from your Google Drive into the Colaboratory VM."
   ]
  },
  {
   "cell_type": "code",
   "execution_count": null,
   "metadata": {
    "id": "DCcx5u7sbPTD"
   },
   "outputs": [],
   "source": [
    "gpt2.copy_checkpoint_from_gdrive(run_name='run2')"
   ]
  },
  {
   "cell_type": "markdown",
   "metadata": {
    "id": "RTa6zf3e_9gV"
   },
   "source": [
    "The next cell will allow you to load the retrained model checkpoint + metadata necessary to generate text.\n",
    "\n",
    "**IMPORTANT NOTE:** If you want to rerun this cell, **restart the VM first** (Runtime -> Restart Runtime). You will need to rerun imports but not recopy files."
   ]
  },
  {
   "cell_type": "code",
   "execution_count": null,
   "metadata": {
    "colab": {
     "base_uri": "https://localhost:8080/",
     "height": 50
    },
    "id": "-fxL77nvAMAX",
    "outputId": "67ad5a96-553f-4344-88c1-5414e5677940"
   },
   "outputs": [
    {
     "name": "stdout",
     "output_type": "stream",
     "text": [
      "Loading checkpoint checkpoint/run1/model-10000\n",
      "INFO:tensorflow:Restoring parameters from checkpoint/run1/model-10000\n"
     ]
    }
   ],
   "source": [
    "sess = gpt2.start_tf_sess()\n",
    "gpt2.load_gpt2(sess, run_name='run2')"
   ]
  },
  {
   "cell_type": "code",
   "execution_count": null,
   "metadata": {
    "id": "8lXUR6v6g1Y0"
   },
   "outputs": [],
   "source": []
  },
  {
   "cell_type": "code",
   "execution_count": null,
   "metadata": {
    "id": "-dp7V1xDhMEM"
   },
   "outputs": [],
   "source": []
  },
  {
   "cell_type": "markdown",
   "metadata": {
    "id": "ClJwpF_ACONp"
   },
   "source": [
    "## Generate Text From The Trained Model\n",
    "\n",
    "After you've trained the model or loaded a retrained model from checkpoint, you can now generate text. `generate` generates a single text from the loaded model."
   ]
  },
  {
   "cell_type": "code",
   "execution_count": null,
   "metadata": {
    "colab": {
     "base_uri": "https://localhost:8080/",
     "height": 671
    },
    "id": "4RNY6RBI9LmL",
    "outputId": "6b8f1129-ebfc-405c-b520-9c5f9c83774e"
   },
   "outputs": [
    {
     "name": "stdout",
     "output_type": "stream",
     "text": [
      "The most interesting part of what we are going to do is to get into the way of it, and then we can illustrate it better with pictures and figures, and then we can make it a reality.\n",
      "So, if you want to know more about the way of life in the forest, or any other place, I think you will be interested in the following things.\n",
      "First, there is a big living tree in the forest, and it is the ancient tree of which the story is told.\n",
      "What does it do ? ''\n",
      "` As the water runs, so the tree does, ' said the old tree, as loud as it could, ` and when it is wet it needs a root-stub, for it has not quite dry enough to hold on to .'\n",
      "` And when the water is dry and the root-stub is firm, ' cried the boy.\n",
      "` Then the tree will hold on to it, and you can dig it up and put it in the water and roll it in the mud.\n",
      "If the water is cold you will feel cold inside, and that is not good.\n",
      "The roots grow wetter the longer you are holding on, so do not lose the tree, but dig it up and lay it in the water and roll it in the mud while you dig up the roots .'\n",
      "` That is the way I do it, ' cried the tree.\n",
      "` And the root-stub is a very old and very strong one, ' said the boy.\n",
      "` If you roll it up in the mud and leave it there all day, it will hold fast, and you can just move it back and forth between the roots till you get to the root-stub .'\n",
      "` What a lovely tree !'\n",
      "cried the tree.\n",
      "` And how I wish that I could get into the roots of it and see how it comes about!\n",
      "It is a very hard thing indeed to get in, and I am sure the root-stub does not come about as easily as the others, ' and the boy laughed, for he was very tired.\n",
      "` But I think I could get in if I tried, ' he said, and sat down to sleep.\n",
      "` Why should you not try ?'\n",
      "said the tree.\n",
      "` Nobody will ever think you are a child if you try for a year, ' said the boy.\n",
      "` But you might as well try, for if you fail one day you all lose the tree, and then you all have to start all over again, and nobody will have the patience to help you, ' suggested the tree.\n",
      "` But that is easy, ' answered the boy.\n",
      "` Just roll the tree over your head and try to drag it in .'\n",
      "` Very well, ' said the tree, and the boy did it.\n",
      "` Now you see that it is not as easy as the others, ' said the tree.\n",
      "` But you need not fret, for I will come again some time when it is not ready for you.\n",
      "Just let me drag the tree in myself, and then roll it up and hold on to it and drag it in.\n",
      "If you fail to do this, you all have to start all over again .'\n",
      "` Very well, ' said the tree, ` and if you really can not do it, then you all have to try.\n",
      "Now I must lead you to the water, and you can dive in with the roots.\n",
      "You had better go up pretty slowly, for you have got a long swim to do .'\n",
      "` Very well, ' declared the tree, ` then we will come to the water again, and this time you had better swim pretty gently .'\n",
      "` Very well, ' said the tree, ` then we will come to the water again, and this time you had better swim fast.\n",
      "The water is very cold, and I have only got a very little bit of skin on my back ; but I will try .'\n",
      "` Very well, ' said the tree, ` we will come to the water again, and this time you had better swim quickly.\n",
      "The water is very rough ; but you had better swim quickly before you get wet, ' and the boy did as he was bid.\n",
      "In the meantime the tree went on to the other side of the lake, and the boy swam all round it, sometimes very slowly, sometimes very quickly, but always always always, always, always, always, always, always, always, always, always, until he was tired, then he got up, and then he went to the other side of the lake.\n",
      "He swam round the side of the lake, round the shore, round the other side of the lake, and so on, and when he had got quite tired, he rolled himself up and swam on to the next side of the lake.\n",
      "` Very well, ' said the tree, ` you have got a\n"
     ]
    }
   ],
   "source": [
    "gpt2.generate(sess, run_name='run2')"
   ]
  },
  {
   "cell_type": "code",
   "execution_count": null,
   "metadata": {
    "colab": {
     "base_uri": "https://localhost:8080/",
     "height": 850
    },
    "id": "8DKMc0fiej4N",
    "outputId": "68606be1-56f7-4643-e250-5b83b5edd1c4"
   },
   "outputs": [
    {
     "name": "stdout",
     "output_type": "stream",
     "text": [
      "man cycling down road in park-like fashion.\n",
      "The old man had gone to the enclosure rather for a stroll, and he wore a pair of spectacles and a long white frock, for he had come to look on the world through his spectacles.\n",
      "The girls were just going to get their first love-letter when a voice said to them from the window : `` My deares, I am going to tell you at once that I have a great deal to tell you.\n",
      "It is a rare thing for me to do, and not often I find it so agreeable.\n",
      "I do not want to talk too long, for I shall be troubled if you do not tell me at once, for I shall never be able to trust you, and then if the world does not seem quite fair to me, and I am so lonely, I shall just be miserable and refuse to be happy at all -- '' He stopped suddenly, and her eyes filled with tears as she gazed sadly into the old man 's tall face.\n",
      "`` Oh, father!\n",
      "oh, father!\n",
      "I am so sorry.\n",
      "Is there really no way for me to get out of this prison ? ''\n",
      "said the girl, who never had any heart, and was really\n",
      "====================\n",
      "man cycling down road in park, when a little boy came out of a house and asked what was the matter: ' A man has gone away from me and taken my child, ' said the woman, and warned him to be careful and bring him back again .'\n",
      "I will bring him back again, ' answered the boy, and the woman ran off to the man 's house, where she called her husband, who went away with the child .'\n",
      "I am very sorry that you must suffer for my mistake, ' said the husband, when he came back with the boy.\n",
      "` The poor old woman was so afraid that the man would find the child and take it back again, and she felt so bad that she could not speak.\n",
      "I must go and ask Mother, ' replied the wife, who was hungry and wanted a little something.\n",
      "` Oh, I have nothing, ' replied the husband, ' I only have a bit of corn to eat, and I will bring it home when I get home .'\n",
      "` What a pretty bit of corn you have !'\n",
      "said the wife, and she thought her husband would give her some more, but he only gave her a bit, and then she went in search of her husband,\n",
      "====================\n",
      "man cycling down road in park, and the children, who were wandering about the neighborhood, particularly loved it.\n",
      "The little girls, who were now about their teens or twenties, had never been taught how to ride a bicycle, or even to run, and at first they were apt to talk of their pains when they were not borne along by the wind.\n",
      "But this quickly became a thing of the past, and the girls enjoyed their ride, their cup of coffee, and their flight, until they were tired, and felt that it was a pleasure to lie on the grass and get a little rest, while the sun lay low and sweetly shone on their cheeks.\n",
      "Then they all stirred up and watched the boys, for they had been instructed, and the boys were fond of the monotonous race, which was now being won by one lad and won by another.\n",
      "They knew it was their duty to keep an eye out for the winner, for they would go home with him, and the prize money was to be divided as they had been told.\n",
      "The race was a very lively one, for the boys had found their mates, and they were beginning to feel that it was their duty to do something for the fun of the race, and so they\n",
      "====================\n",
      "man cycling down road in park, and at the same time dropping the reins and letting the little load gallop under the wide bridge.\n",
      "` It is an excellent piece of work, ' said Dick, who was fond of it, ` and, before the children have even learnt how to ride, I will show them how to stand on their heads again .'\n",
      "So he took the bridle in his hand, and, beginning to roll it over, laid it down again to the child 's great dismay.\n",
      "` Jump lightly on the top of the bridge, and try to catch hold of the reins, ' said Dick, who was a good rider, and rather a cranky old fellow.\n",
      "` If you fail, you all burst, ' whispered the old dame.\n",
      "` No, I wo n't burst.\n",
      "That old idiot cannot be trusted .'\n",
      "` Oh, well, then, we will try the other bridge.\n",
      "That is a little easier, ' said Dick, who had always a strong liking for the broad bridge.\n",
      "` Now we must try the long one.\n",
      "It is a little higher.\n",
      "Here comes the dear old Queen.\n",
      "I know her, and I will show you how to ride her.\n",
      "\n",
      "====================\n",
      "man cycling down road in park, and many a horse and rider flying, for the dear old soul was still trying to find her way back.\n",
      "The old man was very busy, but it was plain he was very proud of his horse and rider, and it was even so when the little white mare came tumbling down the lane with a crash, and the old man and the white mare laughed together.\n",
      "Such a scene as they made as they went up the avenue, and the little white mare was quite unconscious of the fact, and only felt the dirt as it rolled down her face, and then she looked up and saw the dust, and it was quite like a whirlwind with six or seven little bangs on the ground.\n",
      "The old man went to her, held her close, and asked what the trouble was, and the old mare answered that her master was angry with her for stopping to talk with the little white mare.\n",
      "`` Oh, how stupid of me ! ''\n",
      "cried the old man, `` and how can I help you ? ''\n",
      "`` My master is a great lord, '' said the mare, `` but he is only a horse-dealer, '' and so she was, and very soon the\n",
      "====================\n"
     ]
    }
   ],
   "source": [
    "gpt2.generate(sess,\n",
    "              length=250,\n",
    "              temperature=0.7,\n",
    "              prefix=\"man cycling down road in park\",\n",
    "              nsamples=5,\n",
    "              batch_size=5\n",
    "              )"
   ]
  },
  {
   "cell_type": "markdown",
   "metadata": {
    "id": "zjjEN2Tafhl2"
   },
   "source": [
    "For bulk generation, you can generate a large amount of text to a file and sort out the samples locally on your computer. The next cell will generate a generated text file with a unique timestamp.\n",
    "\n",
    "You can rerun the cells as many times as you want for even more generated texts!"
   ]
  },
  {
   "cell_type": "code",
   "execution_count": null,
   "metadata": {
    "id": "Fa6p6arifSL0"
   },
   "outputs": [],
   "source": [
    "gen_file = 'gpt2_gentext_{:%Y%m%d_%H%M%S}.txt'.format(datetime.utcnow())\n",
    "\n",
    "gpt2.generate_to_file(sess,\n",
    "                      destination_path=gen_file,\n",
    "                      length=500,\n",
    "                      temperature=0.7,\n",
    "                      nsamples=100,\n",
    "                      batch_size=20\n",
    "                      )"
   ]
  },
  {
   "cell_type": "code",
   "execution_count": null,
   "metadata": {
    "id": "0-LRex8lfv1g"
   },
   "outputs": [],
   "source": [
    "# may have to run twice to get file to download\n",
    "files.download(gen_file)"
   ]
  },
  {
   "cell_type": "code",
   "execution_count": null,
   "metadata": {
    "id": "YrWyx6_0xz2p"
   },
   "outputs": [],
   "source": []
  },
  {
   "cell_type": "code",
   "execution_count": null,
   "metadata": {
    "id": "GQZ2q98pg1gP"
   },
   "outputs": [],
   "source": []
  },
  {
   "cell_type": "markdown",
   "metadata": {
    "id": "h8wdPysMg4SQ"
   },
   "source": [
    "## Next section"
   ]
  },
  {
   "cell_type": "code",
   "execution_count": null,
   "metadata": {
    "id": "6wErIzY6g1jf"
   },
   "outputs": [],
   "source": []
  },
  {
   "cell_type": "code",
   "execution_count": null,
   "metadata": {
    "id": "kRnkd2tRg1mv"
   },
   "outputs": [],
   "source": []
  },
  {
   "cell_type": "markdown",
   "metadata": {
    "id": "QQAN3M6RT7Kj"
   },
   "source": [
    "## Generate Text From The Pretrained Model\n",
    "\n",
    "If you want to generate text from the pretrained model, not a finetuned model, pass `model_name` to `gpt2.load_gpt2()` and `gpt2.generate()`.\n",
    "\n",
    "This is currently the only way to generate text from the 774M or 1558M models with this notebook."
   ]
  },
  {
   "cell_type": "markdown",
   "metadata": {
    "id": "oF4-PqF0Fl7R"
   },
   "source": [
    "If you're creating an API based on your model and need to pass the generated text elsewhere, you can do `text = gpt2.generate(sess, return_as_list=True)[0]`\n",
    "\n",
    "You can also pass in a `prefix` to the generate function to force the text to start with a given character sequence and generate text from there (good if you add an indicator when the text starts).\n",
    "\n",
    "You can also generate multiple texts at a time by specifing `nsamples`. Unique to GPT-2, you can pass a `batch_size` to generate multiple samples in parallel, giving a massive speedup (in Colaboratory, set a maximum of 20 for `batch_size`).\n",
    "\n",
    "Other optional-but-helpful parameters for `gpt2.generate` and friends:\n",
    "\n",
    "*  **`length`**: Number of tokens to generate (default 1023, the maximum)\n",
    "* **`temperature`**: The higher the temperature, the crazier the text (default 0.7, recommended to keep between 0.7 and 1.0)\n",
    "* **`top_k`**: Limits the generated guesses to the top *k* guesses (default 0 which disables the behavior; if the generated output is super crazy, you may want to set `top_k=40`)\n",
    "* **`top_p`**: Nucleus sampling: limits the generated guesses to a cumulative probability. (gets good results on a dataset with `top_p=0.9`)\n",
    "* **`truncate`**: Truncates the input text until a given sequence, excluding that sequence (e.g. if `truncate='<|endoftext|>'`, the returned text will include everything before the first `<|endoftext|>`). It may be useful to combine this with a smaller `length` if the input texts are short.\n",
    "*  **`include_prefix`**: If using `truncate` and `include_prefix=False`, the specified `prefix` will not be included in the returned text."
   ]
  },
  {
   "cell_type": "code",
   "execution_count": null,
   "metadata": {
    "colab": {
     "base_uri": "https://localhost:8080/",
     "height": 131
    },
    "id": "hsUd_jHgUZnD",
    "outputId": "ae4e2a10-8bba-4449-98bb-442402bf06f7"
   },
   "outputs": [
    {
     "name": "stderr",
     "output_type": "stream",
     "text": [
      "Fetching checkpoint: 1.05Mit [00:00, 325Mit/s]                                                      \n",
      "Fetching encoder.json: 1.05Mit [00:00, 111Mit/s]                                                    \n",
      "Fetching hparams.json: 1.05Mit [00:00, 243Mit/s]                                                    \n",
      "Fetching model.ckpt.data-00000-of-00001: 3.10Git [00:46, 67.1Mit/s]                                 \n",
      "Fetching model.ckpt.index: 1.05Mit [00:00, 187Mit/s]                                                \n",
      "Fetching model.ckpt.meta: 2.10Mit [00:00, 119Mit/s]                                                 \n",
      "Fetching vocab.bpe: 1.05Mit [00:00, 167Mit/s]                                                       \n"
     ]
    }
   ],
   "source": [
    "model_name = \"774M\"\n",
    "\n",
    "gpt2.download_gpt2(model_name=model_name)"
   ]
  },
  {
   "cell_type": "code",
   "execution_count": null,
   "metadata": {
    "colab": {
     "base_uri": "https://localhost:8080/",
     "height": 50
    },
    "id": "BAe4NpKNUj2C",
    "outputId": "5ec82313-13c6-4ea0-ced6-01ad4756ce3c"
   },
   "outputs": [
    {
     "name": "stdout",
     "output_type": "stream",
     "text": [
      "Loading pretrained model models/774M/model.ckpt\n",
      "INFO:tensorflow:Restoring parameters from models/774M/model.ckpt\n"
     ]
    }
   ],
   "source": [
    "sess = gpt2.start_tf_sess()\n",
    "\n",
    "gpt2.load_gpt2(sess, model_name=model_name)"
   ]
  },
  {
   "cell_type": "code",
   "execution_count": null,
   "metadata": {
    "colab": {
     "base_uri": "https://localhost:8080/",
     "height": 35
    },
    "id": "6oAtJP2oyfAy",
    "outputId": "19b04791-0977-4a64-b098-36637cf0953a"
   },
   "outputs": [
    {
     "data": {
      "application/vnd.google.colaboratory.intrinsic+json": {
       "type": "string"
      },
      "text/plain": [
       "'man walking past tv in his house. man riding bike in a park. woman holding her hand bag.'"
      ]
     },
     "execution_count": 12,
     "metadata": {
      "tags": []
     },
     "output_type": "execute_result"
    }
   ],
   "source": [
    "seed_sents = [\n",
    "              'man walking past tv in his house',\n",
    "              'man riding bike in a park',\n",
    "              'woman holding her hand bag']\n",
    "#seed_sents = r'. '.join(seed_sents) + r'.'\n",
    "#seed_sents"
   ]
  },
  {
   "cell_type": "code",
   "execution_count": null,
   "metadata": {
    "colab": {
     "base_uri": "https://localhost:8080/",
     "height": 1000
    },
    "id": "ypU2SZm824RE",
    "outputId": "5cb9d2df-7a45-4a33-ca67-9051e917c8d7"
   },
   "outputs": [
    {
     "name": "stdout",
     "output_type": "stream",
     "text": [
      "*****************************************************************\n",
      "********** Sent = <<man riding bike in a park.>> **********\n",
      "\n",
      "WARNING:tensorflow:From /usr/local/lib/python3.6/dist-packages/gpt_2_simple/src/sample.py:32: where (from tensorflow.python.ops.array_ops) is deprecated and will be removed in a future version.\n",
      "Instructions for updating:\n",
      "Use tf.where in 2.0, which has the same broadcast rule as np.where\n",
      "man riding bike in a park.\n",
      "\n",
      "In another case, an employee of a local school who was a suspect in a burglary was arrested on a charge of assault with a deadly weapon.\n",
      "\n",
      "The alleged victim of the burglary was also arrested on a charge of assault with a deadly weapon.\n",
      "\n",
      "The accused had been on the run since the crime.\n",
      "\n",
      "In a third case, a man was arrested in connection with the robbery of a woman at gunpoint.\n",
      "\n",
      "The man was also arrested on a charge of assault with a deadly weapon.<|endoftext|>THE WORLD'S LARGEST COMPUTER HACKING CONFERENCE\n",
      "\n",
      "The World's Largest Computer Hacking Conference is a place where people from all over the world come to learn and share their\n",
      "====================\n",
      "man riding bike in a park. The next morning, he was arrested, and the police were called to his house. There, the police found a loaded pistol and a .38-caliber revolver. He was charged with the murder of his neighbor. He was convicted and sentenced to death, and died at the age of 58.\n",
      "\n",
      "I had always thought that this man was crazy. I was wrong. The gun was a toy. The gun was a toy that the police had used to murder him. The police had also used the gun to murder my friend, and the police had used the gun to kill my friend's friend, and so on.\n",
      "\n",
      "In the early 1970s, I was living in a small town in Kentucky. I was a small town in Kentucky\n",
      "====================\n",
      "man riding bike in a park. He was caught on camera with a gun, police said.\n",
      "\n",
      "It was the second arrest of a suspect in the park this week.\n",
      "\n",
      "Dylan Redding, 18, of Atlanta, was arrested Thursday after police said he pulled a gun on a woman at the park and attempted to sexually assault her.\n",
      "\n",
      "Police said the woman tried to take a photo of Redding, and he then pulled out a gun and tried to shoot her.\n",
      "\n",
      "The woman was able to run away and call 911.\n",
      "\n",
      "Redding was charged with aggravated assault and criminal trespassing.\n",
      "\n",
      "Copyright 2017 by WJXT News4Jax - All rights reserved.<|endoftext|>In a speech at the Center for Strategic and International Studies on Monday,\n",
      "====================\n",
      "man riding bike in a park.\n",
      "\n",
      "\n",
      "\"I went down to the park and he started screaming at me,\" she said. \"I was like, 'I don't know what to do, man.' I was scared, I was really scared. He just kept screaming at me, saying, 'I don't want you to go, I don't want you to go.'\"\n",
      "\n",
      "\n",
      "She said she told him she was a woman. He responded, \"I don't know what you're talking about. I'm a man.\"\n",
      "\n",
      "\n",
      "She said he told her he was \"a man.\"\n",
      "\n",
      "\n",
      "\"I was like, 'You're a man. You're a man. I'm a woman, too,'\" she said. \"He said, 'I'm not\n",
      "====================\n",
      "man riding bike in a park. He was seen riding the bike with a group of people around 4 a.m. at the intersection of 12th Avenue and North Capitol Street.\n",
      "\n",
      "Police were called to the scene at about 6:30 a.m. and later determined that the bike was stolen.\n",
      "\n",
      "Police are asking anyone with information about the bike to call Det. Ryan Williams at 503-823-0376.<|endoftext|>Story highlights Another federal judge blocked the executive order\n",
      "\n",
      "A federal appeals court in Seattle ruled against the administration\n",
      "\n",
      "Washington (CNN) A federal appeals court on Thursday blocked President Donald Trump's executive order banning citizens of seven Muslim-majority countries from entering the US.\n",
      "\n",
      "The ruling, by the 9th Circuit Court of Appeals, came\n",
      "====================\n",
      "man riding bike in a park.\n",
      "\n",
      "The victim was taken to hospital with serious injuries.\n",
      "\n",
      "Police have charged a 29-year-old man with dangerous operation of a motor vehicle causing death.\n",
      "\n",
      "The investigation is ongoing.<|endoftext|>Still loading...\n",
      "\n",
      "A B C D E F G H I J K L M N O P Q R S T U V W X Y Z 1 2 3 4 5 6 7 8 9 10 11 12 13 14 15 16 17 18 19 20 21 22 23 24 25 26 27 28 29 30 31 32 33 34 35 36 37 38 39 40 41 42 43 44 45 46 47 48 49 50 51 52 53 54 55 56 57 58 59 60 61 62 63 64 65 66 67 68 69 70 71 72 73 74 75 76 77\n",
      "====================\n",
      "man riding bike in a park.\n",
      "\n",
      "I would be very, very surprised if he was not an angel.\n",
      "\n",
      "But he is also a person who has had to come to terms with his own demons, which are too many to name.\n",
      "\n",
      "I have a lot of empathy for him. I think that we all have, in some way.\n",
      "\n",
      "I think that we all have to face up to our own demons.\n",
      "\n",
      "It's the same with James, the man who has had to accept the fact that his father is dead.\n",
      "\n",
      "It's a very sad and hard thing to deal with.\n",
      "\n",
      "But there's no doubt that he's come to terms with it.\n",
      "\n",
      "He has come to terms with it.\n",
      "\n",
      "And it's\n",
      "====================\n",
      "man riding bike in a park.\n",
      "\n",
      "The boy was wearing shorts and a T-shirt, and he was carrying a backpack.\n",
      "\n",
      "\"He said he had a backpack with his name and address on it,\" said Sgt. Richard Ellerbeck of the Los Angeles County Sheriff's Department.\n",
      "\n",
      "The boy was transported to a hospital in critical condition, but has since been upgraded to stable condition.\n",
      "\n",
      "He was wearing a backpack, which contained the backpack he was carrying, according to Ellerbeck.\n",
      "\n",
      "The boy's name is not being released because he is a juvenile.\n",
      "\n",
      "The Los Angeles County Sheriff's Department is investigating the incident.\n",
      "\n",
      "This story will be updated.<|endoftext|>BENGALURU: A group of people have formed a group\n",
      "====================\n",
      "man riding bike in a park.\n",
      "\n",
      "\"I've had a lot of issues with him in the past,\" said Robert McLaughlin, a retired civil engineer who lives in the neighborhood.\n",
      "\n",
      "\"It's just something that you're not supposed to do in a public park,\" he said.\n",
      "\n",
      "McLaughlin said he sees the incident as an example of why the city needs to get more people to use the public bike system.\n",
      "\n",
      "\"He should be ashamed of himself,\" he said.\n",
      "\n",
      "Police said the man was riding his bike on the sidewalk in front of the park at about 8 p.m. when he was approached by a man who told him to stop.\n",
      "\n",
      "Police said the man was yelling at the man to get off his bike,\n",
      "====================\n",
      "man riding bike in a park.\n",
      "\n",
      "The police, who had been called to the scene, arrived and found the girl in the street.\n",
      "\n",
      "She was taken to hospital for treatment.\n",
      "\n",
      "It is understood that the girl was on her way home when she was attacked.\n",
      "\n",
      "Police have appealed for witnesses.\n",
      "\n",
      "Anyone with information is asked to call police on 101 or Crimestoppers anonymously on 0800 555 111.<|endoftext|>I've been working with a client recently that has a small website with a couple of different types of content. The first is a blog, the second is a content management system. The blog is a single page with a few static images, a simple heading, and some text. The content management system is a website that lets you build a\n",
      "====================\n",
      "man riding bike in a park. The man had a knife in his hand, according to police.\n",
      "\n",
      "The man was shot and killed by the woman after the altercation. Police said the woman was a relative of the man and he had been involved in an argument with her.\n",
      "\n",
      "Police said the woman was treated at a hospital for a gunshot wound.\n",
      "\n",
      "The man's name has not been released.\n",
      "\n",
      "The man's family told the Times Union that he was the father of two young children.\n",
      "\n",
      "\"We're not sure what happened,\" said James Nesbitt, the man's cousin. \"He was a good guy. He wasn't a bad guy. He was just a good guy.\"\n",
      "\n",
      "Nesbitt said he was surprised by\n",
      "====================\n",
      "man riding bike in a park. He was a veteran of the Vietnam War and had served in the Army Air Corps.\n",
      "\n",
      "According to the New York Post, there were no signs of foul play and the cause of death has not yet been determined.\n",
      "\n",
      "The Park Police are investigating the case, and said the incident was being treated as a \"serious incident.\"\n",
      "\n",
      "\"It is not clear what the cause of death was, and we are working with the medical examiner's office,\" the Park Police said.\n",
      "\n",
      "A memorial was set up for the cyclist on Tuesday, with flowers, candles and messages.\n",
      "\n",
      "\"Rest in peace, Charles,\" the note read. \"You will be missed.\"\n",
      "\n",
      "On Monday, a man was shot in the head in the\n",
      "====================\n",
      "man riding bike in a park.\n",
      "\n",
      "\"It was about 10:30 p.m. when I saw the officer, and I looked down to see the officer was just riding down the street,\" he said.\n",
      "\n",
      "\"He was just riding down the street, he was walking and walking and he was just looking at people and he was just looking for the guys that were out there,\" he said.\n",
      "\n",
      "\"I just saw the officer, and I'm like, 'Are you OK? Are you OK?' He said, 'Yeah, I'm fine.' And then he just stopped.\"\n",
      "\n",
      "He said he didn't know what happened to the officer.\n",
      "\n",
      "\"I don't know if it was a traffic stop or something like that, but it's\n",
      "====================\n",
      "man riding bike in a park.\n",
      "\n",
      "He has been charged with a number of offences including one count of driving while disqualified.\n",
      "\n",
      "His next court appearance is scheduled for February 10.<|endoftext|>The Pro Football Hall of Fame announced the nominees for the 2017 class Tuesday.\n",
      "\n",
      "The top five candidates will be announced on Thursday.\n",
      "\n",
      "The following players were named as finalists for the Class of 2017:\n",
      "\n",
      "Kendall Langford, RB, San Francisco 49ers\n",
      "\n",
      "Kendall Langford, RB, San Francisco 49ers Derrick Brooks, RB, New England Patriots\n",
      "\n",
      "Derrick Brooks, RB, New England Patriots Justin Blackmon, WR, Denver Broncos\n",
      "\n",
      "Justin Blackmon, WR, Denver Broncos Calvin Johnson, WR, Detroit Lions\n",
      "\n",
      "Calvin\n",
      "====================\n",
      "man riding bike in a park.\n",
      "\n",
      "'He was the only one that was in the park,' the officer said.\n",
      "\n",
      "'He was screaming and yelling and he was screaming for his mom to call 911 and he was screaming for his dad to call 911 and he was just really upset about what had happened.\n",
      "\n",
      "'He was really upset and he was so scared.'\n",
      "\n",
      "The officer said he did not see the woman, but he does not believe she was attempting to run.\n",
      "\n",
      "The officer said he tried to get the woman to take the child to the hospital, but she refused.\n",
      "\n",
      "'She refused to give him the child and she said, \"I don't want to hurt him.\"'\n",
      "\n",
      "The officer said the woman was in the\n",
      "====================\n",
      "man riding bike in a park.\n",
      "\n",
      "The man was said to be a young man, aged in his 20s, and was wearing a blue, open-necked shirt, a dark blue jeans and black trainers.\n",
      "\n",
      "He was not wearing a helmet.\n",
      "\n",
      "A spokeswoman for the Met said: \"Police were called to a report of a man in his 20s riding a bike in a park.\n",
      "\n",
      "\"He was treated by paramedics for minor injuries and released.\n",
      "\n",
      "\"We are not treating this as suspicious.\"\n",
      "\n",
      "The man was then seen walking towards the station.\n",
      "\n",
      "A Met spokesman added: \"We are appealing for witnesses to the incident.\n",
      "\n",
      "\"Anyone with information should call police on 101 or Crimestoppers anonymously on 0800\n",
      "====================\n",
      "man riding bike in a park.\n",
      "\n",
      "\"I don't think that there was any sort of attempt to go out there and target someone else,\" he said.\n",
      "\n",
      "\"We've been talking to the families and the people who have been affected by this and we're trying to figure out what we can do to help them.\n",
      "\n",
      "\"This is a tragic event and we're trying to get to the bottom of it.\"\n",
      "\n",
      "Topics: murder-and-manslaughter, crime, law-crime-and-justice, sydney-2000, nsw, australia\n",
      "\n",
      "First posted<|endoftext|>The first thing I noticed was the huge amount of knives on display, but I was also intrigued by the sheer number of knives on display, and it turned out\n",
      "====================\n",
      "man riding bike in a park.\n",
      "\n",
      "And the council's own policy seems to have something to do with it: the 2011 policy notes that, \"The Council does not consider the presence of a bicycle in the park to be a nuisance or a safety hazard.\"\n",
      "\n",
      "So what does this mean for the bike lane?\n",
      "\n",
      "The bike lane is going to remain a two-way street. That means that if you want to take the bike lane, you're going to have to change the way you're driving.\n",
      "\n",
      "The bike lane is going to remain a two-way street. That means that if you want to take the bike lane, you're going to have to change the way you're driving.\n",
      "\n",
      "That means that you'll need to either use your\n",
      "====================\n",
      "man riding bike in a park. The man was not injured.\n",
      "\n",
      "The man is still in custody.<|endoftext|>S.F. homeless man is accused of stabbing homeless man in park\n",
      "\n",
      "A homeless man was stabbed on the corner of Fillmore and Mission streets in San Francisco on Tuesday, Feb. 11, 2017. A homeless man was stabbed on the corner of Fillmore and Mission streets in San Francisco on Tuesday, Feb. 11, 2017. Photo: Santiago Mejia / The Chronicle Buy photo\n",
      "\n",
      "A homeless man was stabbed on the corner of Fillmore and Mission streets in San Francisco on Tuesday, Feb. 11, 2017. A homeless man was stabbed on the corner of Fillmore and Mission streets in San Francisco on Tuesday, Feb. 11, 2017. Photo\n",
      "====================\n",
      "man riding bike in a park.\n",
      "\n",
      "\"I'm a big fan of cycling,\" said the woman, who declined to give her name. \"I think it's great for the environment and I think it's great for people.\"\n",
      "\n",
      "The woman, who lives in a town of about 2,000, said she first heard about the \"H-Bomb\" bike from a friend. She said she doesn't know how the bike got to the park, but she said the city should have been more aware of the potential for damage.\n",
      "\n",
      "\"I don't think it's fair to the city that the city is spending millions of dollars to put a bike lane on a street that doesn't have a bike lane,\" the woman said.\n",
      "\n",
      "City spokesman Craig Edwards said\n",
      "====================\n",
      "*****************************************************************\n",
      "********** Sent = <<two dogs walking with owner.>> **********\n",
      "\n",
      "two dogs walking with owner.\n",
      "\n",
      "It's unclear if the owner was in the car, but police said they have video of the incident.\n",
      "\n",
      "The owner was not injured.<|endoftext|>With the game's release approaching, we've already seen the first level of the game, but the game's creator, Nnooo, has posted a new video of the first level, which you can watch below.\n",
      "\n",
      "The new level, which is available for the Wii U Virtual Console, is called \"Wormwood,\" and features a brand new boss battle.\n",
      "\n",
      "In the new video, we see the new boss, a purple worm named \"The Wormwood,\" who is a bit difficult to defeat. He is a bit like a \"Piranha Plant\" boss\n",
      "====================\n",
      "two dogs walking with owner.\n",
      "\n",
      "\"He was walking and I went up to him and said, 'You know, you need to go back to work. You're getting older,'\" he said.\n",
      "\n",
      "\"I don't know if I should have done it or not. I was scared. I was scared of what would happen to him. I didn't want him to get hurt. I didn't want him to get hurt. I was scared that if I did he would do something to me.\"\n",
      "\n",
      "He said he didn't want to lose his job.\n",
      "\n",
      "\"I don't know if I should have done it or not. I was scared. I was scared of what would happen to him. I didn't want him to get hurt. I\n",
      "====================\n",
      "two dogs walking with owner.\n",
      "\n",
      "4. The dog owner may not permit the dog to wander in public in any manner.\n",
      "\n",
      "5. The dog owner may not allow the dog to wander in public in any manner if the dog is dangerous or if the dog is in the process of being trained.\n",
      "\n",
      "6. The dog owner may not allow the dog to roam in public in any manner if the dog is dangerous or if the dog is in the process of being trained.\n",
      "\n",
      "7. The dog owner may not allow the dog to roam in public in any manner if the dog is dangerous or if the dog is in the process of being trained.\n",
      "\n",
      "8. The dog owner may not allow the dog to roam in public in any manner if the dog\n",
      "====================\n",
      "two dogs walking with owner.\n",
      "\n",
      "An adult male dog was seen walking on the sidewalk, with its back turned to the owner. The owner was standing on a bench and the dog was seen standing on her lap.\n",
      "\n",
      "\"They were very small and very cute, but I thought it was a dog. It's not a dog, it's a cat,\" said neighbor Martha Gross.\n",
      "\n",
      "The dog was found about 10:30 a.m. in the 100 block of S. 12th Street, according to police.\n",
      "\n",
      "The dog was taken to a local animal shelter, where it was euthanized, police said.\n",
      "\n",
      "The owner of the dog has not been identified.\n",
      "\n",
      "Police ask anyone with information to call the Police Department's non\n",
      "====================\n",
      "two dogs walking with owner.\n",
      "\n",
      "The incident occurred in the 2400 block of West Niles Avenue around 11:30 a.m. Sunday, according to police.\n",
      "\n",
      "The owner of the dogs was not in the residence at the time, police said.\n",
      "\n",
      "Police were able to track down the owner's phone number.\n",
      "\n",
      "The owner and the dogs were taken to a local hospital for treatment, police said.\n",
      "\n",
      "No charges were filed in connection with the incident.\n",
      "\n",
      "© 2018 KSDK<|endoftext|>THE number of people claiming the disability pension has soared to nearly half a million, with an average payment of £2,500 a year.\n",
      "\n",
      "The figure is based on a new study into the status of those on the disability pension from the Disability\n",
      "====================\n",
      "two dogs walking with owner. Dog left behind. Photo: Courtesy Of Tanya C.\n",
      "\n",
      "window._taboola = window._taboola || []; _taboola.push({ mode: 'thumbnails-c', container: 'taboola-interstitial-gallery-thumbnails-20', placement: 'Interstitial Gallery Thumbnails 20', target_type: 'mix' }); _taboola.push({flush: true});\n",
      "\n",
      "The day before the shooting, a neighbor saw a man outside the home of the victims, and a woman heard shots fired. The day before the shooting, a neighbor saw a man outside the home of the victims, and a woman heard shots fired. Photo: Courtesy Of Tanya C.\n",
      "\n",
      "The day before the shooting, a neighbor saw a man outside the home of\n",
      "====================\n",
      "two dogs walking with owner.\n",
      "\n",
      "\"I had no idea what was going on. It was a surprise,\" the woman said.\n",
      "\n",
      "She was able to grab a cellphone and call 911.\n",
      "\n",
      "\"I had no idea what was going on. It was a surprise. I had no idea what was going on,\" the woman said.\n",
      "\n",
      "The dog was taken to a veterinarian. The woman said the dog appeared to be fine, but she wasn't sure.\n",
      "\n",
      "Police are investigating.<|endoftext|>St. Petersburg, FL (27403)\n",
      "\n",
      "Today\n",
      "\n",
      "Partly cloudy. A stray shower or thunderstorm is possible. High 82F. Winds ENE at 10 to 15 mph..\n",
      "\n",
      "Tonight\n",
      "\n",
      "Partly cloudy. A stray shower or\n",
      "====================\n",
      "two dogs walking with owner. He was arrested and charged with cruelty to animals.\n",
      "\n",
      "On June 22, a man was arrested in connection with the incident. The man is currently being held at the Pierce County Jail on $2,500 bond.\n",
      "\n",
      "\"I just got my dogs back, and I just want to say I am so thankful to everyone who has helped me and my family. I have no words,\" said the woman who posted the video.\n",
      "\n",
      "If you have any information about the incident, you're asked to contact police.<|endoftext|>The same day the Supreme Court upheld the Affordable Care Act's individual mandate, the Obama administration announced that it would provide tax credits to millions of Americans to help them purchase insurance.\n",
      "\n",
      "\"There is no reason why we\n",
      "====================\n",
      "two dogs walking with owner.\n",
      "\n",
      "\"The dog was not wearing a collar,\" said Sgt. Mike Tabb, spokesman for the Portland Police Bureau. \"It was not a case of someone taking the dog and leaving it in the yard.\"\n",
      "\n",
      "It's a difficult situation for the dog owner, Tabb said.\n",
      "\n",
      "\"The owner is very upset, and we want to make sure the dog is OK,\" he said. \"It's not like they took the dog in and left it in the yard. They took the dog into the yard, and then left it there.\"\n",
      "\n",
      "Tabb said the dog owner is cooperating with authorities.\n",
      "\n",
      "Police were called to the home on Southeast Broadway in Portland at 4:14 a.m. Thursday to investigate\n",
      "====================\n",
      "two dogs walking with owner.\n",
      "\n",
      "'She had been waiting for the right moment to leave the property for the past few weeks and was on her way out when she was attacked.\n",
      "\n",
      "'The attack was extremely vicious and took place on a stretch of road, which is a popular walk for people of all ages.\n",
      "\n",
      "'The attacker was wearing a dark hooded jacket and gloves, and was wearing a large black hat.\n",
      "\n",
      "'It is believed the dog was struck as the dog was coming out of the property.\n",
      "\n",
      "'The dog has since been taken to the vet and will be put down.\n",
      "\n",
      "'Police are appealing for anyone with any information on the attack to come forward.'\n",
      "\n",
      "Police are appealing for information on the attack on a\n",
      "====================\n",
      "two dogs walking with owner. A police officer is patrolling the area.\n",
      "\n",
      "Police say the dog was taken to a veterinarian.\n",
      "\n",
      "Copyright by WOODTV - All rights reserved\n",
      "\n",
      "Police say the owner was not home at the time of the incident.\n",
      "\n",
      "\"It's a very good thing that the dog was out there,\" said Sgt. Tim Kelly with the Oakland Police Department. \"I think it was an unfortunate situation, but it's a great thing for the dog.\"\n",
      "\n",
      "The dog is now in the care of the Oakland Police Department.\n",
      "\n",
      "\"We are aware of the situation and we will continue to work with the Oakland Police Department and the Alameda County Animal Control to determine if the dog will be put up for adoption,\" Kelly said.\n",
      "====================\n",
      "two dogs walking with owner. \"I'm not the first person to try this, but I'm the first to get hurt,\" he said.\n",
      "\n",
      "The owner of the dogs, who was not identified, said the dog owner was \"shocked\" at the dog's behavior.\n",
      "\n",
      "\"He said the dog was aggressive, he was scared of the dog, he didn't know what to do. He's had a dog for 12 years, he's never had a problem with it,\" the owner said.\n",
      "\n",
      "The owner said the dogs have been on the property since last November.\n",
      "\n",
      "\"We were trying to keep the property in a good condition. We didn't want to have the dogs go back in the property, and we were trying to get the\n",
      "====================\n",
      "two dogs walking with owner.\n",
      "\n",
      "\"You can see it in the pictures, it's a pretty big dog, but the dog is so much more than the size,\" said Wirt.\n",
      "\n",
      "She said she has been contacted by the Department of Natural Resources and was told the dog was euthanized.\n",
      "\n",
      "\"It was a very sad day for me,\" said Wirt.\n",
      "\n",
      "The dog's owner said she was worried about her pet because of the dog's size.\n",
      "\n",
      "\"I've got two small dogs, one of them is small, I just want to be able to take care of him,\" said Wirt.\n",
      "\n",
      "Wirt said she doesn't believe the owner was aware of the dog's size.\n",
      "\n",
      "\"I don't\n",
      "====================\n",
      "two dogs walking with owner. I have to admit, I was a little surprised to see the pups. I mean, I'm not one to judge, but I was a little surprised that the pups were not the norm. There were two pups, one male and one female. I'm not sure why they were walking so far from the house. I guess they were trying to get to a food source. I'm not sure if they were hungry or if they were just curious.\n",
      "\n",
      "As I walked, I noticed that there were a lot of other dogs in the area, so I was curious as to how many dogs were walking around. I was walking back to the house when I heard the barking of a dog. I looked up and there were two\n",
      "====================\n",
      "two dogs walking with owner. (Photo: Getty Images)\n",
      "\n",
      "In the back seat of the car, a woman who didn't want to give her name said she was on her way to her job when she heard the sound of the dog barking.\n",
      "\n",
      "\"I looked at my husband and he said, 'What's wrong? What's wrong?'\" she said. \"I said, 'I don't know, but I'm worried about my dogs. My dogs are in the car.' I said, 'Are you sure?' He said, 'Yeah, they're fine.' \"\n",
      "\n",
      "She said she pulled over to help her husband.\n",
      "\n",
      "\"He was in shock,\" she said. \"He was crying. He didn't know what to do.\"\n",
      "\n",
      "====================\n",
      "two dogs walking with owner. One of the dogs, a white dog, was carrying a leash. The other dog, a black dog, was not carrying a leash.\n",
      "\n",
      "The owner of the white dog walked up to the black dog and the black dog walked up to the white dog.\n",
      "\n",
      "The owner of the black dog was in the backyard.\n",
      "\n",
      "The owner of the white dog walked up to the black dog and the black dog walked up to the white dog.\n",
      "\n",
      "The owner of the black dog walked up to the white dog and the white dog walked up to the black dog.\n",
      "\n",
      "The owner of the white dog walked up to the black dog and the black dog walked up to the white dog.\n",
      "\n",
      "The owner of the white dog walked\n",
      "====================\n",
      "two dogs walking with owner.\n",
      "\n",
      "Cops say the dog is not being monitored at the moment and the owner is not being held responsible for the incident.\n",
      "\n",
      "The owner of the dog is cooperating with the investigation.\n",
      "\n",
      "The incident is still under investigation.\n",
      "\n",
      "We're sorry, currently this live video stream is only available inside of Utah or an approved RSL broadcast territory. We base your location on your IP address. Some providers IP addresses may show your location outside of the state, even though you are physically within the state boundaries. For more information about RSL on KSL, please see our FAQ.\n",
      "\n",
      "Photos\n",
      "\n",
      "Related Stories\n",
      "\n",
      "Pat Reavy\n",
      "\n",
      "0 Pending Comments<|endoftext|>5.0.0 In this update we've added\n",
      "====================\n",
      "two dogs walking with owner. The dogs were found dead in a yard in the 8000 block of East Burnside Street at about 3:30 a.m. Sunday.\n",
      "\n",
      "The dogs were found inside a storage area, and the owner was not at the home. The dogs were not injured.\n",
      "\n",
      "A spokesman for the Chicago Police Department said the investigation is ongoing.\n",
      "\n",
      "Anyone with information about this incident is asked to call the Homicide Tip Line at (312) 747-8477.<|endoftext|>by\n",
      "\n",
      "\"The mind is a blank canvas,\" writes Emily Dickinson. \"It has no colors, no patterns, no shades of gray, no straight lines, no straight lines of length, no straight lines of width. It is a canvas to be painted upon,\n",
      "====================\n",
      "two dogs walking with owner.\n",
      "\n",
      "The dog was left alone in the house for about half an hour.\n",
      "\n",
      "The owner arrived home and found the dog was gone.\n",
      "\n",
      "The dog was found with a bite mark on its neck and back.\n",
      "\n",
      "The dog is not in a good condition.\n",
      "\n",
      "The dog's owner is not allowed to keep the dog.\n",
      "\n",
      "The owner has to pay a $100 fine and a $250 surcharge.\n",
      "\n",
      "Anyone with information on the case is asked to call the police department at 905-546-2345.<|endoftext|>The official website for the television anime adaptation of Kōhei Horikoshi 's One Piece manga announced on Tuesday that the anime will premiere in April. The anime will also premiere in\n",
      "====================\n",
      "two dogs walking with owner. He was hit by a car.\n",
      "\n",
      "At the scene: Paul Healey, 24, from Whitstable, was attacked by two dogs as he walked his dog in the middle of the road.\n",
      "\n",
      "Police say the dogs ran into the road and attacked him.\n",
      "\n",
      "Healey was taken to hospital in a critical condition.\n",
      "\n",
      "Two dogs were taken to a vet and were in a stable condition.\n",
      "\n",
      "Mr Healey's partner, Ms Carla, told the BBC that her husband was \"very lucky\" to be alive.\n",
      "\n",
      "\"We're just really lucky,\" she said.\n",
      "\n",
      "\"I think we've just got to keep doing what we're doing and keep giving him his treats.\"\n",
      "\n",
      "Image copyright Devon\n",
      "====================\n",
      "*****************************************************************\n",
      "********** Sent = <<children playing hop scotch.>> **********\n",
      "\n",
      "children playing hop scotch.\n",
      "\n",
      "But the more people know about this game, the more they play it, and the more they understand how to play it. They see how to manage the game and they see how to score.\n",
      "\n",
      "The more people know about this game, the more they play it, and the more they understand how to play it. They see how to manage the game and they see how to score.\n",
      "\n",
      "So, what is the future of this game?\n",
      "\n",
      "The future is that the game is a lot more popular.\n",
      "\n",
      "The game is a lot more popular.\n",
      "\n",
      "The game is a lot more popular.\n",
      "\n",
      "The game is a lot more popular.\n",
      "\n",
      "The game is a lot more popular.\n",
      "\n",
      "The\n",
      "====================\n",
      "children playing hop scotch.\n",
      "\n",
      "\"It's the same thing,\" said the pilot, \"but it's a different way of looking at it.\"\n",
      "\n",
      "In the future, the U.S. Navy plans to use a drone system to survey an area of interest and then use a network of sensors and computers to help the pilot locate the target.\n",
      "\n",
      "The system would allow the pilot to know where the target is without having to land, and the operator would not have to worry about getting lost.\n",
      "\n",
      "The Navy is also working on the technology, and has awarded a contract to Lockheed Martin to develop it.\n",
      "\n",
      "The company's program manager, Joe Hines, said the system would use a mixture of sensors and computers to help the pilot locate the target\n",
      "====================\n",
      "children playing hop scotch. But it is not clear that these two players are the same person.\n",
      "\n",
      "\"I don't know who that is,\" said a senior official at the school.\n",
      "\n",
      "\"They are the same person,\" said another.\n",
      "\n",
      "The school's board of governors said it would investigate the matter.\n",
      "\n",
      "\"We will do whatever we can to find out who that is,\" said a school official.\n",
      "\n",
      "The school's vice-principal, Gautam Bhatia, said he was not aware of the students' identity and said the school was still investigating.\n",
      "\n",
      "The school was closed on Monday.\n",
      "\n",
      "The parents of the students have been asked to return the money to the school.<|endoftext|>The state of Wisconsin is\n",
      "====================\n",
      "children playing hop scotch.\n",
      "\n",
      "\"If you've been in the business for 10 years, you've seen people come in and say, 'You're the best, why don't you give it a try?'\" says Smith, who has seen his customers' enthusiasm grow over the years. \"It's become a big part of the culture of this place.\"\n",
      "\n",
      "Smith's biggest draw is the food. The restaurant is a true gem in the city of Rochester, with a patio and outdoor dining area, a small bar and a wood-fired pizza oven. Smith's is a small operation, with only about 20 employees, and Smith's is a bit of a labor of love.\n",
      "\n",
      "Smith's has been in business since 2012, but he started his career in\n",
      "====================\n",
      "children playing hop scotch. And the movie didn't disappoint. It's a beautiful film, one of those rare films that was made for a very specific kind of audience.\n",
      "\n",
      "My point is that there is a way to tell a story that is both realistic and emotional. If you take a film like A Beautiful Mind, and turn it into a children's book, you can tell a story that is both realistic and emotional. And if you take a film like The Lion King, and turn it into a children's movie, you can tell a story that is both realistic and emotional.\n",
      "\n",
      "But if you take a film like The Dark Knight, and turn it into a children's movie, you can tell a story that is both realistic and emotional. And if you\n",
      "====================\n",
      "children playing hop scotch.\n",
      "\n",
      "\"It's the kind of stuff that I like to do,\" said Joel.\n",
      "\n",
      "Joel and his wife, Stephanie, are raising three daughters, and have been working hard to build a life for them.\n",
      "\n",
      "\"We've been working on our own little little business for the last four years,\" said Joel.\n",
      "\n",
      "He and Stephanie have been working together since they were 13 years old.\n",
      "\n",
      "\"We've been selling chips at the local grocery store,\" said Joel.\n",
      "\n",
      "They're trying to open their own business, but they've been dealing with a lot of financial issues.\n",
      "\n",
      "\"We're going through a bit of a rough patch,\" said Joel.\n",
      "\n",
      "\"We're having a tough time getting\n",
      "====================\n",
      "children playing hop scotch.\n",
      "\n",
      "\"A lot of people have come up to me and said, 'I saw your blog, I was wondering what it was about. I was really surprised to see how I was able to make a living doing this,'\" she said.\n",
      "\n",
      "But with so many bloggers out there, she said, it can be difficult to find the right audience.\n",
      "\n",
      "\"I have a lot of people emailing me saying, 'I've never heard of you before, but you have such a great blog, I just want to know more about you,' and I'm like, 'I've been doing this for six years, I'm going to do it for you,'\" she said. \"It's kind of hard for me to get that\n",
      "====================\n",
      "children playing hop scotch.\n",
      "\n",
      "(This was in the 1950s, and the kids were still playing with wooden blocks and wooden tables. This was before computers.)\n",
      "\n",
      "As a result of the results, the U.S. Department of Education issued a statement in 1962 saying that \"the amount of time children spend playing with blocks is a significant factor in determining their intelligence and their ability to learn.\"\n",
      "\n",
      "The statement continued:\n",
      "\n",
      "\"The amount of time children spend playing with blocks is a significant factor in determining their intelligence and their ability to learn.\"\n",
      "\n",
      "In other words, kids who played with blocks for a long time were more likely to be smart.\n",
      "\n",
      "So, what does this mean for us?\n",
      "\n",
      "It means that kids who play with\n",
      "====================\n",
      "children playing hop scotch.\n",
      "\n",
      "The possibility of a second season of the show is not a given, but a new season of \"The Americans\" is on the horizon.\n",
      "\n",
      "\"The Americans\" is set in the Soviet Union in the early 1970s. It follows Philip and Elizabeth Jennings, a married couple who have been married for four years.\n",
      "\n",
      "The Jenningses' marriage has been on the rocks for a while, as they have been living in Russia as a result of the Soviet Union's collapse.\n",
      "\n",
      "The season has been compared to \"Homeland,\" which follows a CIA agent who moves to the United States after the fall of the Soviet Union.\n",
      "\n",
      "\"The Americans\" has been renewed for a second season.\n",
      "\n",
      "\"The Americans\"\n",
      "====================\n",
      "children playing hop scotch.\n",
      "\n",
      "\"We have a lot of work to do,\" he said.\n",
      "\n",
      "Lemay, who is not a member of the church, said he has been receiving calls from people who want to donate to the orphanage, but he is afraid he can't do it.\n",
      "\n",
      "\"I have a lot of compassion for the poor,\" he said. \"But I don't know if I can make a donation.\"\n",
      "\n",
      "He said he's worried the money might be diverted to other charities.\n",
      "\n",
      "\"I don't want to see this happen,\" he said.\n",
      "\n",
      "Lemay said he's been contacted by the Salvation Army and the Salvation Army of North America.\n",
      "\n",
      "\"I'm not sure what they're going\n",
      "====================\n",
      "children playing hop scotch.\n",
      "\n",
      "And, yes, the girls were a little bit naughty.\n",
      "\n",
      "The boys had more serious concerns, though.\n",
      "\n",
      "\"A little too close,\" said Henry. \"You know, it's not safe, especially for a boy.\"\n",
      "\n",
      "\"I know,\" said Victoria. \"But, you know, it's a little too close to be a little boy.\"\n",
      "\n",
      "\"I know,\" said Henry. \"But, you know, it's a little too close to be a little girl.\"\n",
      "\n",
      "\"I know,\" said Victoria.\n",
      "\n",
      "\"I'm not sure,\" said Henry.\n",
      "\n",
      "\"Oh, no,\" said Victoria. \"I'm sure.\"\n",
      "\n",
      "\"I know,\" said Henry.\n",
      "\n",
      "\n",
      "====================\n",
      "children playing hop scotch.\n",
      "\n",
      "\n",
      "The full story of the Great White Shark's existence and evolution is a fascinating one. The idea that a single animal can survive and reproduce in the ocean was first proposed by zoologist Charles Darwin in 1859. In the decades that followed, scientists would find a variety of species that could survive in the open ocean, including the killer whale, the Pacific white-sided dolphin, the finless porpoise, and the white-tip shark.\n",
      "\n",
      "\n",
      "However, the Great White Shark is unique in that it has evolved to be able to survive in the deep, cold waters of the ocean. This is because it lives in an area called the \"oceanic abyss.\" The oceanic abyss is the deepest part of the ocean, between\n",
      "====================\n",
      "children playing hop scotch. And while we're at it, why don't we talk about the new Star Wars film. The new one is out this Friday. It's a big movie. It's a big movie, and it's a big movie with a lot of people involved. It's a huge film. It's a big movie, and it's a big movie with a lot of characters. And it's a big movie with a lot of action, and it's a big movie with a lot of action. It's a big movie. It's a big movie, and it's a big movie. It's a big movie.\n",
      "\n",
      "But I want to talk about that one thing that I really, really like about it. I like that the director\n",
      "====================\n",
      "children playing hop scotch.\n",
      "\n",
      "The oldest is 55 years old and the youngest is 13.\n",
      "\n",
      "The oldest has been a player since she was 10, while the youngest is a child.\n",
      "\n",
      "\"They're the best players in the world. I can't believe they're so young,\" said Alexandra from the United States.\n",
      "\n",
      "The women are also taking a break from their daily training sessions to go for a walk and play basketball with their friends.\n",
      "\n",
      "\"They're very good and I think it's a good idea to take a break from training to do something like this,\" said one of the players.\n",
      "\n",
      "\"I think the kids are just trying to get some fresh air, to get some exercise,\" said another player.\n",
      "\n",
      "The team\n",
      "====================\n",
      "children playing hop scotch. \"When I first started doing the show, I got a lot of flack. It's kind of the opposite of what you're used to. It's kind of an underdog story. It's a guy who just wants to do his job. It's not like I'm trying to make money off it.\"\n",
      "\n",
      "\"I think that's the thing that we all love about it. It's not just a sitcom. It's a really honest story. It's a really funny story. And it's very relatable.\"\n",
      "\n",
      "He has the same love for the characters he plays. \"I think that's the thing that we all love about it. It's not just a sitcom. It's a really honest story. It's\n",
      "====================\n",
      "children playing hop scotch.\n",
      "\n",
      "\"I don't think he'll want to go there,\" she said. \"I don't think he'll want to go to work there. He's so emotionally attached to the place. And he's not sure about it.\"\n",
      "\n",
      "Kirby said she's worried about what she'd say to her son if he were to return to the place he once called home.\n",
      "\n",
      "\"He's grown up here,\" she said. \"He's a part of it.\"\n",
      "\n",
      "\"I'm afraid he'll be traumatized by it,\" she added. \"He's been through so much. I don't want to see that.\"\n",
      "\n",
      "Heck, who lives near the restaurant, said he was once a bouncer at\n",
      "====================\n",
      "children playing hop scotch.\n",
      "\n",
      "The mix of content and design is striking.\n",
      "\n",
      "The vast majority of the game is made up of a series of levels which are a mix of simple platforming, platforming and puzzle solving.\n",
      "\n",
      "This is in stark contrast to the gameplay shown in the trailer.\n",
      "\n",
      "The first level is a platformer with a plethora of enemies, and a boss fight at the end.\n",
      "\n",
      "The second level is a puzzle platformer with a boss fight at the end.\n",
      "\n",
      "The third level is a platformer with a boss fight at the end.\n",
      "\n",
      "The fourth level is a platformer with a boss fight at the end.\n",
      "\n",
      "The fifth level is a platformer with a boss fight at the end.\n",
      "\n",
      "====================\n",
      "children playing hop scotch.\n",
      "\n",
      "The two men were on their way to an event at the city's Gay Pride parade when they were attacked.\n",
      "\n",
      "Police said they were able to arrest one of the men, who was in his 30s, and he was being held at the Bergen County Jail in lieu of $100,000 bail.\n",
      "\n",
      "The other man was arrested on suspicion of aggravated assault, police said.\n",
      "\n",
      "Police say they have not identified the victims.<|endoftext|>\"Don't tell me you can't see a difference between the 'on the bus' and the 'on the street.' But if you can't see the difference, you can't see anything.\"\n",
      "\n",
      "The bus driver at the center of the latest controversy over the use of a\n",
      "====================\n",
      "children playing hop scotch. I was in the back seat of the car. It was a little bit of a bumpy ride.\n",
      "\n",
      "I was in the back seat of the car. It was a little bit of a bumpy ride.\n",
      "\n",
      "The second time we were in the car, we had a big pile of snow on the ground. It was a big pile of snow. I could see the white stuff and I said, \"Why are we getting into this? What's going on?\" I was trying to get out of the car. I got out of the car and I said, \"What is going on? What is going on?\" And I saw that the car was stuck.\n",
      "\n",
      "It was just a little bit of a bumpy ride\n",
      "====================\n",
      "children playing hop scotch. It was an old man's house, with a veranda, and a room in the back, with a small table, and a small window, and a window in the wall. It was the old man's room. It was a room that had been in the house of the old man for many years, and it had been the place where the old man had eaten his supper, and it was the place where he had had his bed and his bedding, and it was the place where the old man had gone to sleep. The old man had slept there for many years, and he had eaten his supper there, and he had had his bed and his bedding there, and it was the place where the old man had gone to\n",
      "====================\n"
     ]
    }
   ],
   "source": [
    "seed_sents = [\n",
    "              'man riding bike in a park',\n",
    "              'two dogs walking with owner',\n",
    "              'children playing hop scotch']\n",
    "seed_sents = [val + r'.' for val in seed_sents]\n",
    "for seed in seed_sents:\n",
    "  print(f\"*****************************************************************\\n********** Sent = <<{seed}>> **********\\n\")\n",
    "  gpt2.generate(sess,\n",
    "                model_name=model_name,\n",
    "                prefix=seed,\n",
    "                length=150,\n",
    "                temperature=0.7,\n",
    "                top_p=0.9,\n",
    "                nsamples=20,\n",
    "                batch_size=5\n",
    "                )"
   ]
  },
  {
   "cell_type": "code",
   "execution_count": null,
   "metadata": {
    "id": "fIzjn8Fs24Uf"
   },
   "outputs": [],
   "source": []
  },
  {
   "cell_type": "code",
   "execution_count": null,
   "metadata": {
    "id": "2SlivERW24Xh"
   },
   "outputs": [],
   "source": []
  },
  {
   "cell_type": "code",
   "execution_count": null,
   "metadata": {
    "id": "vEcaPQ1y24dT"
   },
   "outputs": [],
   "source": []
  },
  {
   "cell_type": "code",
   "execution_count": null,
   "metadata": {
    "colab": {
     "base_uri": "https://localhost:8080/",
     "height": 557
    },
    "id": "caplB0eQ2MPn",
    "outputId": "9238baeb-4a67-4279-d161-da7ccfff3538"
   },
   "outputs": [
    {
     "name": "stdout",
     "output_type": "stream",
     "text": [
      "man walking past tv in his house. man riding bike in a park. woman holding her hand bag. man with a dog in a park. man walking in a park. man in a park. man walking in a park. man walking in a park. man in a park. man walking in a park. man walking in a park. man walking in a park. man walking in a park. man walking in a park. man walking in a park. man walking in a park. man walking in a park. man walking in a park. man walking in a park. man walking in a park. man walking in a park. man walking in a park. man walking in a park. man walking in a park. man walking in a park. man walking in a park. man walking in a park. man walking in a park.\n",
      "====================\n",
      "man walking past tv in his house. man riding bike in a park. woman holding her hand bag.\n",
      "\n",
      "(The first is a picture of a woman and the second is a picture of a man, who is walking by tv in his house. man riding bike in a park. woman holding her hand bag. The first is a picture of a woman and the second is a picture of a man, who is walking by tv in his house. The first is a picture of a woman and the second is a picture of a man, who is walking by tv in his house. The first is a picture of a woman and the second is a picture of a man, who is walking by tv in his house. The first is a picture of a woman and the second is a picture of a man, who is walking by tv in his house\n",
      "====================\n",
      "man walking past tv in his house. man riding bike in a park. woman holding her hand bag. man walking through a park. man sitting on the ground. man walking through a park. man walking through a park. man walking through a park. man walking through a park. man walking through a park. man walking through a park. man walking through a park. man walking through a park. man walking through a park. man walking through a park. man walking through a park. man walking through a park. man walking through a park. man walking through a park. man walking through a park. man walking through a park. man walking through a park. man walking through a park. man walking through a park. man walking through a park. man walking through a park. man walking through a park. man walking through a park.\n",
      "====================\n",
      "man walking past tv in his house. man riding bike in a park. woman holding her hand bag. man walking down a street. woman walking down a street. man walking down a street. man walking down a street. man walking down a street. man walking down a street. man walking down a street. man walking down a street. man walking down a street. man walking down a street. man walking down a street. man walking down a street. man walking down a street. man walking down a street. man walking down a street. man walking down a street. man walking down a street. man walking down a street. man walking down a street. man walking down a street. man walking down a street. man walking down a street. man walking down a street. man walking down a street. man walking down a street.\n",
      "====================\n",
      "man walking past tv in his house. man riding bike in a park. woman holding her hand bag. man walking home from work. man walking home from work. man walking home from work. man walking home from work. man walking home from work. man walking home from work. man walking home from work. man walking home from work. man walking home from work. man walking home from work. man walking home from work. man walking home from work. man walking home from work. man walking home from work. man walking home from work. man walking home from work. man walking home from work. man walking home from work. man walking home from work. man walking home from work. man walking home from work. man walking home from work. man walking home from work. man walking home from work. man walking home from work.\n",
      "====================\n",
      "man walking past tv in his house. man riding bike in a park. woman holding her hand bag. man walking down the street. man walking in a park. man sitting in a car. man sitting on a bench. man sitting on a bench. man sitting on a bench. man sitting on a bench. man sitting on a bench. man sitting on a bench. man sitting on a bench. man sitting on a bench. man sitting on a bench. man sitting on a bench. man sitting on a bench. man sitting on a bench. man sitting on a bench. man sitting on a bench. man sitting on a bench. man sitting on a bench. man sitting on a bench. man sitting on a bench. man sitting on a bench. man sitting on a bench. man sitting on a bench. man sitting on a bench.\n",
      "====================\n",
      "man walking past tv in his house. man riding bike in a park. woman holding her hand bag. man walking in a park. woman walking in a park. man walking in a park. woman walking in a park. man walking in a park. man walking in a park. man walking in a park. man walking in a park. man walking in a park. man walking in a park. man walking in a park. man walking in a park. man walking in a park. man walking in a park. man walking in a park. man walking in a park. man walking in a park. man walking in a park. man walking in a park. man walking in a park. man walking in a park. man walking in a park. man walking in a park. man walking in a park. man walking in a park.\n",
      "====================\n",
      "man walking past tv in his house. man riding bike in a park. woman holding her hand bag. man sitting on bench. man walking down a street. man walking down a street. man walking down a street. man walking down a street. man walking down a street. man walking down a street. man walking down a street. man walking down a street. man walking down a street. man walking down a street. man walking down a street. man walking down a street. man walking down a street. man walking down a street. man walking down a street. man walking down a street. man walking down a street. man walking down a street. man walking down a street. man walking down a street. man walking down a street. man walking down a street. man walking down a street. man walking down a street. man\n",
      "====================\n",
      "man walking past tv in his house. man riding bike in a park. woman holding her hand bag. man walking down a street. woman walking down a street. man walking down a street. man walking down a street. man walking down a street. man walking down a street. man walking down a street. man walking down a street. man walking down a street. man walking down a street. man walking down a street. man walking down a street. man walking down a street. man walking down a street. man walking down a street. man walking down a street. man walking down a street. man walking down a street. man walking down a street. man walking down a street. man walking down a street. man walking down a street. man walking down a street. man walking down a street. man walking down a street.\n",
      "====================\n",
      "man walking past tv in his house. man riding bike in a park. woman holding her hand bag. man in a car. woman walking. man walking on the street. man walking on the street. man walking on the street. man walking on the street. man walking on the street. man walking on the street. man walking on the street. man walking on the street. man walking on the street. man walking on the street. man walking on the street. man walking on the street. man walking on the street. man walking on the street. man walking on the street. man walking on the street. man walking on the street. man walking on the street. man walking on the street. man walking on the street. man walking on the street. man walking on the street. man walking on the street. man walking on the\n",
      "====================\n",
      "man walking past tv in his house. man riding bike in a park. woman holding her hand bag. man walking in a park. man walking down a street. man walking down a street. man walking down a street. man walking down a street. man walking down a street. man walking down a street. man walking down a street. man walking down a street. man walking down a street. man walking down a street. man walking down a street. man walking down a street. man walking down a street. man walking down a street. man walking down a street. man walking down a street. man walking down a street. man walking down a street. man walking down a street. man walking down a street. man walking down a street. man walking down a street. man walking down a street. man walking down a street.\n",
      "====================\n",
      "man walking past tv in his house. man riding bike in a park. woman holding her hand bag. man walking down the street. man walking up the stairs. man walking down the street. man walking down the street. man walking down the street. man walking down the street. man walking down the street. man walking down the street. man walking down the street. man walking down the street. man walking down the street. man walking down the street. man walking down the street. man walking down the street. man walking down the street. man walking down the street. man walking down the street. man walking down the street. man walking down the street. man walking down the street. man walking down the street. man walking down the street. man walking down the street. man walking down the street. man walking down the street.\n",
      "====================\n",
      "man walking past tv in his house. man riding bike in a park. woman holding her hand bag. woman walking in a park. man walking in a park. man walking in a park. woman walking in a park. man walking in a park. woman walking in a park. man walking in a park. man walking in a park. man walking in a park. man walking in a park. man walking in a park. man walking in a park. man walking in a park. man walking in a park. man walking in a park. man walking in a park. man walking in a park. man walking in a park. man walking in a park. man walking in a park. man walking in a park. man walking in a park. man walking in a park. man walking in a park. man walking in a park.\n",
      "====================\n",
      "man walking past tv in his house. man riding bike in a park. woman holding her hand bag. man walking along street. man walking by bus stop. man walking by subway station. man walking by train. man walking in park. man walking by subway station. man walking in park. man walking by subway station. man walking by bus stop. man walking by subway station. man walking by train. man walking by subway station. man walking by train. man walking by subway station. man walking by train. man walking by train. man walking by subway station. man walking by train. man walking by train. man walking by train. man walking by train. man walking by train. man walking by train. man walking by train. man walking by train. man walking by train. man walking by train. man walking by train. man\n",
      "====================\n",
      "man walking past tv in his house. man riding bike in a park. woman holding her hand bag. man on a bike on the sidewalk. man walking down the street holding his handbag. man walking by a store with his handbag. man walking by a store with his handbag. man walking by a store with his handbag. man walking by a store with his handbag. man walking by a store with his handbag. man walking by a store with his handbag. man walking by a store with his handbag. man walking by a store with his handbag. man walking by a store with his handbag. man walking by a store with his handbag. man walking by a store with his handbag. man walking by a store with his handbag. man walking by a store with his handbag. man walking\n",
      "====================\n"
     ]
    }
   ],
   "source": [
    "seed_sents = [\n",
    "              'man walking past tv in his house',\n",
    "              'man riding bike in a park',\n",
    "              'woman holding her hand bag']\n",
    "\n",
    "seed_sents = r'. '.join(seed_sents) + r'.'\n",
    "\n",
    "gpt2.generate(sess,\n",
    "              model_name=model_name,\n",
    "              prefix=seed_sents,\n",
    "              length=150,\n",
    "              temperature=0.5,\n",
    "              top_p=0.95,\n",
    "              nsamples=15,\n",
    "              batch_size=5\n",
    "              )"
   ]
  },
  {
   "cell_type": "code",
   "execution_count": null,
   "metadata": {
    "colab": {
     "base_uri": "https://localhost:8080/",
     "height": 1000
    },
    "id": "GIvPfNSC0LBW",
    "outputId": "956cea5d-ecce-46db-aea8-6430ae2a31d5"
   },
   "outputs": [
    {
     "name": "stdout",
     "output_type": "stream",
     "text": [
      "man walking past tv in his house. man riding bike in a park. woman holding her hand bag. man walking home.\n",
      "\n",
      "A man in a pajamas walking home.\n",
      "\n",
      "A woman walking home.\n",
      "\n",
      "A man walking home.\n",
      "\n",
      "A woman walking home.\n",
      "\n",
      "A man walking home.\n",
      "\n",
      "A woman walking home.\n",
      "\n",
      "A man walking home.\n",
      "\n",
      "A woman walking home.\n",
      "\n",
      "A man walking home.\n",
      "\n",
      "A woman walking home.\n",
      "\n",
      "A man walking home.\n",
      "\n",
      "A woman walking home.\n",
      "\n",
      "A man walking home.\n",
      "\n",
      "A man walking home.\n",
      "\n",
      "A woman walking home.\n",
      "\n",
      "A man walking home.\n",
      "\n",
      "A woman walking home.\n",
      "\n",
      "A man walking home.\n",
      "\n",
      "A woman walking home.\n",
      "\n",
      "A man walking home.\n",
      "\n",
      "====================\n",
      "man walking past tv in his house. man riding bike in a park. woman holding her hand bag. woman walking down the street holding her purse. woman walking down the street holding her purse. woman walking down the street holding her purse. woman walking down the street holding her purse. woman walking down the street holding her purse. woman walking down the street holding her purse. woman walking down the street holding her purse. man walking down the street holding his purse. man walking down the street holding his purse. woman walking down the street holding her purse. woman walking down the street holding her purse. woman walking down the street holding her purse. woman walking down the street holding her purse. woman walking down the street holding her purse. woman walking down the street holding her purse. woman walking down the street holding her purse. man walking down the street holding\n",
      "====================\n",
      "man walking past tv in his house. man riding bike in a park. woman holding her hand bag. man walking down the street holding a lawnmower. man sitting on a bench in the park. man in a park with his dog. man sitting on the ground in the park. man on the bench in the park. man walking down the street holding a lawnmower. man standing on the street holding a lawnmower. man sitting on a bench in the park. man in a park with his dog. man walking down the street holding a lawnmower. man standing on the street holding a lawnmower. man sitting on a bench in the park. man in a park with his dog. man walking down the street holding a lawnmower. man standing on the street holding a lawnmower. man sitting on a bench\n",
      "====================\n",
      "man walking past tv in his house. man riding bike in a park. woman holding her hand bag. man walking through his house. woman walking through his house. man holding his hand bag. man walking past tv in his house. woman walking through his house. man holding his hand bag. man walking past tv in his house. man holding his hand bag. man walking past tv in his house. man holding his hand bag. man walking past tv in his house. man holding his hand bag. man walking past tv in his house. man holding his hand bag. man walking past tv in his house. man holding his hand bag. man walking past tv in his house. man holding his hand bag. man walking past tv in his house. man holding his hand bag. man walking past tv in his house. man holding his hand bag.\n",
      "====================\n",
      "man walking past tv in his house. man riding bike in a park. woman holding her hand bag. girl walking with dog in a park. man walking with dog in a park. man walking with dog in a park. man walking with dog in a park. man walking with dog in a park. man walking with dog in a park. man walking with dog in a park. man walking with dog in a park. man walking with dog in a park. man walking with dog in a park. man walking with dog in a park. man walking with dog in a park. man walking with dog in a park. man walking with dog in a park. man walking with dog in a park. man walking with dog in a park. man walking with dog in a park. man walking with dog in a park. man walking with dog in a\n",
      "====================\n",
      "man walking past tv in his house. man riding bike in a park. woman holding her hand bag. woman with a dog. man holding a baby. woman walking with a baby. man with a cigarette. man with a sandwich. man sitting on a bench. man walking with a dog. woman holding a baby. man walking with a baby. man walking with a baby. man walking with a baby. man walking with a baby. man walking with a dog. man walking with a dog. man walking with a dog. man walking with a dog. man walking with a dog. man walking with a dog. man walking with a dog. man walking with a dog. man walking with a dog. man walking with a dog. man walking with a dog. man walking with a dog. man walking with a dog. man walking with a dog\n",
      "====================\n",
      "man walking past tv in his house. man riding bike in a park. woman holding her hand bag. man walking along street.\n",
      "\n",
      "un-named man walking down a street. man walking in a shopping mall.\n",
      "\n",
      "un-named man walking in a mall.\n",
      "\n",
      "un-named man walking down a street. man walking in a shopping mall. man walking in a shopping mall. man walking in a shopping mall. man walking in a shopping mall. man walking in a shopping mall. man walking in a shopping mall. man walking in a shopping mall. man walking in a shopping mall. man walking in a shopping mall. man walking in a shopping mall. man walking in a shopping mall. man walking in a shopping mall. man walking in a shopping mall. man walking in a shopping mall. man walking in a shopping mall.\n",
      "====================\n",
      "man walking past tv in his house. man riding bike in a park. woman holding her hand bag. man eating a salad. man walking through a shopping mall. woman walking down the street. man walking down the street with a bag of groceries. man walking on the sidewalk. woman walking in the street. man walking in a park. woman walking in a park. man walking on the sidewalk. woman walking on the sidewalk. man walking on the sidewalk. man walking on the sidewalk. man walking on the sidewalk. man walking on the sidewalk. man walking on the sidewalk. man walking on the sidewalk. man walking on the sidewalk. man walking on the sidewalk. man walking on the sidewalk. man walking on the sidewalk. man walking on the sidewalk. man walking on the sidewalk. man walking on the sidewalk. man walking on the sidewalk. man\n",
      "====================\n",
      "man walking past tv in his house. man riding bike in a park. woman holding her hand bag. man walking on sidewalk. man walking by a park. woman walking in front of a building. man walking down street. woman walking in front of a building. woman walking in front of a building. man walking down street. woman walking in front of a building. man walking down street. woman walking in front of a building. man walking down street. woman walking in front of a building. man walking down street. woman walking in front of a building. man walking down street. man walking down street. man walking down street. man walking down street. man walking down street. man walking down street. man walking down street. man walking down street. man walking down street. man walking down street. man walking down street. man walking down\n",
      "====================\n",
      "man walking past tv in his house. man riding bike in a park. woman holding her hand bag. man looking out of a window. man with a dog walking in front of him. man walking on a sidewalk. man walking on a bike. man walking on a sidewalk with a backpack. man walking on a sidewalk with a backpack. man walking on a sidewalk with a backpack. man walking on a sidewalk with a backpack. man walking on a sidewalk with a backpack. man walking on a sidewalk with a backpack. man walking on a sidewalk with a backpack. man walking on a sidewalk with a backpack. man walking on a sidewalk with a backpack. man walking on a sidewalk with a backpack. man walking on a sidewalk with a backpack. man walking on a sidewalk with a backpack. man walking on a sidewalk with a backpack. man walking on a\n",
      "====================\n",
      "man walking past tv in his house. man riding bike in a park. woman holding her hand bag. man walking with his hands up. man walking at night. man walking in the dark. man walking with his feet up. man walking with his hands up and looking down. man walking with his hands up and looking up. man walking with his hands up and looking down. man walking with his hands up and looking up and down. man walking with his hands up and looking up and down. man walking with his hands up and looking up and down. man walking with his hands up and looking up and down. man walking with his hands up and looking up and down. man walking with his hands up and looking up and down. man walking with his hands up and looking up and down. man walking with his hands up and looking up and down\n",
      "====================\n",
      "man walking past tv in his house. man riding bike in a park. woman holding her hand bag. man in a bar. woman walking down the street. woman in a bus station. man in a shop. man in a store. man in a coffee shop. man in a coffee shop. man in a supermarket. man in a shop. man walking along the street. man in a car. woman walking along the street. man sitting in a car. woman walking along the street. man walking along the street. man walking along the street. man sitting in a car. woman walking along the street. man walking along the street. man sitting in a car. woman walking along the street. man sitting in a car. woman walking along the street. man sitting in a car. woman walking along the street. man sitting in a car.\n",
      "====================\n",
      "man walking past tv in his house. man riding bike in a park. woman holding her hand bag. dog barking. man walking by boat. man standing at window. man holding camera. man walking along street. man standing on the corner. man with a small child. man walking home. man in car with small child. man in car driving. man at store. man in car on the sidewalk. man in car on street. man in car in park. man walking down street. man walking along road. man in car. man on the phone. man walking along road. man on bike. man on bike in park. man on foot. man on foot near bus stop. man in car. man walking down street. man on foot. man on bike. man in car. man on foot. man walking along street. man on\n",
      "====================\n",
      "man walking past tv in his house. man riding bike in a park. woman holding her hand bag.\n",
      "\n",
      "Not the first time I've seen this. It seems to be a common theme in our daily lives.\n",
      "\n",
      "Now, I don't want to say that the world is going to end on a Thursday, but I do think that the world is going to change. I don't think that it will change for the better, but I do think that it will change for the worse. The world will become more like the U.S. and less like the rest of the world. The U.S. is going to become more like the U.K. and less like the rest of the world. The world will become more like the U.K. and less like the rest of the world.\n",
      "\n",
      "The U.\n",
      "====================\n",
      "man walking past tv in his house. man riding bike in a park. woman holding her hand bag. man walking through a park. woman walking down the street. woman in a store. man walking down a street. man on the street. woman in a store. man walking down the street. man riding a bike. man walking through a park. woman riding a bike. man in a shop. woman on a bus. man walking down the street. man walking down a street. man riding a bike. man walking through a park. woman riding a bike. man in a store. woman on a bus. man walking down the street. man walking down a street. man in a store. woman on a bus. man walking down the street. man walking through a park. woman on a bus. man walking down the street. man riding\n",
      "====================\n",
      "man walking past tv in his house. man riding bike in a park. woman holding her hand bag. man sitting on a bench on a park bench. man walking along side a river on a hill. woman holding her handbag. man walking along side a road. man sitting on a bench. woman holding her handbag. man walking along side a street. woman walking along side a street. man sitting on a bench. woman holding her handbag. man walking along side a street. man sitting on a bench. woman holding her handbag. man walking along side a street. man sitting on a bench. woman holding her handbag. man walking along side a street. man sitting on a bench. woman holding her handbag. man walking along side a street. man sitting on a bench. woman holding her handbag. man walking along\n",
      "====================\n",
      "man walking past tv in his house. man riding bike in a park. woman holding her hand bag. man sitting in his car on the side of the road.\n",
      "\n",
      "When you watch these videos and others like them, you might think that we've come a long way in terms of the dignity of women. But it's not true. In fact, the videos we see on TV are what the men are watching.\n",
      "\n",
      "In the late 1800s, we were still living in a society that valued male physical strength over female physical strength. The women who were married to men who were physically strong had to live a life of domestic servitude.\n",
      "\n",
      "Today, it's very different. Today, women are expected to have the same kind of male-dominated workplace that they had in the 1800s. They are expected to have the same kind\n",
      "====================\n",
      "man walking past tv in his house. man riding bike in a park. woman holding her hand bag. man driving his car on a highway. man walking in the woods. man walking in the street. man sitting on the bus. man sitting on the bus. man walking home. man walking home. man walking in the park. man walking on a hill. man walking in the park. man walking in the street. man sitting on the bus. man sitting on the bus. man walking in the park. man walking in the street. man walking in the park. man walking on a hill. man walking on a hill. man walking on a hill. man walking on a hill. man walking on a hill. man walking in the street. man walking on a hill. man walking on a hill. man walking on a hill. man walking\n",
      "====================\n",
      "man walking past tv in his house. man riding bike in a park. woman holding her hand bag. woman on stairs. woman on stairs. woman on stairs. man in a blue hoodie, walking down a street. woman in a blue hoodie, walking down a street. man walking down a street. man walking down a street. man walking down a street. man walking down a street. man walking down a street. man walking down a street. man walking down a street. man walking down a street. man walking down a street. man walking down a street. man walking down a street. man walking down a street. man walking down a street. man walking down a street. man walking down a street. man walking down a street. man walking down a street. man walking down a street. man walking down a street.\n",
      "====================\n",
      "man walking past tv in his house. man riding bike in a park. woman holding her hand bag. man standing in front of a trash can. man holding his hand up to his ear. woman walking in front of a house. man holding a bottle of water. man standing on a park bench. woman walking in front of a house. man holding his hand up to his ear. man walking in front of a house. woman walking in front of a house. man walking in front of a house. woman walking in front of a house. man walking in front of a house. woman walking in front of a house. man walking in front of a house. woman walking in front of a house. man standing on a park bench. man standing in front of a trash can. man walking in front of a house. man holding his hand up\n",
      "====================\n"
     ]
    }
   ],
   "source": [
    "seed_sents = [\n",
    "              'man walking past tv in his house',\n",
    "              'man riding bike in a park',\n",
    "              'woman holding her hand bag']\n",
    "seed_sents = r'. '.join(seed_sents) + r'.'\n",
    "gpt2.generate(sess,\n",
    "              model_name=model_name,\n",
    "              prefix=seed_sents,\n",
    "              length=150,\n",
    "              temperature=0.7,\n",
    "              top_p=0.9,\n",
    "              nsamples=20,\n",
    "              batch_size=5\n",
    "              )"
   ]
  },
  {
   "cell_type": "code",
   "execution_count": null,
   "metadata": {
    "id": "JbbdwJF10LEe"
   },
   "outputs": [],
   "source": []
  },
  {
   "cell_type": "code",
   "execution_count": null,
   "metadata": {
    "id": "g8_Hoij50LHV"
   },
   "outputs": [],
   "source": []
  },
  {
   "cell_type": "code",
   "execution_count": null,
   "metadata": {
    "id": "VilY_Mvp0LKA"
   },
   "outputs": [],
   "source": []
  },
  {
   "cell_type": "code",
   "execution_count": null,
   "metadata": {
    "id": "HnJ8FZM50LM7"
   },
   "outputs": [],
   "source": []
  },
  {
   "cell_type": "code",
   "execution_count": null,
   "metadata": {
    "colab": {
     "base_uri": "https://localhost:8080/",
     "height": 797
    },
    "id": "-xInIZKaU104",
    "outputId": "56348e28-7d08-45e3-c859-f26c0efd066d"
   },
   "outputs": [
    {
     "name": "stdout",
     "output_type": "stream",
     "text": [
      "The secret of life is that it's really easy to make it complicated,\" said Bill Nye, the host of the popular science show \"Bill Nye the Science Guy.\" \"And this is one of the reasons why we all need to be smarter about science, because we can't keep up with the amazing things that are going on all the time.\"\n",
      "\n",
      "While Nye is correct that \"everything that's going on all the time\" is making the world a better place, he misses the point. This is not\n",
      "====================\n",
      "The secret of life is in the rhythm of the universe. It's not a mystery. It's not a mystery to me. It's the nature of the universe. It's the beauty of the universe. It's the way the universe works. It's the way the universe is. It's the way the universe is going to work. It's the way the universe is. It's the way the universe is. It's the way the universe is. It's the way the universe is. It's the way\n",
      "====================\n",
      "The secret of life is in the universe.\n",
      "\n",
      "\n",
      "-\n",
      "\n",
      "The Red Devil\n",
      "\n",
      "It's the end of the world as we know it, and the only thing that can save us is a band of super-powered individuals known as the Red Devil.\n",
      "\n",
      "\n",
      "The Red Devil is a group of super-powered individuals who are seeking the secret of life and the only way they know how to do it is by taking on the roles of a variety of different super-powered individuals, each of which has their own\n",
      "====================\n",
      "The secret of life is in the mixing of the elements, and it is the mixing of the elements that makes life possible.\"\n",
      "\n",
      "But in the world of food science, the idea of a \"complex\" or \"complexity\" is almost entirely imaginary.\n",
      "\n",
      "As a scientist, I'm fascinated by the question of how life first began.\n",
      "\n",
      "It's the question that drives my work and the work of the scientists who work on it.\n",
      "\n",
      "My current research is exploring how microbes work in the first moments\n",
      "====================\n",
      "The secret of life is the journey of life, the search for the truth.\n",
      "\n",
      "4.4.2. The last thing you know\n",
      "\n",
      "There is nothing more important than the last thing you know.\n",
      "\n",
      "4.4.3. The little things that make all the difference\n",
      "\n",
      "The little things that make all the difference.\n",
      "\n",
      "4.4.4. The truth is the best teacher\n",
      "\n",
      "The truth is the best teacher.\n",
      "\n",
      "4.4.5. The truth is what\n",
      "====================\n"
     ]
    }
   ],
   "source": [
    "#gpt2.generate(sess,\n",
    "#              model_name=model_name,\n",
    "#              prefix=\"The secret of life is\",\n",
    "#              length=100,\n",
    "#              temperature=0.7,\n",
    "#              top_p=0.9,\n",
    "#              nsamples=5,\n",
    "#              batch_size=5\n",
    "#              )"
   ]
  },
  {
   "cell_type": "code",
   "execution_count": null,
   "metadata": {
    "id": "0M0AzuKrxzq7"
   },
   "outputs": [],
   "source": []
  },
  {
   "cell_type": "code",
   "execution_count": null,
   "metadata": {
    "id": "hZLMkJGExzuJ"
   },
   "outputs": [],
   "source": []
  },
  {
   "cell_type": "code",
   "execution_count": null,
   "metadata": {
    "id": "k9VL8lCRxzxI"
   },
   "outputs": [],
   "source": []
  },
  {
   "cell_type": "code",
   "execution_count": null,
   "metadata": {
    "id": "jcuD06Vrxzz4"
   },
   "outputs": [],
   "source": []
  },
  {
   "cell_type": "markdown",
   "metadata": {
    "id": "ig-KVgkCDCKD"
   },
   "source": [
    "# Etcetera\n",
    "\n",
    "If the notebook has errors (e.g. GPU Sync Fail), force-kill the Colaboratory virtual machine and restart it with the command below:"
   ]
  },
  {
   "cell_type": "code",
   "execution_count": null,
   "metadata": {
    "id": "rIHiVP53FnsX"
   },
   "outputs": [],
   "source": [
    "!kill -9 -1"
   ]
  },
  {
   "cell_type": "markdown",
   "metadata": {
    "id": "wmTXWNUygS5E"
   },
   "source": [
    "# LICENSE\n",
    "\n",
    "MIT License\n",
    "\n",
    "Copyright (c) 2019 Max Woolf\n",
    "\n",
    "Permission is hereby granted, free of charge, to any person obtaining a copy\n",
    "of this software and associated documentation files (the \"Software\"), to deal\n",
    "in the Software without restriction, including without limitation the rights\n",
    "to use, copy, modify, merge, publish, distribute, sublicense, and/or sell\n",
    "copies of the Software, and to permit persons to whom the Software is\n",
    "furnished to do so, subject to the following conditions:\n",
    "\n",
    "The above copyright notice and this permission notice shall be included in all\n",
    "copies or substantial portions of the Software.\n",
    "\n",
    "THE SOFTWARE IS PROVIDED \"AS IS\", WITHOUT WARRANTY OF ANY KIND, EXPRESS OR\n",
    "IMPLIED, INCLUDING BUT NOT LIMITED TO THE WARRANTIES OF MERCHANTABILITY,\n",
    "FITNESS FOR A PARTICULAR PURPOSE AND NONINFRINGEMENT. IN NO EVENT SHALL THE\n",
    "AUTHORS OR COPYRIGHT HOLDERS BE LIABLE FOR ANY CLAIM, DAMAGES OR OTHER\n",
    "LIABILITY, WHETHER IN AN ACTION OF CONTRACT, TORT OR OTHERWISE, ARISING FROM,\n",
    "OUT OF OR IN CONNECTION WITH THE SOFTWARE OR THE USE OR OTHER DEALINGS IN THE\n",
    "SOFTWARE."
   ]
  }
 ],
 "metadata": {
  "accelerator": "GPU",
  "colab": {
   "collapsed_sections": [
    "yBWm4BNfosxy",
    "yVMchx6-oRJO",
    "5ZYiZ4Nmo_Mf",
    "tWCjmP72pUgJ",
    "j6ZN9FBxpWCj",
    "nNzZ_KsWGEZX",
    "dAiiLIQIGT3s",
    "jHkZycctGYca",
    "TQvntJ2IGaGP",
    "-UMEX6xpGl8M",
    "RJaG6BRFgC2T",
    "JVnAtJWuogQY",
    "QQAN3M6RT7Kj"
   ],
   "name": "StyGen_GPT2_train_Run2_1.ipynb",
   "provenance": []
  },
  "kernelspec": {
   "display_name": "Python 3",
   "language": "python",
   "name": "python3"
  },
  "language_info": {
   "codemirror_mode": {
    "name": "ipython",
    "version": 3
   },
   "file_extension": ".py",
   "mimetype": "text/x-python",
   "name": "python",
   "nbconvert_exporter": "python",
   "pygments_lexer": "ipython3",
   "version": "3.7.7"
  }
 },
 "nbformat": 4,
 "nbformat_minor": 1
}
